{
 "cells": [
  {
   "cell_type": "code",
   "execution_count": 2,
   "metadata": {},
   "outputs": [
    {
     "name": "stdout",
     "output_type": "stream",
     "text": [
      "Requirement already satisfied: selenium in c:\\users\\91890\\anaconda3\\lib\\site-packages (3.141.0)\n",
      "Requirement already satisfied: urllib3 in c:\\users\\91890\\anaconda3\\lib\\site-packages (from selenium) (1.25.11)\n"
     ]
    },
    {
     "name": "stderr",
     "output_type": "stream",
     "text": [
      "WARNING: You are using pip version 20.3.3; however, version 21.1.3 is available.\n",
      "You should consider upgrading via the 'c:\\users\\91890\\anaconda3\\python.exe -m pip install --upgrade pip' command.\n"
     ]
    }
   ],
   "source": [
    "!pip install selenium"
   ]
  },
  {
   "cell_type": "code",
   "execution_count": 3,
   "metadata": {},
   "outputs": [],
   "source": [
    "import pandas as pd\n",
    "import selenium\n",
    "from selenium import webdriver\n",
    "import time\n",
    "from selenium.common.exceptions import StaleElementReferenceException, NoSuchElementException"
   ]
  },
  {
   "cell_type": "code",
   "execution_count": 4,
   "metadata": {},
   "outputs": [],
   "source": [
    "driver=webdriver.Chrome(r\"C:\\chromedriver.exe\")"
   ]
  },
  {
   "cell_type": "markdown",
   "metadata": {},
   "source": [
    "# question 1"
   ]
  },
  {
   "cell_type": "markdown",
   "metadata": {},
   "source": [
    "Write a python program to scrape data for “Data Analyst” Job position in\n",
    "“Bangalore” location. You have to scrape the job-title, job-location, company_name,\n",
    "experience_required. You have to scrape first 10 jobs data.\n",
    "This task will be done in following steps:\n",
    "1. first get the webpage https://www.naukri.com/\n",
    "2. Enter “Data Analyst” in “Skill,Designations,Companies” field and enter “Bangalore”\n",
    "in “enter the location” field.\n",
    "3. Then click the search button.\n",
    "4. Then scrape the data for the first 10 jobs results you get.\n",
    "5. Finally create a dataframe of the scraped data.\n",
    "Note- All of the above steps have to be done in code. No step is to be done manually."
   ]
  },
  {
   "cell_type": "code",
   "execution_count": 97,
   "metadata": {},
   "outputs": [],
   "source": [
    "url='https://www.naukri.com/'\n",
    "driver.get(url)"
   ]
  },
  {
   "cell_type": "code",
   "execution_count": 98,
   "metadata": {},
   "outputs": [
    {
     "data": {
      "text/plain": [
       "<selenium.webdriver.remote.webelement.WebElement (session=\"6e42025ae4d80c1858af31f928644113\", element=\"78e983f3-0368-4dd2-acc1-4a874d01b728\")>"
      ]
     },
     "execution_count": 98,
     "metadata": {},
     "output_type": "execute_result"
    }
   ],
   "source": [
    "search_job=driver.find_element_by_xpath('//input[@class=\"sugInp\"]')\n",
    "search_job"
   ]
  },
  {
   "cell_type": "code",
   "execution_count": 99,
   "metadata": {},
   "outputs": [],
   "source": [
    "# Enter “Data Analyst” in “Skill,Designations,Companies” field and \n",
    "\n",
    "search_job.send_keys(\"Data Analyst\")\n"
   ]
  },
  {
   "cell_type": "code",
   "execution_count": 100,
   "metadata": {},
   "outputs": [],
   "source": [
    "#enter “Bangalore” in “enter the location” field.\n",
    "search_loc=driver.find_element_by_id('qsb-location-sugg')\n",
    "search_loc.send_keys(\"Bangalore\")"
   ]
  },
  {
   "cell_type": "code",
   "execution_count": 101,
   "metadata": {},
   "outputs": [],
   "source": [
    "#click the search button\n",
    "search_btn=driver.find_element_by_xpath(\"//button[@class='btn']\")\n",
    "search_btn.click()"
   ]
  },
  {
   "cell_type": "code",
   "execution_count": 102,
   "metadata": {},
   "outputs": [
    {
     "data": {
      "text/plain": [
       "[<selenium.webdriver.remote.webelement.WebElement (session=\"6e42025ae4d80c1858af31f928644113\", element=\"8e3e15a1-1e27-4874-98ad-6d2b73618f2e\")>,\n",
       " <selenium.webdriver.remote.webelement.WebElement (session=\"6e42025ae4d80c1858af31f928644113\", element=\"c8540b64-aa19-4b46-b2f2-03fe6bc4cdcb\")>,\n",
       " <selenium.webdriver.remote.webelement.WebElement (session=\"6e42025ae4d80c1858af31f928644113\", element=\"bf3a7a11-6ffb-4a78-8667-878fd40ad0b3\")>,\n",
       " <selenium.webdriver.remote.webelement.WebElement (session=\"6e42025ae4d80c1858af31f928644113\", element=\"7ac539ef-8be0-43c0-bbaa-e6b7c3264ed9\")>,\n",
       " <selenium.webdriver.remote.webelement.WebElement (session=\"6e42025ae4d80c1858af31f928644113\", element=\"7e885114-d5b6-4ea8-8293-b42f80e7ec15\")>,\n",
       " <selenium.webdriver.remote.webelement.WebElement (session=\"6e42025ae4d80c1858af31f928644113\", element=\"0c5857fd-9ab1-44e3-b468-4f4b6e16e90a\")>,\n",
       " <selenium.webdriver.remote.webelement.WebElement (session=\"6e42025ae4d80c1858af31f928644113\", element=\"14b9bfca-3c29-4797-9c83-3845052b31c4\")>,\n",
       " <selenium.webdriver.remote.webelement.WebElement (session=\"6e42025ae4d80c1858af31f928644113\", element=\"286d14b0-8625-40e4-a00f-7f71cc89efe4\")>,\n",
       " <selenium.webdriver.remote.webelement.WebElement (session=\"6e42025ae4d80c1858af31f928644113\", element=\"4b039b88-9ed3-4b55-9e8c-9b054a06b968\")>,\n",
       " <selenium.webdriver.remote.webelement.WebElement (session=\"6e42025ae4d80c1858af31f928644113\", element=\"2d87498f-1d3e-49f9-be0f-2ca8f014211b\")>,\n",
       " <selenium.webdriver.remote.webelement.WebElement (session=\"6e42025ae4d80c1858af31f928644113\", element=\"4851f96f-a76a-49e7-b7ba-57f390a1e53a\")>,\n",
       " <selenium.webdriver.remote.webelement.WebElement (session=\"6e42025ae4d80c1858af31f928644113\", element=\"9b7b70fa-8e1c-48cb-84dc-5f947883e028\")>,\n",
       " <selenium.webdriver.remote.webelement.WebElement (session=\"6e42025ae4d80c1858af31f928644113\", element=\"d4bb1360-4753-478d-9b67-363e6c8fe9d8\")>,\n",
       " <selenium.webdriver.remote.webelement.WebElement (session=\"6e42025ae4d80c1858af31f928644113\", element=\"7790c85e-4a87-471b-a867-9d6801ee7cfe\")>,\n",
       " <selenium.webdriver.remote.webelement.WebElement (session=\"6e42025ae4d80c1858af31f928644113\", element=\"bd4c925a-6a90-4319-8fd6-70955c24d1ae\")>,\n",
       " <selenium.webdriver.remote.webelement.WebElement (session=\"6e42025ae4d80c1858af31f928644113\", element=\"27aa7aaa-a465-4a22-a3a9-81e3c6038057\")>,\n",
       " <selenium.webdriver.remote.webelement.WebElement (session=\"6e42025ae4d80c1858af31f928644113\", element=\"7f556c6e-c925-43ca-b62d-0dbac85165a8\")>,\n",
       " <selenium.webdriver.remote.webelement.WebElement (session=\"6e42025ae4d80c1858af31f928644113\", element=\"c44ff5d2-fdd8-4e80-89a3-c54474560756\")>,\n",
       " <selenium.webdriver.remote.webelement.WebElement (session=\"6e42025ae4d80c1858af31f928644113\", element=\"0c603056-cf87-445e-9275-727387cd28e5\")>,\n",
       " <selenium.webdriver.remote.webelement.WebElement (session=\"6e42025ae4d80c1858af31f928644113\", element=\"d2f80916-d4a8-4c5b-957e-fc4686d3a4d9\")>]"
      ]
     },
     "execution_count": 102,
     "metadata": {},
     "output_type": "execute_result"
    }
   ],
   "source": [
    "#scrape the data for the first 10 jobs results you get.\n",
    "\n",
    "\n",
    "#job title\n",
    "alltitle=driver.find_elements_by_xpath(\"//a[@class='title fw500 ellipsis']\")\n",
    "alltitle\n"
   ]
  },
  {
   "cell_type": "code",
   "execution_count": 103,
   "metadata": {},
   "outputs": [
    {
     "data": {
      "text/plain": [
       "['Senior Data Analyst',\n",
       " 'Data Analyst',\n",
       " 'Data Analyst (Data Stewards)//Immediate Joiners//Bangalore',\n",
       " 'Data Analyst with Replicon Software',\n",
       " 'Data Analyst / Sr. Data Analyst - SQL',\n",
       " 'Senior Data Analyst',\n",
       " 'Senior Data Analyst',\n",
       " 'Senior Data Analyst',\n",
       " 'Senior Associate - Data Analyst',\n",
       " 'Senior Associate - Data Analyst',\n",
       " 'Data Analyst-Immediate Joiners',\n",
       " 'Data Analyst',\n",
       " 'Data Analyst',\n",
       " 'Data Analyst',\n",
       " 'Senior Data Analyst',\n",
       " 'Data Analyst',\n",
       " 'Sr Data Analyst with Hadoop and Alteryx both are Mandate_MNC Company',\n",
       " 'Senior Data Analyst',\n",
       " 'Immediate job openings For Partner Consultant - Sizing(Data Analyst) ',\n",
       " 'Data Analyst, Component Engineering']"
      ]
     },
     "execution_count": 103,
     "metadata": {},
     "output_type": "execute_result"
    }
   ],
   "source": [
    "job_titles=[]\n",
    "for i in alltitle:\n",
    "    job_titles.append(i.text)\n",
    "\n",
    "job_titles\n"
   ]
  },
  {
   "cell_type": "code",
   "execution_count": 104,
   "metadata": {},
   "outputs": [
    {
     "data": {
      "text/plain": [
       "['Flipkart Internet Private Limited',\n",
       " 'Zilingo.com',\n",
       " 'Tech Mahindra Ltd.',\n",
       " 'Replicon Software (India) Pvt Ltd',\n",
       " 'Naukri Premium - Employer Services',\n",
       " 'Publicis Groupe',\n",
       " 'Publicis Groupe',\n",
       " 'Publicis Groupe',\n",
       " 'Sapient',\n",
       " 'Publicis Groupe',\n",
       " 'Brillio',\n",
       " 'COLLABERA',\n",
       " 'Allegis Services India Pvt. Ltd.',\n",
       " 'Allegis Services India Pvt. Ltd.',\n",
       " 'Flipkart Internet Private Limited',\n",
       " 'ANZ Banking Group',\n",
       " 'Inspiration Manpower Consultancy Pvt. Ltd.',\n",
       " 'Liventus, Inc.',\n",
       " 'RANDSTAD INDIA PVT LTD',\n",
       " 'Rockwell Automation']"
      ]
     },
     "execution_count": 104,
     "metadata": {},
     "output_type": "execute_result"
    }
   ],
   "source": [
    "#company\n",
    "companies_tags=driver.find_elements_by_xpath(\"//a[@class='subTitle ellipsis fleft']\")\n",
    "\n",
    "\n",
    "companies_tags_titles=[]\n",
    "for i in companies_tags:\n",
    "    companies_tags_titles.append(i.text)\n",
    "    \n",
    "companies_tags_titles\n"
   ]
  },
  {
   "cell_type": "code",
   "execution_count": 105,
   "metadata": {},
   "outputs": [
    {
     "data": {
      "text/plain": [
       "['4-5 Yrs',\n",
       " '0-4 Yrs',\n",
       " '5-10 Yrs',\n",
       " '2-4 Yrs',\n",
       " '2-5 Yrs',\n",
       " '5-9 Yrs',\n",
       " '6-8 Yrs',\n",
       " '1-7 Yrs',\n",
       " '4-6 Yrs',\n",
       " '1-3 Yrs',\n",
       " '4-6 Yrs',\n",
       " '2-4 Yrs',\n",
       " '5-8 Yrs',\n",
       " '8-12 Yrs',\n",
       " '2-5 Yrs',\n",
       " '3-8 Yrs',\n",
       " '7-12 Yrs',\n",
       " '5-8 Yrs',\n",
       " '1-5 Yrs',\n",
       " '2-3 Yrs']"
      ]
     },
     "execution_count": 105,
     "metadata": {},
     "output_type": "execute_result"
    }
   ],
   "source": [
    "#experience\n",
    "experience_tags=driver.find_elements_by_xpath(\"//li[@class='fleft grey-text br2 placeHolderLi experience']//span\")\n",
    "\n",
    "\n",
    "experience_tags_titles=[]\n",
    "for i in experience_tags:\n",
    "    experience_tags_titles.append(i.text)\n",
    "experience_tags_titles\n"
   ]
  },
  {
   "cell_type": "code",
   "execution_count": 106,
   "metadata": {},
   "outputs": [
    {
     "data": {
      "text/plain": [
       "['Bangalore/Bengaluru',\n",
       " 'Bangalore/Bengaluru',\n",
       " 'Bangalore/Bengaluru',\n",
       " 'Bangalore/Bengaluru',\n",
       " 'Bangalore/Bengaluru',\n",
       " 'Bangalore/Bengaluru',\n",
       " 'Bangalore/Bengaluru',\n",
       " 'Bangalore/Bengaluru',\n",
       " 'Bangalore/Bengaluru',\n",
       " 'Bangalore/Bengaluru',\n",
       " 'Bangalore/Bengaluru',\n",
       " 'Bangalore/Bengaluru',\n",
       " 'Bangalore/Bengaluru',\n",
       " 'Bangalore/Bengaluru',\n",
       " 'Bangalore/Bengaluru',\n",
       " 'Bangalore/Bengaluru',\n",
       " 'Bangalore/Bengaluru',\n",
       " 'Bangalore/Bengaluru(2nd Phase JP Nagar)',\n",
       " 'Bangalore/Bengaluru(Marathahalli)',\n",
       " 'Bangalore/Bengaluru']"
      ]
     },
     "execution_count": 106,
     "metadata": {},
     "output_type": "execute_result"
    }
   ],
   "source": [
    "#location\n",
    "location_title=driver.find_elements_by_xpath(\"//li[@class='fleft grey-text br2 placeHolderLi location']//span\")\n",
    "\n",
    "location_tags_titles=[]\n",
    "for i in location_title:\n",
    "    location_tags_titles.append(i.text)\n",
    "    \n",
    "location_tags_titles"
   ]
  },
  {
   "cell_type": "code",
   "execution_count": 107,
   "metadata": {},
   "outputs": [
    {
     "data": {
      "text/plain": [
       "['Not disclosed',\n",
       " 'Not disclosed',\n",
       " 'Not disclosed',\n",
       " 'Not disclosed',\n",
       " 'Not disclosed',\n",
       " 'Not disclosed',\n",
       " 'Not disclosed',\n",
       " 'Not disclosed',\n",
       " 'Not disclosed',\n",
       " 'Not disclosed',\n",
       " '3,75,000 - 6,00,000 PA.',\n",
       " '4,50,000 - 5,50,000 PA.',\n",
       " 'Not disclosed',\n",
       " 'Not disclosed',\n",
       " 'Not disclosed',\n",
       " 'Not disclosed',\n",
       " 'Not disclosed',\n",
       " '10,00,000 - 20,00,000 PA.',\n",
       " '1,50,000 - more than 3,00,000 PA.',\n",
       " 'Not disclosed']"
      ]
     },
     "execution_count": 107,
     "metadata": {},
     "output_type": "execute_result"
    }
   ],
   "source": [
    "#salary\n",
    "salary_tags=driver.find_elements_by_xpath(\"//li[@class='fleft grey-text br2 placeHolderLi salary']//span\")\n",
    "\n",
    "\n",
    "salary_tags_titles=[]\n",
    "for i in salary_tags:\n",
    "    salary_tags_titles.append(i.text)\n",
    "salary_tags_titles"
   ]
  },
  {
   "cell_type": "code",
   "execution_count": 108,
   "metadata": {},
   "outputs": [
    {
     "data": {
      "text/html": [
       "<div>\n",
       "<style scoped>\n",
       "    .dataframe tbody tr th:only-of-type {\n",
       "        vertical-align: middle;\n",
       "    }\n",
       "\n",
       "    .dataframe tbody tr th {\n",
       "        vertical-align: top;\n",
       "    }\n",
       "\n",
       "    .dataframe thead th {\n",
       "        text-align: right;\n",
       "    }\n",
       "</style>\n",
       "<table border=\"1\" class=\"dataframe\">\n",
       "  <thead>\n",
       "    <tr style=\"text-align: right;\">\n",
       "      <th></th>\n",
       "      <th>title</th>\n",
       "      <th>company</th>\n",
       "      <th>experience</th>\n",
       "      <th>salary</th>\n",
       "      <th>place</th>\n",
       "    </tr>\n",
       "  </thead>\n",
       "  <tbody>\n",
       "    <tr>\n",
       "      <th>0</th>\n",
       "      <td>Senior Data Analyst</td>\n",
       "      <td>Flipkart Internet Private Limited</td>\n",
       "      <td>4-5 Yrs</td>\n",
       "      <td>Not disclosed</td>\n",
       "      <td>Bangalore/Bengaluru</td>\n",
       "    </tr>\n",
       "    <tr>\n",
       "      <th>1</th>\n",
       "      <td>Data Analyst</td>\n",
       "      <td>Zilingo.com</td>\n",
       "      <td>0-4 Yrs</td>\n",
       "      <td>Not disclosed</td>\n",
       "      <td>Bangalore/Bengaluru</td>\n",
       "    </tr>\n",
       "    <tr>\n",
       "      <th>2</th>\n",
       "      <td>Data Analyst (Data Stewards)//Immediate Joiner...</td>\n",
       "      <td>Tech Mahindra Ltd.</td>\n",
       "      <td>5-10 Yrs</td>\n",
       "      <td>Not disclosed</td>\n",
       "      <td>Bangalore/Bengaluru</td>\n",
       "    </tr>\n",
       "    <tr>\n",
       "      <th>3</th>\n",
       "      <td>Data Analyst with Replicon Software</td>\n",
       "      <td>Replicon Software (India) Pvt Ltd</td>\n",
       "      <td>2-4 Yrs</td>\n",
       "      <td>Not disclosed</td>\n",
       "      <td>Bangalore/Bengaluru</td>\n",
       "    </tr>\n",
       "    <tr>\n",
       "      <th>4</th>\n",
       "      <td>Data Analyst / Sr. Data Analyst - SQL</td>\n",
       "      <td>Naukri Premium - Employer Services</td>\n",
       "      <td>2-5 Yrs</td>\n",
       "      <td>Not disclosed</td>\n",
       "      <td>Bangalore/Bengaluru</td>\n",
       "    </tr>\n",
       "    <tr>\n",
       "      <th>5</th>\n",
       "      <td>Senior Data Analyst</td>\n",
       "      <td>Publicis Groupe</td>\n",
       "      <td>5-9 Yrs</td>\n",
       "      <td>Not disclosed</td>\n",
       "      <td>Bangalore/Bengaluru</td>\n",
       "    </tr>\n",
       "    <tr>\n",
       "      <th>6</th>\n",
       "      <td>Senior Data Analyst</td>\n",
       "      <td>Publicis Groupe</td>\n",
       "      <td>6-8 Yrs</td>\n",
       "      <td>Not disclosed</td>\n",
       "      <td>Bangalore/Bengaluru</td>\n",
       "    </tr>\n",
       "    <tr>\n",
       "      <th>7</th>\n",
       "      <td>Senior Data Analyst</td>\n",
       "      <td>Publicis Groupe</td>\n",
       "      <td>1-7 Yrs</td>\n",
       "      <td>Not disclosed</td>\n",
       "      <td>Bangalore/Bengaluru</td>\n",
       "    </tr>\n",
       "    <tr>\n",
       "      <th>8</th>\n",
       "      <td>Senior Associate - Data Analyst</td>\n",
       "      <td>Sapient</td>\n",
       "      <td>4-6 Yrs</td>\n",
       "      <td>Not disclosed</td>\n",
       "      <td>Bangalore/Bengaluru</td>\n",
       "    </tr>\n",
       "    <tr>\n",
       "      <th>9</th>\n",
       "      <td>Senior Associate - Data Analyst</td>\n",
       "      <td>Publicis Groupe</td>\n",
       "      <td>1-3 Yrs</td>\n",
       "      <td>Not disclosed</td>\n",
       "      <td>Bangalore/Bengaluru</td>\n",
       "    </tr>\n",
       "  </tbody>\n",
       "</table>\n",
       "</div>"
      ],
      "text/plain": [
       "                                               title  \\\n",
       "0                                Senior Data Analyst   \n",
       "1                                       Data Analyst   \n",
       "2  Data Analyst (Data Stewards)//Immediate Joiner...   \n",
       "3                Data Analyst with Replicon Software   \n",
       "4              Data Analyst / Sr. Data Analyst - SQL   \n",
       "5                                Senior Data Analyst   \n",
       "6                                Senior Data Analyst   \n",
       "7                                Senior Data Analyst   \n",
       "8                    Senior Associate - Data Analyst   \n",
       "9                    Senior Associate - Data Analyst   \n",
       "\n",
       "                              company experience         salary  \\\n",
       "0   Flipkart Internet Private Limited    4-5 Yrs  Not disclosed   \n",
       "1                         Zilingo.com    0-4 Yrs  Not disclosed   \n",
       "2                  Tech Mahindra Ltd.   5-10 Yrs  Not disclosed   \n",
       "3   Replicon Software (India) Pvt Ltd    2-4 Yrs  Not disclosed   \n",
       "4  Naukri Premium - Employer Services    2-5 Yrs  Not disclosed   \n",
       "5                     Publicis Groupe    5-9 Yrs  Not disclosed   \n",
       "6                     Publicis Groupe    6-8 Yrs  Not disclosed   \n",
       "7                     Publicis Groupe    1-7 Yrs  Not disclosed   \n",
       "8                             Sapient    4-6 Yrs  Not disclosed   \n",
       "9                     Publicis Groupe    1-3 Yrs  Not disclosed   \n",
       "\n",
       "                 place  \n",
       "0  Bangalore/Bengaluru  \n",
       "1  Bangalore/Bengaluru  \n",
       "2  Bangalore/Bengaluru  \n",
       "3  Bangalore/Bengaluru  \n",
       "4  Bangalore/Bengaluru  \n",
       "5  Bangalore/Bengaluru  \n",
       "6  Bangalore/Bengaluru  \n",
       "7  Bangalore/Bengaluru  \n",
       "8  Bangalore/Bengaluru  \n",
       "9  Bangalore/Bengaluru  "
      ]
     },
     "execution_count": 108,
     "metadata": {},
     "output_type": "execute_result"
    }
   ],
   "source": [
    "import pandas as pd\n",
    "jobs=pd.DataFrame({})\n",
    "jobs['title']=job_titles[:10]\n",
    "jobs['company']=companies_tags_titles[:10]\n",
    "jobs['experience']=experience_tags_titles[:10]\n",
    "jobs['salary']=salary_tags_titles[:10]\n",
    "jobs['place']=location_tags_titles[:10]\n",
    "\n",
    "jobs"
   ]
  },
  {
   "cell_type": "markdown",
   "metadata": {},
   "source": [
    "# question 2"
   ]
  },
  {
   "cell_type": "code",
   "execution_count": 124,
   "metadata": {},
   "outputs": [],
   "source": [
    "jobtitles=[]\n",
    "jobLocation=[]\n",
    "companyName=[]\n",
    "fulljobdesc=[]"
   ]
  },
  {
   "cell_type": "markdown",
   "metadata": {},
   "source": [
    "first get the webpage https://www.naukri.com/"
   ]
  },
  {
   "cell_type": "code",
   "execution_count": 152,
   "metadata": {},
   "outputs": [],
   "source": [
    "driver=webdriver.Chrome(r\"C:\\chromedriver.exe\")\n",
    "url2='https://www.naukri.com/'\n",
    "driver.get(url2)"
   ]
  },
  {
   "cell_type": "markdown",
   "metadata": {},
   "source": [
    "Enter “Data Scientist” in “Skill,Designations,Companies” field and enter\n",
    "“Bangalore” in “enter the location” field.\n"
   ]
  },
  {
   "cell_type": "code",
   "execution_count": 132,
   "metadata": {},
   "outputs": [],
   "source": [
    "search_job2=driver.find_element_by_xpath('//input[@class=\"sugInp\"]')\n",
    "search_job2.send_keys(\"Data Scientist\")\n",
    "\n",
    "search_loc2=driver.find_element_by_id('qsb-location-sugg')\n",
    "search_loc2.send_keys(\"Bangalore\")"
   ]
  },
  {
   "cell_type": "markdown",
   "metadata": {},
   "source": [
    "click the search button."
   ]
  },
  {
   "cell_type": "code",
   "execution_count": 133,
   "metadata": {},
   "outputs": [],
   "source": [
    "search_btn=driver.find_element_by_xpath(\"//button[@class='btn']\")\n",
    "search_btn.click()"
   ]
  },
  {
   "cell_type": "markdown",
   "metadata": {},
   "source": [
    "scrape the data for the first 10 jobs results you get"
   ]
  },
  {
   "cell_type": "code",
   "execution_count": 134,
   "metadata": {},
   "outputs": [],
   "source": [
    "\n",
    "#scrape data from job openings\n",
    "\n",
    "job_opening_urls=[]\n",
    "\n",
    "url=driver.find_elements_by_xpath('//a[@class=\"title fw500 ellipsis\"]')\n",
    "\n",
    "for i in url[:10]:\n",
    "    job_opening_urls.append(i.get_attribute('href'))\n",
    "job_opening_urls\n",
    "\n",
    "\n",
    "for i in job_opening_urls:\n",
    "    driver.get(i)\n",
    "    try:\n",
    "        job_title=driver.find_elements_by_xpath(\"//h1[@class='jd-header-title']\")\n",
    "        for j in job_title:\n",
    "            jobtitles.append(j.text.replace(\"\\n\",\" \"))\n",
    "            \n",
    "    except:\n",
    "        pass"
   ]
  },
  {
   "cell_type": "code",
   "execution_count": 135,
   "metadata": {},
   "outputs": [
    {
     "data": {
      "text/plain": [
       "['Senior Data Scientist',\n",
       " 'Senior Data Scientist',\n",
       " 'Senior Data Scientist',\n",
       " 'Data Scientist',\n",
       " 'Senior Data Scientist',\n",
       " 'Senior Data Scientist',\n",
       " 'Senior Data Scientist',\n",
       " 'Senior Data Scientist',\n",
       " 'Sr Data Scientist, Payments',\n",
       " 'Senior Data Scientist',\n",
       " 'Senior Data Scientist',\n",
       " 'Senior Data Scientist',\n",
       " 'Senior Data Scientist',\n",
       " 'Data Scientist',\n",
       " 'Senior Data Scientist',\n",
       " 'Senior Data Scientist',\n",
       " 'Senior Data Scientist',\n",
       " 'Senior Data Scientist',\n",
       " 'Sr Data Scientist, Payments',\n",
       " 'Senior Data Scientist']"
      ]
     },
     "execution_count": 135,
     "metadata": {},
     "output_type": "execute_result"
    }
   ],
   "source": [
    "jobtitles"
   ]
  },
  {
   "cell_type": "code",
   "execution_count": 153,
   "metadata": {},
   "outputs": [],
   "source": [
    "driver=webdriver.Chrome(r\"C:\\chromedriver.exe\")\n",
    "url2='https://www.naukri.com/'\n",
    "driver.get(url2)\n",
    "\n",
    "search_job2=driver.find_element_by_xpath('//input[@class=\"sugInp\"]')\n",
    "search_job2.send_keys(\"Data Scientist\")\n",
    "\n",
    "driver.implicitly_wait(10)\n",
    "\n",
    "search_loc2=driver.find_element_by_id('qsb-location-sugg')\n",
    "search_loc2.send_keys(\"Bangalore\")\n",
    "\n",
    "driver.implicitly_wait(10)\n",
    "\n",
    "search_btn=driver.find_element_by_xpath(\"//button[@class='btn']\")\n",
    "search_btn.click()\n",
    "\n",
    "driver.implicitly_wait(10)\n",
    "    \n",
    "#scrape data from job openings\n",
    "\n",
    "job_opening_urls=[]\n",
    "\n",
    "url=driver.find_elements_by_xpath('//a[@class=\"title fw500 ellipsis\"]')\n",
    "\n",
    "for i in url[:10]:\n",
    "    job_opening_urls.append(i.get_attribute('href'))\n",
    "job_opening_urls\n",
    "\n",
    "\n",
    "for i in job_opening_urls:\n",
    "    driver.get(i)\n",
    "    try:\n",
    "        company_name_title=driver.find_elements_by_xpath(\"//a[@class='pad-rt-8']\")\n",
    "        for k in company_name_title:\n",
    "            companyName.append(k.text.replace(\"\\n\",\" \"))\n",
    "    except:\n",
    "        pass \n",
    "    \n",
    "    \n",
    "        "
   ]
  },
  {
   "cell_type": "code",
   "execution_count": 154,
   "metadata": {},
   "outputs": [
    {
     "data": {
      "text/plain": [
       "['24/7 Customer',\n",
       " '3.6(1198 Reviews)',\n",
       " '',\n",
       " '',\n",
       " 'Fractal Analytics',\n",
       " '3.9(97 Reviews)',\n",
       " '',\n",
       " '',\n",
       " 'Nielsen',\n",
       " '3.8(483 Reviews)',\n",
       " '',\n",
       " '',\n",
       " 'Wipro Limited',\n",
       " '3.8(12632 Reviews)',\n",
       " '',\n",
       " '',\n",
       " 'Pluto7',\n",
       " '',\n",
       " 'Gojek Tech',\n",
       " '',\n",
       " 'GO-JEK India',\n",
       " '4.4(5 Reviews)',\n",
       " '',\n",
       " '',\n",
       " 'Publicis Groupe',\n",
       " '3.4(64 Reviews)',\n",
       " '',\n",
       " '',\n",
       " 'AIRBNB GLOBAL CAPABILITY CENTER PRIVATE LIMITED',\n",
       " '',\n",
       " 'Lendingkart Finance Limited',\n",
       " '3.0(128 Reviews)',\n",
       " '',\n",
       " '',\n",
       " '24/7 Customer',\n",
       " '3.6(1198 Reviews)',\n",
       " '',\n",
       " '',\n",
       " 'Fractal Analytics',\n",
       " '3.9(97 Reviews)',\n",
       " '',\n",
       " '',\n",
       " 'Nielsen',\n",
       " '3.8(483 Reviews)',\n",
       " '',\n",
       " '',\n",
       " 'Wipro Limited',\n",
       " '3.8(12632 Reviews)',\n",
       " '',\n",
       " '',\n",
       " 'Pluto7',\n",
       " '',\n",
       " 'Gojek Tech',\n",
       " '',\n",
       " 'GO-JEK India',\n",
       " '4.4(5 Reviews)',\n",
       " '',\n",
       " '',\n",
       " 'Publicis Groupe',\n",
       " '3.4(64 Reviews)',\n",
       " '',\n",
       " '',\n",
       " 'AIRBNB GLOBAL CAPABILITY CENTER PRIVATE LIMITED',\n",
       " '',\n",
       " 'Lendingkart Finance Limited',\n",
       " '3.0(128 Reviews)',\n",
       " '',\n",
       " '',\n",
       " '24/7 Customer',\n",
       " '',\n",
       " 'Fractal Analytics',\n",
       " '',\n",
       " 'Nielsen',\n",
       " '',\n",
       " 'Wipro Limited',\n",
       " '',\n",
       " 'Pluto7',\n",
       " '',\n",
       " 'Gojek Tech',\n",
       " '',\n",
       " 'GO-JEK India',\n",
       " '',\n",
       " 'Publicis Groupe',\n",
       " '',\n",
       " 'AIRBNB GLOBAL CAPABILITY CENTER PRIVATE LIMITED',\n",
       " '',\n",
       " 'Lendingkart Finance Limited',\n",
       " '']"
      ]
     },
     "execution_count": 154,
     "metadata": {},
     "output_type": "execute_result"
    }
   ],
   "source": [
    "companyName"
   ]
  },
  {
   "cell_type": "code",
   "execution_count": 190,
   "metadata": {},
   "outputs": [],
   "source": [
    "driver=webdriver.Chrome(r\"C:\\chromedriver.exe\")\n",
    "url2='https://www.naukri.com/'\n",
    "driver.get(url2)\n",
    "\n",
    "\n"
   ]
  },
  {
   "cell_type": "code",
   "execution_count": 191,
   "metadata": {},
   "outputs": [
    {
     "data": {
      "text/plain": [
       "['Not Disclosed',\n",
       " 'Not Disclosed',\n",
       " 'Not Disclosed',\n",
       " 'Not Disclosed',\n",
       " 'Not Disclosed',\n",
       " 'Not Disclosed',\n",
       " 'Not Disclosed',\n",
       " 'Not Disclosed',\n",
       " 'Not Disclosed',\n",
       " 'Not Disclosed']"
      ]
     },
     "execution_count": 191,
     "metadata": {},
     "output_type": "execute_result"
    }
   ],
   "source": [
    "salarytitles"
   ]
  },
  {
   "cell_type": "code",
   "execution_count": 194,
   "metadata": {},
   "outputs": [],
   "source": [
    "driver=webdriver.Chrome(r\"C:\\chromedriver.exe\")\n",
    "url2='https://www.naukri.com/'\n",
    "driver.get(url2)\n",
    "\n",
    "search_job2=driver.find_element_by_xpath('//input[@class=\"sugInp\"]')\n",
    "search_job2.send_keys(\"Data Scientist\")\n",
    "\n",
    "driver.implicitly_wait(10)\n",
    "\n",
    "search_loc2=driver.find_element_by_id('qsb-location-sugg')\n",
    "search_loc2.send_keys(\"Bangalore\")\n",
    "\n",
    "driver.implicitly_wait(10)\n",
    "\n",
    "search_btn=driver.find_element_by_xpath(\"//button[@class='btn']\")\n",
    "search_btn.click()\n",
    "\n",
    "driver.implicitly_wait(10)\n",
    "    \n",
    "#scrape data from job openings\n",
    "\n",
    "job_opening_urls=[]\n",
    "\n",
    "url=driver.find_elements_by_xpath('//a[@class=\"title fw500 ellipsis\"]')\n",
    "\n",
    "for i in url[:10]:\n",
    "    job_opening_urls.append(i.get_attribute('href'))\n",
    "job_opening_urls\n",
    "\n",
    "\n",
    "for i in job_opening_urls:\n",
    "    driver.get(i)\n",
    "    try:\n",
    "        full_job_desc=driver.find_elements_by_xpath(\"//section[@class='job-desc']\")\n",
    "        for n in full_job_desc:\n",
    "            fulljobdesc.append(n.text.replace(\"\\n\",\" \"))\n",
    "    except:\n",
    "        pass \n",
    "    "
   ]
  },
  {
   "cell_type": "code",
   "execution_count": 195,
   "metadata": {},
   "outputs": [
    {
     "data": {
      "text/plain": [
       "['Job description Brief about the Role The Platforms team of the Data Science Group at [24]7.ai builds scalable AI to aid in conversational AI, agent assist solutions, and ad personalization for the Cloud. We are looking for a highly motivated and qualified data scientist to build some of our AI initiatives. This role is ideal for candidates with strong, hands-on skills in machine learning and natural language processing. Educational Qualifications: Bachelors, Master’s or PhD degree from reputed universities or institutes in one of the following disciplines: Artificial Intelligence / Machine Learning Data Science Cognitive Computing Computational Linguistics Computer Science Requirements 4+ years of experience with general purpose programming languages e.g., Python, C/C++, Java 4+ years of hands-on experience in machine learning Experience in various deep learning models, e.g., transformers, LSTMs, RNNs Experience in solving problems related to Natural Language Processing (NLP), Natural Language Understanding (NLU), and Natural Language Generation (NLG) Experience with machine learning platforms such as TensorFlow, TensorFlow Extended, PyTorch Experience building and deploying machine learning models on the Cloud (Google Cloud, Azure, AWS) Experience with production architecture of machine learning systems Good to have exposure to conversational AI, AI-based question-answering systems, AI-based compliance and monitoring systems, and ad personalization Good to have exposure to MLOps pipelines and Kubeflow Excellent communication skills Ability to collaborate cross-functionally Good presentation skills Attention to detail Responsibilities Collaborate with the Engineering and Product teams to implement machine learning models into the products and offerings of [24]7.ai Collaborate with your team members. Be responsible for implementing the machine learning models, testing them, refining them, and taking them to production Collaborate within the Data Science Group to review and refine your work to ensure the highest quality Take end-to-end ownership of AI initiatives Proactively discuss ideas for feature enhancements with the data science leadership and product leadership RoleTechnical Architect Industry TypeIT Services & Consulting Functional AreaIT Software - Other Employment TypeFull Time, Permanent Role CategoryProgramming & Design Education UG :B.Tech/BE in Computers PG :M.Tech/ME in Computers Key Skills Computer sciencedata scienceArtificial IntelligenceMachine learningLinguisticsNatural language processingNew product developmentCustomer experienceMonitoringPython',\n",
       " 'Job description The Artificial Intelligence and Machine Learning (AIML) group at Fractal Analytics is actively involved in helping Fortune 500 companies by enabling them to discover how they can leverage their data using advanced and sophisticated AI/ML algorithms for which we are looking for Data Scientists with the capability to work on independent statistical and machine learning research/ projects. If you are a problem solver with a curiosity for exploring new techniques and technologies in AIML space, then we would like to talk with you. Job Responsibilities Ability to understand a problem statement and implement analytical solutions techniques independently with independently / proactively / thought-leadership. Work with stakeholders throughout the organization to identify opportunities for leveraging company/client data to drive business solutions. Fast learner: ability to learn and pick up a new language/tool/ platform quickly. Conceptualize, design, and deliver high-quality solutions and insightful analysis. Conduct research and prototyping innovations; data and requirements gathering; solution scoping and architecture; consulting clients and client facing teams on advanced statistical and machine learning problems. Collaborate and Coordinate with different functional teams(engineering and product development) to implement models and monitor outcomes. Ability to deliver AIML based solutions around a host of domains and problems, with some of them being: Customer Segmentation Targeting, Propensity Modeling, Churn Modeling, Lifetime Value Estimation, Forecasting, Recommender Systems, Modeling Response to Incentives, Marketing Mix Optimization, Price Optimization Experience Required: Expert level proficiency in at least one of R and Python. Ability to create efficient solutions to complex problems. Strong skills in data-structures and ML algorithms. Experience of working on end-to-end data science pipeline: problem scoping, data gathering, EDA, modelling, insights, visualizations, monitoring and maintenance. Problem-solving: Ability to break the problem into small parts and applying relevant techniques to drive required outcomes. Intermediate to advanced knowledge of machine learning, probability theory, statistics, and algorithms. You will be required to discuss and use various algorithms and approaches on a daily basis. We use regression, Bayesian methods, tree-based learners, SVM, RF, XGBOOST, time series modeling, dimensionality reduction, SEM, GLM, GLMM, clustering, Deep learning etc. on a regular basis. If you know few of them you are good to go. Good to Have: Experience in one of the upcoming technologies like deep learning, NLP, image processing, recommender systems Experience of working in on one or more domains: CPG: pricing and promotion analytics, marketing analytics, trade promotions, supply chain management BFSI: cross-sell, up-sell, campaign analytics, treasury analytics, fraud detection Healthcare: medical adherence, medical risk profiling, EHR data, fraud-waste-abuse Experience in working with Linux computing environment and use of command line tools like sed/awk Good grasp on databases including RDBMS, NoSQL, MongoDB etc. Education Qualification B.Tech / M.Tech in Computer Science / Mathematics / Signal Processing or related fields. RoleTechnical Architect Industry TypeManagement Consulting Functional AreaIT Software - Application Programming, Maintenance Employment TypeFull Time, Permanent Role CategoryProgramming & Design Education UG :B.Tech/BE in Production/Industrial PG :M.Tech/ME in Electronics and Telecommunication Key Skills Supply chain managementLinuxRFRDBMSBfsiConsultingData structuresHealthcareSEMPython',\n",
       " 'Job description ABOUT THIS JOB NielsenIQ Advanced Analytics team develops and promotes a portfolio of global products. Leveraging NielsenIQs unparalleled data and global platforms, the Advanced Analytics team creates solutions to enable our clients to make better business decisions every day.  We partner with Product Owners and Core Technology Teams to build scalable, always on,  analytic products using relevant modeling/ML techniques. We’re looking for a passionate and talented Senior Data Scientist to join our growing team. In this role, you’ll have the chance to roll up your sleeves and apply data science methods and analytics to sustain NielsenIQ Analytics growth. Successful candidates are intellectually curious builders and active learners who are biased toward action, new problem solving. Roles & Responsibilities : Understand business issues, stakeholder requirement and expectations Perform relevant modeling analysis and POC exploring multiple techniques Ensure Analytics model quality Document and present findings and recommendations on methodology in a structured way to various stakeholder or partnering teams (Engineering, Tech, Product leader). Work closely with the Engineering and Tech team to convert those POC into fully scalable products. Active and effective collaboration with other project team members (other Data Scientist, Data Steward, Technology Engineer) Collaboratively manage projects from timeline creation to project completion, managing expectations with leaders and colleagues Encourage team building, best practices sharing especially with more junior team members. Stay abreast of developments in the area to ensure bringing the most appropriate solutions to our business About You You’ve built a decent track record in research and data analytics. And you have the communication chops to translate it all into conversations. While you’ve worked with global cross-functional teams, you can also put your head down and focus on independent projects. Seeing the big picture takes attention to detail. Keeping up with the fast-changing world of technology takes someone who recognizes that. You know what’s happening in big data and you’re ready to influence what’s next. Qualifications Masters degree in Data Sciences, mathematics or a closely related field 3 to 5 years of experience as a Data Scientist in the business Strong knowledge of statistical modelling, machine learning. Experience in machine learning, supervised and unsupervised: Forecasting, Classification, Data/Text Mining, NLP, Decision Trees, Adaptive Decision Algorithms, Random Forest, Search Algorithms, Neural Networks, Deep Learning Algorithms Experience with Optimisation techniques: linear programming, integer programming, genetic algorithm, constrained optimisation Experience in working on distributed or cloud computing platforms such as Google Cloud or Microsoft Azure Proficiency in Data Science coding languages like Python, PySpark, SQL, R in a cloud environment like DataBricks Experience using collaborative development tools (git). Experience working with Agile methodologies (SCRUM) Strong problem solving and excellent communication skills, independent working style Experience in an FMCG company is a strong plus  RoleTechnical Architect Industry TypeAnalytics / KPO / Research Functional AreaIT Software - Application Programming, Maintenance Employment TypeFull Time, Permanent Role CategoryProgramming & Design Education UG :Any Graduate Key Skills Data ScienceRNLPNeural NetworksStatistical ModelingText MiningMachine LearningDeep LearningPythonRandom Forest',\n",
       " 'Job description Role: Data Scientist  Roles and Responsibilities Suitable candidates will be part of Wipro Digital-Intelligent Enterprise practice. The role entails leveraging Data Science and Machine Learning to solve typical problems within an organization and create IP that could be deployed in a productized mode. This will entail significant hands-on work on multiple Big Data Technologies, Data Analysis, Identifying data patterns, ML models, Insights generation. The role entails deployment in a customer context and managing customer expectations.  Technical Skills Required: Hands on with Python or R Analytics using industry leading BI tools and technologies Implementation knowledge of supervised\\\\un-supervised machine learning algorithms Good statistical analysis skills for data pre-processing and data wrangling Experienced in using big data frameworks like Hadoop Knowledge of business intelligence tools or reporting tools  Data Preparation for Modeling Missing Data Imputation,Outlier Treatment Scaling, Normalization, Standardization Encoding for Categorical Variables Oversampling\\\\Undersampling for reducing class imbalance  Experience in building solutions using Model Library Feature Selection Tree-based Ensemble Models Gradient\\\\Adaptive Boosted Trees Hyper-parameter tuning Building Prediction mechanisms using methods like Logistic regression, voting classifier stacking etc  RoleData Analyst Industry TypeIT Services & Consulting Functional AreaAnalytics & Business Intelligence Employment TypeFull Time, Permanent Role CategoryAnalytics & BI Education UG :B.Tech/BE in Any Specialization Key Skills Big DataMachine LearningPython Data ScienceRLogistic RegressionData WranglingHadoopData AnalysisStatistical Analysis Skills highlighted with ‘‘ are preferred keyskills',\n",
       " 'Job description Responsibilities: Build and Optimize Machine Learning models. Work with large/complex datasets to solve difficult and non-routine analysis problems, applying advanced analytical methods as needed. Build and prototype data pipelines for analysis at scale. Work cross-functionally with Business Analysts and Data Engineers to help develop cutting edge and innovative artificial intelligence and machine learning models. Make recommendations for selections on machine learning models. Drive accuracy levels to the next stage of the given ML models. Experience in developing visualization and User Good exposure in exploratory data analysis Strong experience in Statistics and ML algorithms. Minimum qualifications: (2-4) years of relevant work experience in ML and advanced data analytics(e.g., as a Machine Learning Specialist / Data scientist ). Strong Experience using machine learning and artificial intelligence frameworks such as Tensorflow, sci-kit learn, Keras using python. Good in Python/R/SAS programming. Understanding of Cloud platforms like GCP, AWS, or other. Preferred qualifications: Work experience in building data pipelines to ingest, cleanse and transform data. Applied experience with machine learning on large datasets and experience translating analysis results into business recommendations. Demonstrated skills in selecting the right statistical tools given a data analysis problem. Demonstrated effective written and verbal communication skills. Demonstrated willingness to both teach others and learn new techniques RoleSoftware Developer Industry TypeManagement Consulting Functional AreaIT Software - System Programming Employment TypeFull Time, Permanent Role CategoryProgramming & Design Education UG :B.Tech/BE in Any Specialization PG :Any Postgraduate Key Skills SANERPData analysisPrototypeMachine learningHealthcareApplication developmentciscoAnalyticsPython',\n",
       " 'Job description As our Senior Data Scientist, youll be an integral player in the Marketplace Data Science team based in Bengaluru. With the latest cutting-edge data science tech at your disposal, youll focus your efforts on bringing our Marketplace systems (i.e. supply, demand, and pricing) to the next level, employing various quantitative techniques such as Machine Learning, Optimization, Simulation, Bayesian Techniques to drive asymmetric values for our businesses at Gojek. Youll be heavily involved in ideation, research, and building prototypes, and the folks in the Data Science Platform will bring your models to production. Your efforts will directly influence the stability and scalability of Gojeks Marketplace stream, and thus to companys top and bottom line as a whole.   What You Will Do Work with Data Scientists, Machine Learning Engineers, and Business Users to build, deploy, and scale Data Science solutions on match-making, supply, pricing problems in Gojek that touch the company s baseline Use your experience in Data Science, Machine Learning, Software Engineering, distributed systems to develop these systems, and work with the platform team to take the systems to production Work with Business teams to continuously refine and improve the systems to cater to ever-changing Gojek needs Design and develop world class Data Science solutions to enhance the current stack of Marketplace algorithms for supply, demand, pricing What You Will Need At least 6 years of experience as a Data Scientist or Machine Learning Engineer, with experience in Python, Golang/Java, and Unix A Bachelors Degree in Computer Science, Statistics, Operations Research, or a relevant quantitative field Solid knowledge of Data Science and Machine Learning fundamentals, with proven experience formulating Data Science solutions to business problems Proven ability to recognize business needs and to communicate with multiple stakeholders within the Product Management, Business and Operations teams Experience in taking Data Science models to production Prior academic or industry work experience with forecasting methods like auto-regressive models, Markov models, and Kernel-based methods Prior experience with simulations for modeling the stochastic nature of marketplace supply and demand, and knowledge of the transportation and mobility space RoleTeam Lead/Technical Lead Industry TypeInternet Functional AreaIT Software - eCommerce, Internet Technologies Employment TypeFull Time, Permanent Role CategoryProgramming & Design Education UG :Any Graduate PG :Any Postgraduate Key Skills UnixProduct managementComputer scienceOperations researchSimulationMachine learningDistribution systemForecastingPythonLogistics',\n",
       " 'Job description As our Senior Data Scientist, youll be an integral player in the Marketplace Data Science team based in Bengaluru. With the latest cutting-edge data science tech at your disposal, youll focus your efforts on bringing our Marketplace systems (i.e. supply, demand, and pricing) to the next level, employing various quantitative techniques such as Machine Learning, Optimization, Simulation, Bayesian Techniques to drive asymmetric values for our businesses at Gojek. Youll be heavily involved in ideation, research, and building prototypes, and the folks in the Data Science Platform will bring your models to production. Your efforts will directly influence the stability and scalability of Gojeks Marketplace stream, and thus to companys top and bottom line as a whole.   What You Will Do Work with Data Scientists, Machine Learning Engineers, and Business Users to build, deploy, and scale Data Science solutions on match-making, supply, pricing problems in Gojek that touch the company s baseline Use your experience in Data Science, Machine Learning, Software Engineering, distributed systems to develop these systems, and work with the platform team to take the systems to production Work with Business teams to continuously refine and improve the systems to cater to ever-changing Gojek needs Design and develop world class Data Science solutions to enhance the current stack of Marketplace algorithms for supply, demand, pricing What You Will Need At least 6 years of experience as a Data Scientist or Machine Learning Engineer, with experience in Python, Golang/Java, and Unix A Bachelors Degree in Computer Science, Statistics, Operations Research, or a relevant quantitative field Solid knowledge of Data Science and Machine Learning fundamentals, with proven experience formulating Data Science solutions to business problems Proven ability to recognize business needs and to communicate with multiple stakeholders within the Product Management, Business and Operations teams Experience in taking Data Science models to production Prior academic or industry work experience with forecasting methods like auto-regressive models, Markov models, and Kernel-based methods Prior experience with simulations for modeling the stochastic nature of marketplace supply and demand, and knowledge of the transportation and mobility space RoleTeam Lead/Technical Lead Industry TypeIT Services & Consulting Functional AreaIT Software - eCommerce, Internet Technologies Employment TypeFull Time, Permanent Role CategoryProgramming & Design Education UG :Any Graduate PG :Any Postgraduate Key Skills UnixProduct managementComputer scienceOperations researchSimulationMachine learningDistribution systemForecastingPythonLogistics',\n",
       " 'Job description Epsilon India team is looking for a talented team player in a Senior Data Scientist. You are an expert, mentor and advocate. You have strong machine learning and deep learning background and are passionate about transforming data into ml models. You welcome the challenge of data science and are proficient in Python, Spark MLLib, Tensorflow, Keras, ML algortihms and Deep Neural Networks, Big Data. You must be self-driven, take initiative and want to work in a dynamic, busy and innovative group. You will work with a distributed team (onshore and offshore) and work closely with a broadly talented team of delivery management, business analysts, visual designers, analytics, developers, and QA. You will work directly with clients to own data science solutions as a member of the Data Sciences MML Cloud Services team, and will operate as part of the product team to extend the Platform functionality when not supporting client projects Perform hands-on analysis of large volumes of web analytics, transaction, customer data, second and third-party data. Work with complex data structure, manipulate, cleanse data and perform statistical analysis Design and Implement Machine learning models using Spark ML, Python, Map-Reduce, Hive, HDFS, Spring, Hibernate and Java Design and implement Deep neural network models using Tensorflow, Pytorch, Keras and Python Create engaging and meaningful data visualizations of findings linked to clear client business impact. Develop machine learning pipelines with big data design principles in MS Azure cloud using Azure Data Factory Own end to end implementations of Marketing machine learning models such as Churn, CLV, Propensity, Affinity models.   Qualifications Experience with large scale distributed databases and computing systems like Hadoop, HDInsight or DataBricks Strong passion for understanding key business problems, bringing together a team to understand data/ instrumentation needs and/or mine through data to unearth deep insights into customer experiences Proven capability to deliver end-to-end analyses by asking the right questions, extracting data, and building predictive models to ensure actionable results. Excellent communication interpersonal skills with an ability to communicate ideas. MS or Ph.D. in Computer Science, Math, Physics, or equivalent education/professional experience is required. 6+ years of overall IT experience with 2+ years in a data science role with demonstrable experience Deep experience in machine learning with Spark and Azure Machine Learning and Cognitive Services. Azure Cloud experience required. Azure Data Factory experience preferred. Strong experience in DNN models using Tensorflow v1.8 above, Keras, Pytorch Experience with sequence modeling using RNNs/LSTMs is good to have Strong experience in at least one database technology (i.e. Hive, PrestoDb etc.) Strong experience in at least one programming language (i.e. Python, R, C, C++ is plus) Experience working with different query languages (i.e. PL-SQL, T-SQL) Understanding and experience working with cloud infrastructure services like Azure and Amazon Web Services. Azure preferred. Experience working with code repositories and continuous integration (i.e. Git, Jenkins, etc.) Strong passion for understanding key business problems, bringing together the team to understand data/ instrumentation needs and/or mine through data to unearth deep insights into customer experiences   RoleOutside Consultant Industry TypeAdvertising & Marketing Functional AreaIT Software - Application Programming, Maintenance Employment TypeFull Time, Permanent Role CategoryOther Education UG :Any Graduate PG :Any Postgraduate Key Skills Computer scienceHibernateGITWeb analyticsPAASMachine learningPLSQLInstrumentationinfrastructure servicesPython',\n",
       " 'Job description The Challenge Be a thought leader, partner with your cross-functional partners to foster a data driven payments organization. With a focus on Payments compliance and keeping our platform safe, anticipate and detect new fraud trends and regulatory requirements. Define and evaluate key metrics. Build the data foundation you need, in partnership with the data engineering team. Deliver actionable user-insights to build the best products and models Design experiments to measure the impact of new payments features Empower the product and engineering teams to make data-driven decisions What you need to succeed 4+ years industry experience in a quantitative analysis role. Experience in Payments a strong plus Fluent in SQL and proficiency in analytical tools such as Python, R, etc. Background in statistics and experience with experimentation Solid understanding of product analytics Experience or willingness to learn tools to create data pipelines using Airflow/Minerva Ability to communicate clearly and effectively to cross functional partners of varying technical levels RoleSoftware Developer Industry TypeInternet Functional AreaIT Software - Application Programming, Maintenance Employment TypeFull Time, Permanent Role CategoryProgramming & Design Education UG :B.Sc/B.Sc(Hons) in Statistics, Any Graduate Key Skills AirflowQuantitative AnalysisMinervaRData EngineeringXMLBuildProduct AnalyticsStatisticsAnalyticsSQLPython',\n",
       " 'Job description Building Machine learning models for credit underwriting Exploring different machine learning modelling techniques to build the optimum solution. Machine learning model parameter tuning. Ad hoc Credit analysis. Create a highly modular code data extraction layer, data transformation layer, modeling layer, results streaming layer Automation of repetitive codes, strong bug fixing skill. Manage code repository as well Critical: Building credit scoring model for MSME lending Immediate joinee Skills Strong python skills to develop Credit score models Strong Understanding of modelling techniques- XGBoost, Random forest, logistic regression, IV, WOE etc. Understanding of Credit Bureau features Good at SQL Good knowledge in excel Education Btech. RoleInstructional Designer Industry TypeFinancial Services Functional AreaIT Software - Application Programming, Maintenance Employment TypeFull Time, Permanent Role CategoryQA/Testing/Documentation Education UG :B.Tech/BE in Production/Industrial PG :Post Graduation Not Required Key Skills Logistic regressionAutomationExcelMachine learningCredit underwritingCredit analysisManagementSQLData extractionPython']"
      ]
     },
     "execution_count": 195,
     "metadata": {},
     "output_type": "execute_result"
    }
   ],
   "source": [
    "fulljobdesc"
   ]
  },
  {
   "cell_type": "code",
   "execution_count": 196,
   "metadata": {},
   "outputs": [
    {
     "data": {
      "text/html": [
       "<div>\n",
       "<style scoped>\n",
       "    .dataframe tbody tr th:only-of-type {\n",
       "        vertical-align: middle;\n",
       "    }\n",
       "\n",
       "    .dataframe tbody tr th {\n",
       "        vertical-align: top;\n",
       "    }\n",
       "\n",
       "    .dataframe thead th {\n",
       "        text-align: right;\n",
       "    }\n",
       "</style>\n",
       "<table border=\"1\" class=\"dataframe\">\n",
       "  <thead>\n",
       "    <tr style=\"text-align: right;\">\n",
       "      <th></th>\n",
       "      <th>title</th>\n",
       "      <th>company</th>\n",
       "      <th>Job description</th>\n",
       "      <th>salary</th>\n",
       "    </tr>\n",
       "  </thead>\n",
       "  <tbody>\n",
       "    <tr>\n",
       "      <th>0</th>\n",
       "      <td>Senior Data Scientist</td>\n",
       "      <td>24/7 Customer</td>\n",
       "      <td>Job description Brief about the Role The Platf...</td>\n",
       "      <td>Not Disclosed</td>\n",
       "    </tr>\n",
       "    <tr>\n",
       "      <th>1</th>\n",
       "      <td>Senior Data Scientist</td>\n",
       "      <td>3.6(1198 Reviews)</td>\n",
       "      <td>Job description The Artificial Intelligence an...</td>\n",
       "      <td>Not Disclosed</td>\n",
       "    </tr>\n",
       "    <tr>\n",
       "      <th>2</th>\n",
       "      <td>Senior Data Scientist</td>\n",
       "      <td>Fractal Analytics</td>\n",
       "      <td>Job description ABOUT THIS JOB NielsenIQ Advan...</td>\n",
       "      <td>Not Disclosed</td>\n",
       "    </tr>\n",
       "    <tr>\n",
       "      <th>3</th>\n",
       "      <td>Data Scientist</td>\n",
       "      <td>3.9(97 Reviews)</td>\n",
       "      <td>Job description Role: Data Scientist  Roles an...</td>\n",
       "      <td>Not Disclosed</td>\n",
       "    </tr>\n",
       "    <tr>\n",
       "      <th>4</th>\n",
       "      <td>Senior Data Scientist</td>\n",
       "      <td></td>\n",
       "      <td>Job description Responsibilities: Build and Op...</td>\n",
       "      <td>Not Disclosed</td>\n",
       "    </tr>\n",
       "    <tr>\n",
       "      <th>5</th>\n",
       "      <td>Senior Data Scientist</td>\n",
       "      <td></td>\n",
       "      <td>Job description As our Senior Data Scientist, ...</td>\n",
       "      <td>Not Disclosed</td>\n",
       "    </tr>\n",
       "    <tr>\n",
       "      <th>6</th>\n",
       "      <td>Senior Data Scientist</td>\n",
       "      <td>Nielsen</td>\n",
       "      <td>Job description As our Senior Data Scientist, ...</td>\n",
       "      <td>Not Disclosed</td>\n",
       "    </tr>\n",
       "    <tr>\n",
       "      <th>7</th>\n",
       "      <td>Senior Data Scientist</td>\n",
       "      <td>3.8(483 Reviews)</td>\n",
       "      <td>Job description Epsilon India team is looking ...</td>\n",
       "      <td>Not Disclosed</td>\n",
       "    </tr>\n",
       "    <tr>\n",
       "      <th>8</th>\n",
       "      <td>Sr Data Scientist, Payments</td>\n",
       "      <td></td>\n",
       "      <td>Job description The Challenge Be a thought lea...</td>\n",
       "      <td>Not Disclosed</td>\n",
       "    </tr>\n",
       "    <tr>\n",
       "      <th>9</th>\n",
       "      <td>Senior Data Scientist</td>\n",
       "      <td></td>\n",
       "      <td>Job description Building Machine learning mode...</td>\n",
       "      <td>Not Disclosed</td>\n",
       "    </tr>\n",
       "  </tbody>\n",
       "</table>\n",
       "</div>"
      ],
      "text/plain": [
       "                         title            company  \\\n",
       "0        Senior Data Scientist      24/7 Customer   \n",
       "1        Senior Data Scientist  3.6(1198 Reviews)   \n",
       "2        Senior Data Scientist  Fractal Analytics   \n",
       "3               Data Scientist    3.9(97 Reviews)   \n",
       "4        Senior Data Scientist                      \n",
       "5        Senior Data Scientist                      \n",
       "6        Senior Data Scientist            Nielsen   \n",
       "7        Senior Data Scientist   3.8(483 Reviews)   \n",
       "8  Sr Data Scientist, Payments                      \n",
       "9        Senior Data Scientist                      \n",
       "\n",
       "                                     Job description         salary  \n",
       "0  Job description Brief about the Role The Platf...  Not Disclosed  \n",
       "1  Job description The Artificial Intelligence an...  Not Disclosed  \n",
       "2  Job description ABOUT THIS JOB NielsenIQ Advan...  Not Disclosed  \n",
       "3  Job description Role: Data Scientist  Roles an...  Not Disclosed  \n",
       "4  Job description Responsibilities: Build and Op...  Not Disclosed  \n",
       "5  Job description As our Senior Data Scientist, ...  Not Disclosed  \n",
       "6  Job description As our Senior Data Scientist, ...  Not Disclosed  \n",
       "7  Job description Epsilon India team is looking ...  Not Disclosed  \n",
       "8  Job description The Challenge Be a thought lea...  Not Disclosed  \n",
       "9  Job description Building Machine learning mode...  Not Disclosed  "
      ]
     },
     "execution_count": 196,
     "metadata": {},
     "output_type": "execute_result"
    }
   ],
   "source": [
    "import pandas as pd\n",
    "jobs=pd.DataFrame({})\n",
    "jobs['title']=jobtitles[:10]   \n",
    "jobs['company']=companyName[:10]  \n",
    "jobs['Job description']=fulljobdesc[:10]   \n",
    "jobs['salary']=salarytitles[:10] \n",
    "\n",
    "\n",
    "jobs"
   ]
  },
  {
   "cell_type": "markdown",
   "metadata": {},
   "source": [
    "# Question 3"
   ]
  },
  {
   "cell_type": "markdown",
   "metadata": {},
   "source": [
    "first get the webpage https://www.naukri.com/"
   ]
  },
  {
   "cell_type": "code",
   "execution_count": 206,
   "metadata": {},
   "outputs": [],
   "source": [
    "driver=webdriver.Chrome(r\"C:\\chromedriver.exe\")\n",
    "url='https://www.naukri.com/'\n",
    "driver.get(url)"
   ]
  },
  {
   "cell_type": "markdown",
   "metadata": {},
   "source": [
    "Enter “Data Scientist” in “Skill,Designations,Companies” field ."
   ]
  },
  {
   "cell_type": "code",
   "execution_count": 207,
   "metadata": {},
   "outputs": [],
   "source": [
    "search_job=driver.find_element_by_xpath('//input[@class=\"sugInp\"]')\n",
    "search_job.send_keys(\"Data Scientist\")"
   ]
  },
  {
   "cell_type": "markdown",
   "metadata": {},
   "source": [
    "click the search button."
   ]
  },
  {
   "cell_type": "code",
   "execution_count": 211,
   "metadata": {},
   "outputs": [],
   "source": [
    "search_btn=driver.find_element_by_xpath(\"//button[@class='btn']\")\n",
    "search_btn.click()"
   ]
  },
  {
   "cell_type": "markdown",
   "metadata": {},
   "source": [
    "apply the location filter-“Delhi/NCR”"
   ]
  },
  {
   "cell_type": "code",
   "execution_count": 213,
   "metadata": {},
   "outputs": [],
   "source": [
    "search_btn1=driver.find_element_by_xpath(\"//span[@title='Delhi / NCR']\")\n",
    "search_btn1.click()"
   ]
  },
  {
   "cell_type": "markdown",
   "metadata": {},
   "source": [
    "apply the salary filter to be used: “3-6” lakhs"
   ]
  },
  {
   "cell_type": "code",
   "execution_count": 214,
   "metadata": {},
   "outputs": [],
   "source": [
    "search_btn2=driver.find_element_by_xpath(\"/html/body/div[1]/div[3]/div[2]/section[1]/div[2]/div[3]/div[2]/div[2]/label/p/span[1]\")\n",
    "search_btn2.click()"
   ]
  },
  {
   "cell_type": "markdown",
   "metadata": {},
   "source": [
    " Then scrape the data for the first 10 jobs results you get."
   ]
  },
  {
   "cell_type": "code",
   "execution_count": 215,
   "metadata": {},
   "outputs": [],
   "source": [
    "#job title\n",
    "alltitle=driver.find_elements_by_xpath(\"//a[@class='title fw500 ellipsis']\")\n",
    "\n",
    "job_titles=[]\n",
    "for i in alltitle:\n",
    "    job_titles.append(i.text)\n",
    "\n",
    "\n",
    "#company\n",
    "companies_tags=driver.find_elements_by_xpath(\"//a[@class='subTitle ellipsis fleft']\")\n",
    "\n",
    "companies_tags_titles=[]\n",
    "for i in companies_tags:\n",
    "    companies_tags_titles.append(i.text)\n",
    "\n",
    "\n",
    "#experience\n",
    "experience_tags=driver.find_elements_by_xpath(\"//li[@class='fleft grey-text br2 placeHolderLi experience']//span\")\n",
    "\n",
    "experience_tags_titles=[]\n",
    "for i in experience_tags:\n",
    "    experience_tags_titles.append(i.text)\n",
    "\n",
    "\n",
    "#Location\n",
    "location_title=driver.find_elements_by_xpath(\"//li[@class='fleft grey-text br2 placeHolderLi location']//span\")\n",
    "\n",
    "location_tags_titles=[]\n",
    "for i in location_title:\n",
    "    location_tags_titles.append(i.text)\n",
    "    \n",
    "\n",
    "\n",
    "#salary\n",
    "salary_tags=driver.find_elements_by_xpath(\"//li[@class='fleft grey-text br2 placeHolderLi salary']//span\")\n",
    "\n",
    "\n",
    "salary_tags_titles=[]\n",
    "for i in salary_tags:\n",
    "    salary_tags_titles.append(i.text)\n"
   ]
  },
  {
   "cell_type": "code",
   "execution_count": 216,
   "metadata": {},
   "outputs": [
    {
     "data": {
      "text/html": [
       "<div>\n",
       "<style scoped>\n",
       "    .dataframe tbody tr th:only-of-type {\n",
       "        vertical-align: middle;\n",
       "    }\n",
       "\n",
       "    .dataframe tbody tr th {\n",
       "        vertical-align: top;\n",
       "    }\n",
       "\n",
       "    .dataframe thead th {\n",
       "        text-align: right;\n",
       "    }\n",
       "</style>\n",
       "<table border=\"1\" class=\"dataframe\">\n",
       "  <thead>\n",
       "    <tr style=\"text-align: right;\">\n",
       "      <th></th>\n",
       "      <th>title</th>\n",
       "      <th>company</th>\n",
       "      <th>experience</th>\n",
       "      <th>salary</th>\n",
       "      <th>place</th>\n",
       "    </tr>\n",
       "  </thead>\n",
       "  <tbody>\n",
       "    <tr>\n",
       "      <th>0</th>\n",
       "      <td>Data Scientist - Machine Learning/ NLP</td>\n",
       "      <td>TalPro</td>\n",
       "      <td>2-6 Yrs</td>\n",
       "      <td>Not disclosed</td>\n",
       "      <td>Gurgaon/Gurugram</td>\n",
       "    </tr>\n",
       "    <tr>\n",
       "      <th>1</th>\n",
       "      <td>Only Fresher / Data Scientist / Data Analyst /...</td>\n",
       "      <td>GABA Consultancy services</td>\n",
       "      <td>0-0 Yrs</td>\n",
       "      <td>2,25,000 - 4,75,000 PA.</td>\n",
       "      <td>Noida, Gurgaon/Gurugram, Delhi / NCR</td>\n",
       "    </tr>\n",
       "    <tr>\n",
       "      <th>2</th>\n",
       "      <td>Data Scientist / Data Analyst -Business Analyst</td>\n",
       "      <td>Inflexion Analytix Private Limited</td>\n",
       "      <td>0-3 Yrs</td>\n",
       "      <td>3,50,000 - 4,50,000 PA.</td>\n",
       "      <td>Mumbai, Hyderabad/Secunderabad, Pune, Gurgaon/...</td>\n",
       "    </tr>\n",
       "    <tr>\n",
       "      <th>3</th>\n",
       "      <td>Data Scientist -Delhi</td>\n",
       "      <td>CHANGE LEADERS CONSULTING</td>\n",
       "      <td>5-8 Yrs</td>\n",
       "      <td>Not disclosed</td>\n",
       "      <td>New Delhi</td>\n",
       "    </tr>\n",
       "    <tr>\n",
       "      <th>4</th>\n",
       "      <td>Data Scientist - Text NLP | Noida</td>\n",
       "      <td>Acidaes Solutions Pvt. Ltd.</td>\n",
       "      <td>3-5 Yrs</td>\n",
       "      <td>Not disclosed</td>\n",
       "      <td>Noida</td>\n",
       "    </tr>\n",
       "    <tr>\n",
       "      <th>5</th>\n",
       "      <td>Data Scientist</td>\n",
       "      <td>NEC CORPORATION INDIA PRIVATE LIMITED</td>\n",
       "      <td>3-8 Yrs</td>\n",
       "      <td>Not disclosed</td>\n",
       "      <td>Noida</td>\n",
       "    </tr>\n",
       "    <tr>\n",
       "      <th>6</th>\n",
       "      <td>Data Scientist - Machine Learning/NLP</td>\n",
       "      <td>TalPro</td>\n",
       "      <td>2-6 Yrs</td>\n",
       "      <td>Not disclosed</td>\n",
       "      <td>Gurgaon/Gurugram</td>\n",
       "    </tr>\n",
       "    <tr>\n",
       "      <th>7</th>\n",
       "      <td>Data Scientist - Machine Learning/NLP</td>\n",
       "      <td>TalPro</td>\n",
       "      <td>2-4 Yrs</td>\n",
       "      <td>Not disclosed</td>\n",
       "      <td>Gurgaon/Gurugram</td>\n",
       "    </tr>\n",
       "    <tr>\n",
       "      <th>8</th>\n",
       "      <td>Data analytics / Data scientist intern (work f...</td>\n",
       "      <td>TalkValley LLC</td>\n",
       "      <td>0-5 Yrs</td>\n",
       "      <td>2,00,000 - 3,00,000 PA.</td>\n",
       "      <td>Kolkata, Bangalore/Bengaluru, Delhi / NCR</td>\n",
       "    </tr>\n",
       "    <tr>\n",
       "      <th>9</th>\n",
       "      <td>Chaayos is Looking For Data Scientist</td>\n",
       "      <td>Chaayos (Sunshine Teahouse Pvt. Ltd.)</td>\n",
       "      <td>0-5 Yrs</td>\n",
       "      <td>Not disclosed</td>\n",
       "      <td>New Delhi</td>\n",
       "    </tr>\n",
       "  </tbody>\n",
       "</table>\n",
       "</div>"
      ],
      "text/plain": [
       "                                               title  \\\n",
       "0             Data Scientist - Machine Learning/ NLP   \n",
       "1  Only Fresher / Data Scientist / Data Analyst /...   \n",
       "2    Data Scientist / Data Analyst -Business Analyst   \n",
       "3                              Data Scientist -Delhi   \n",
       "4                  Data Scientist - Text NLP | Noida   \n",
       "5                                     Data Scientist   \n",
       "6              Data Scientist - Machine Learning/NLP   \n",
       "7              Data Scientist - Machine Learning/NLP   \n",
       "8  Data analytics / Data scientist intern (work f...   \n",
       "9              Chaayos is Looking For Data Scientist   \n",
       "\n",
       "                                 company experience                   salary  \\\n",
       "0                                 TalPro    2-6 Yrs            Not disclosed   \n",
       "1              GABA Consultancy services    0-0 Yrs  2,25,000 - 4,75,000 PA.   \n",
       "2     Inflexion Analytix Private Limited    0-3 Yrs  3,50,000 - 4,50,000 PA.   \n",
       "3              CHANGE LEADERS CONSULTING    5-8 Yrs            Not disclosed   \n",
       "4            Acidaes Solutions Pvt. Ltd.    3-5 Yrs            Not disclosed   \n",
       "5  NEC CORPORATION INDIA PRIVATE LIMITED    3-8 Yrs            Not disclosed   \n",
       "6                                 TalPro    2-6 Yrs            Not disclosed   \n",
       "7                                 TalPro    2-4 Yrs            Not disclosed   \n",
       "8                         TalkValley LLC    0-5 Yrs  2,00,000 - 3,00,000 PA.   \n",
       "9  Chaayos (Sunshine Teahouse Pvt. Ltd.)    0-5 Yrs            Not disclosed   \n",
       "\n",
       "                                               place  \n",
       "0                                   Gurgaon/Gurugram  \n",
       "1               Noida, Gurgaon/Gurugram, Delhi / NCR  \n",
       "2  Mumbai, Hyderabad/Secunderabad, Pune, Gurgaon/...  \n",
       "3                                          New Delhi  \n",
       "4                                              Noida  \n",
       "5                                              Noida  \n",
       "6                                   Gurgaon/Gurugram  \n",
       "7                                   Gurgaon/Gurugram  \n",
       "8          Kolkata, Bangalore/Bengaluru, Delhi / NCR  \n",
       "9                                          New Delhi  "
      ]
     },
     "execution_count": 216,
     "metadata": {},
     "output_type": "execute_result"
    }
   ],
   "source": [
    "import pandas as pd\n",
    "jobs=pd.DataFrame({})\n",
    "jobs['title']=job_titles[:10]\n",
    "jobs['company']=companies_tags_titles[:10]\n",
    "jobs['experience']=experience_tags_titles[:10]\n",
    "jobs['salary']=salary_tags_titles[:10]\n",
    "jobs['place']=location_tags_titles[:10]\n",
    "\n",
    "jobs"
   ]
  },
  {
   "cell_type": "markdown",
   "metadata": {},
   "source": [
    "# Question 4"
   ]
  },
  {
   "cell_type": "markdown",
   "metadata": {},
   "source": [
    "get the webpage https://www.glassdoor.co.in/index.htm"
   ]
  },
  {
   "cell_type": "code",
   "execution_count": 5,
   "metadata": {},
   "outputs": [],
   "source": [
    "driver=webdriver.Chrome(r\"C:\\chromedriver.exe\")\n",
    "url='https://www.glassdoor.co.in/index.htm'\n",
    "driver.get(url)"
   ]
  },
  {
   "cell_type": "markdown",
   "metadata": {},
   "source": [
    "sign in"
   ]
  },
  {
   "cell_type": "code",
   "execution_count": null,
   "metadata": {},
   "outputs": [],
   "source": [
    "driver.implicitly_wait(10)\n",
    "sign_in_btn=driver.find_element_by_xpath(\"//div[@class='d-flex justify-content-center order-1 order-md-2 LockedHomeHeaderStyles__flexibleContainer']//button\")\n",
    "sign_in_btn.click()\n"
   ]
  },
  {
   "cell_type": "markdown",
   "metadata": {},
   "source": [
    "username:aneeshabsoman123@gmail.com\n",
    "\n",
    "password:fliprobo2021"
   ]
  },
  {
   "cell_type": "code",
   "execution_count": null,
   "metadata": {},
   "outputs": [],
   "source": [
    "\n",
    "username=driver.find_element_by_xpath('//input[@id=\"userEmail\"]')\n",
    "username.send_keys(\"aneeshabsoman123@gmail.com\")"
   ]
  },
  {
   "cell_type": "code",
   "execution_count": 104,
   "metadata": {},
   "outputs": [],
   "source": [
    "password=driver.find_element_by_xpath('//input[@id=\"userPassword\"]')\n",
    "password.send_keys(\"fliprobo2021\")"
   ]
  },
  {
   "cell_type": "code",
   "execution_count": 105,
   "metadata": {},
   "outputs": [],
   "source": [
    "sign_in_btn=driver.find_element_by_xpath(\"//button[@class='gd-ui-button minWidthBtn css-8i7bc2']\")\n",
    "sign_in_btn.click()"
   ]
  },
  {
   "cell_type": "markdown",
   "metadata": {},
   "source": [
    " Enter “Data Scientist” in “Job Title,Keyword,Company” field"
   ]
  },
  {
   "cell_type": "code",
   "execution_count": 6,
   "metadata": {},
   "outputs": [],
   "source": [
    "search_job=driver.find_element_by_xpath('//div[@class=\"col headerSearchInput css-1ohf0ui\"]//div//input')\n",
    "search_job.send_keys(\"Data Scientist\")"
   ]
  },
  {
   "cell_type": "markdown",
   "metadata": {},
   "source": [
    "enter “Noida” in “location” field."
   ]
  },
  {
   "cell_type": "code",
   "execution_count": 7,
   "metadata": {},
   "outputs": [],
   "source": [
    "\n",
    "search_place=driver.find_element_by_xpath('/html/body/header/nav[1]/div/div/div/div[4]/div[2]/form/div/div[3]/div/input')\n",
    "search_place.clear()\n",
    "search_place.send_keys(\"Noida\")"
   ]
  },
  {
   "cell_type": "markdown",
   "metadata": {},
   "source": [
    " click the search button"
   ]
  },
  {
   "cell_type": "code",
   "execution_count": 8,
   "metadata": {},
   "outputs": [],
   "source": [
    "\n",
    "search_btn=driver.find_element_by_xpath(\"/html/body/header/nav[1]/div/div/div/div[4]/div[2]/form/div/button\")\n",
    "search_btn.click()"
   ]
  },
  {
   "cell_type": "code",
   "execution_count": 15,
   "metadata": {},
   "outputs": [],
   "source": [
    "#job title\n",
    "alltitle=driver.find_elements_by_xpath(\"//a[@class='jobLink css-1rd3saf eigr9kq2']\")\n",
    "\n",
    "job_titles=[]\n",
    "for i in alltitle:\n",
    "    job_titles.append(i.text)\n",
    "\n",
    "\n"
   ]
  },
  {
   "cell_type": "code",
   "execution_count": 14,
   "metadata": {},
   "outputs": [
    {
     "data": {
      "text/plain": [
       "['Data Analyst',\n",
       " 'Data Scientist',\n",
       " 'Data Scientist',\n",
       " 'Data Scientist',\n",
       " 'Data Scientist',\n",
       " 'Data Scientist',\n",
       " 'Data Scientist',\n",
       " 'Data Scientist',\n",
       " 'Data Scientist',\n",
       " 'Data Scientist',\n",
       " 'Data Scientist',\n",
       " 'Data Scientist',\n",
       " 'Data Scientist',\n",
       " 'Data Scientist',\n",
       " 'Data Scientist',\n",
       " 'Data Scientist',\n",
       " 'Data Scientist',\n",
       " 'Data Scientist',\n",
       " 'Data Scientist - QuantumBlack',\n",
       " 'Data Scientist',\n",
       " 'Data Scientist',\n",
       " 'Machine Learning Engineer/ Data Scientist',\n",
       " 'Data Scientist',\n",
       " 'Data Scientists',\n",
       " 'Data Scientist',\n",
       " 'Jr. Data Scientist',\n",
       " 'Data Scientist',\n",
       " 'Data Scientist',\n",
       " 'Data Scientist',\n",
       " 'Data Scientist-AI and Digital Lab',\n",
       " 'Data Scientist']"
      ]
     },
     "execution_count": 14,
     "metadata": {},
     "output_type": "execute_result"
    }
   ],
   "source": [
    "job_titles"
   ]
  },
  {
   "cell_type": "code",
   "execution_count": 17,
   "metadata": {},
   "outputs": [],
   "source": [
    "#company\n",
    "companies_tags=driver.find_elements_by_xpath(\"//a[@class=' css-l2wjgv e1n63ojh0 jobLink']//span\")\n",
    "\n",
    "companies_tags_titles=[]\n",
    "for i in companies_tags:\n",
    "    companies_tags_titles.append(i.text)\n",
    "\n",
    "\n"
   ]
  },
  {
   "cell_type": "code",
   "execution_count": 18,
   "metadata": {},
   "outputs": [
    {
     "data": {
      "text/plain": [
       "['Taboola',\n",
       " 'Ericsson',\n",
       " 'Jubna',\n",
       " 'Siemens Technology and Services Private Limited',\n",
       " 'Techlive',\n",
       " 'Biz2Credit Inc',\n",
       " 'Priority Vendor',\n",
       " 'Crowe',\n",
       " 'Innovacer',\n",
       " 'Data Patterns',\n",
       " 'Gauge Data Solutions',\n",
       " 'Lantern Digital Services',\n",
       " 'Salasar New Age Technologies',\n",
       " 'WishFin',\n",
       " 'xtLytics',\n",
       " 'MobiKwik',\n",
       " 'ADCI - Haryana',\n",
       " 'SearchUrCollege',\n",
       " 'McKinsey & Company',\n",
       " 'Wobb.ai',\n",
       " 'MasterCard',\n",
       " 'Dürr Somac GmbH',\n",
       " 'Team Computers',\n",
       " 'Jubna',\n",
       " 'Ank Aha',\n",
       " 'xtLytics',\n",
       " '',\n",
       " 'Analytics Vidhya',\n",
       " 'The Luxury Closet',\n",
       " 'CSTEP',\n",
       " 'Mount Talent Consulting']"
      ]
     },
     "execution_count": 18,
     "metadata": {},
     "output_type": "execute_result"
    }
   ],
   "source": [
    "companies_tags_titles"
   ]
  },
  {
   "cell_type": "code",
   "execution_count": 19,
   "metadata": {},
   "outputs": [],
   "source": [
    "#Location\n",
    "location_title=driver.find_elements_by_xpath(\"//span[@class='pr-xxsm css-1ndif2q e1rrn5ka0']\")\n",
    "\n",
    "location_tags_titles=[]\n",
    "for i in location_title:\n",
    "    location_tags_titles.append(i.text)\n",
    "    \n",
    "\n",
    "\n"
   ]
  },
  {
   "cell_type": "code",
   "execution_count": 20,
   "metadata": {},
   "outputs": [
    {
     "data": {
      "text/plain": [
       "['New Delhi',\n",
       " 'Noida',\n",
       " 'Noida',\n",
       " 'Gurgaon',\n",
       " 'Noida',\n",
       " 'Noida',\n",
       " 'Noida',\n",
       " 'Noida',\n",
       " 'Noida',\n",
       " 'Noida',\n",
       " 'Noida',\n",
       " 'Noida',\n",
       " 'Noida',\n",
       " 'Noida',\n",
       " 'Noida',\n",
       " 'Gurgaon',\n",
       " 'Gurgaon',\n",
       " 'Noida',\n",
       " 'Gurgaon',\n",
       " 'New Delhi',\n",
       " 'Gurgaon',\n",
       " 'Noida',\n",
       " 'New Delhi',\n",
       " 'Noida',\n",
       " 'New Delhi',\n",
       " 'Noida',\n",
       " 'Gurgaon',\n",
       " 'Gurgaon',\n",
       " 'Gurgaon',\n",
       " 'Noida',\n",
       " 'Gurgaon']"
      ]
     },
     "execution_count": 20,
     "metadata": {},
     "output_type": "execute_result"
    }
   ],
   "source": [
    "location_tags_titles"
   ]
  },
  {
   "cell_type": "code",
   "execution_count": 22,
   "metadata": {},
   "outputs": [],
   "source": [
    "#salary\n",
    "salary_tags=driver.find_elements_by_xpath(\"//span[@class='css-1imh2hq e1wijj242']\")\n",
    "\n",
    "\n",
    "salary_tags_titles=[]\n",
    "for i in salary_tags:\n",
    "    salary_tags_titles.append(i.text)\n"
   ]
  },
  {
   "cell_type": "code",
   "execution_count": 23,
   "metadata": {},
   "outputs": [
    {
     "data": {
      "text/plain": [
       "['₹426K - ₹708K (Glassdoor Est.)',\n",
       " '₹300K - ₹864K (Glassdoor Est.)',\n",
       " '₹500K - ₹720K (Glassdoor Est.)',\n",
       " '₹300K - ₹850K (Glassdoor Est.)',\n",
       " '₹636K - ₹915K (Glassdoor Est.)',\n",
       " '₹500K - ₹816K (Glassdoor Est.)',\n",
       " '₹300K - ₹720K (Glassdoor Est.)',\n",
       " '₹749K - ₹836K (Glassdoor Est.)',\n",
       " '₹729K - ₹909K (Glassdoor Est.)',\n",
       " '₹144K - ₹675K (Glassdoor Est.)',\n",
       " '₹275K - ₹400K (Glassdoor Est.)',\n",
       " '₹500K - ₹715K (Glassdoor Est.)']"
      ]
     },
     "execution_count": 23,
     "metadata": {},
     "output_type": "execute_result"
    }
   ],
   "source": [
    "salary_tags_titles\n"
   ]
  },
  {
   "cell_type": "code",
   "execution_count": 24,
   "metadata": {},
   "outputs": [
    {
     "data": {
      "text/html": [
       "<div>\n",
       "<style scoped>\n",
       "    .dataframe tbody tr th:only-of-type {\n",
       "        vertical-align: middle;\n",
       "    }\n",
       "\n",
       "    .dataframe tbody tr th {\n",
       "        vertical-align: top;\n",
       "    }\n",
       "\n",
       "    .dataframe thead th {\n",
       "        text-align: right;\n",
       "    }\n",
       "</style>\n",
       "<table border=\"1\" class=\"dataframe\">\n",
       "  <thead>\n",
       "    <tr style=\"text-align: right;\">\n",
       "      <th></th>\n",
       "      <th>title</th>\n",
       "      <th>company</th>\n",
       "      <th>salary</th>\n",
       "      <th>place</th>\n",
       "    </tr>\n",
       "  </thead>\n",
       "  <tbody>\n",
       "    <tr>\n",
       "      <th>0</th>\n",
       "      <td>Data Analyst</td>\n",
       "      <td>Taboola</td>\n",
       "      <td>₹426K - ₹708K (Glassdoor Est.)</td>\n",
       "      <td>New Delhi</td>\n",
       "    </tr>\n",
       "    <tr>\n",
       "      <th>1</th>\n",
       "      <td>Data Scientist</td>\n",
       "      <td>Ericsson</td>\n",
       "      <td>₹300K - ₹864K (Glassdoor Est.)</td>\n",
       "      <td>Noida</td>\n",
       "    </tr>\n",
       "    <tr>\n",
       "      <th>2</th>\n",
       "      <td>Data Scientist</td>\n",
       "      <td>Jubna</td>\n",
       "      <td>₹500K - ₹720K (Glassdoor Est.)</td>\n",
       "      <td>Noida</td>\n",
       "    </tr>\n",
       "    <tr>\n",
       "      <th>3</th>\n",
       "      <td>Data Scientist</td>\n",
       "      <td>Siemens Technology and Services Private Limited</td>\n",
       "      <td>₹300K - ₹850K (Glassdoor Est.)</td>\n",
       "      <td>Gurgaon</td>\n",
       "    </tr>\n",
       "    <tr>\n",
       "      <th>4</th>\n",
       "      <td>Data Scientist</td>\n",
       "      <td>Techlive</td>\n",
       "      <td>₹636K - ₹915K (Glassdoor Est.)</td>\n",
       "      <td>Noida</td>\n",
       "    </tr>\n",
       "    <tr>\n",
       "      <th>5</th>\n",
       "      <td>Data Scientist</td>\n",
       "      <td>Biz2Credit Inc</td>\n",
       "      <td>₹500K - ₹816K (Glassdoor Est.)</td>\n",
       "      <td>Noida</td>\n",
       "    </tr>\n",
       "    <tr>\n",
       "      <th>6</th>\n",
       "      <td>Data Scientist</td>\n",
       "      <td>Priority Vendor</td>\n",
       "      <td>₹300K - ₹720K (Glassdoor Est.)</td>\n",
       "      <td>Noida</td>\n",
       "    </tr>\n",
       "    <tr>\n",
       "      <th>7</th>\n",
       "      <td>Data Scientist</td>\n",
       "      <td>Crowe</td>\n",
       "      <td>₹749K - ₹836K (Glassdoor Est.)</td>\n",
       "      <td>Noida</td>\n",
       "    </tr>\n",
       "    <tr>\n",
       "      <th>8</th>\n",
       "      <td>Data Scientist</td>\n",
       "      <td>Innovacer</td>\n",
       "      <td>₹729K - ₹909K (Glassdoor Est.)</td>\n",
       "      <td>Noida</td>\n",
       "    </tr>\n",
       "    <tr>\n",
       "      <th>9</th>\n",
       "      <td>Data Scientist</td>\n",
       "      <td>Data Patterns</td>\n",
       "      <td>₹144K - ₹675K (Glassdoor Est.)</td>\n",
       "      <td>Noida</td>\n",
       "    </tr>\n",
       "  </tbody>\n",
       "</table>\n",
       "</div>"
      ],
      "text/plain": [
       "            title                                          company  \\\n",
       "0    Data Analyst                                          Taboola   \n",
       "1  Data Scientist                                         Ericsson   \n",
       "2  Data Scientist                                            Jubna   \n",
       "3  Data Scientist  Siemens Technology and Services Private Limited   \n",
       "4  Data Scientist                                         Techlive   \n",
       "5  Data Scientist                                   Biz2Credit Inc   \n",
       "6  Data Scientist                                  Priority Vendor   \n",
       "7  Data Scientist                                            Crowe   \n",
       "8  Data Scientist                                        Innovacer   \n",
       "9  Data Scientist                                    Data Patterns   \n",
       "\n",
       "                           salary      place  \n",
       "0  ₹426K - ₹708K (Glassdoor Est.)  New Delhi  \n",
       "1  ₹300K - ₹864K (Glassdoor Est.)      Noida  \n",
       "2  ₹500K - ₹720K (Glassdoor Est.)      Noida  \n",
       "3  ₹300K - ₹850K (Glassdoor Est.)    Gurgaon  \n",
       "4  ₹636K - ₹915K (Glassdoor Est.)      Noida  \n",
       "5  ₹500K - ₹816K (Glassdoor Est.)      Noida  \n",
       "6  ₹300K - ₹720K (Glassdoor Est.)      Noida  \n",
       "7  ₹749K - ₹836K (Glassdoor Est.)      Noida  \n",
       "8  ₹729K - ₹909K (Glassdoor Est.)      Noida  \n",
       "9  ₹144K - ₹675K (Glassdoor Est.)      Noida  "
      ]
     },
     "execution_count": 24,
     "metadata": {},
     "output_type": "execute_result"
    }
   ],
   "source": [
    "import pandas as pd\n",
    "jobs=pd.DataFrame({})\n",
    "jobs['title']=job_titles[:10]\n",
    "jobs['company']=companies_tags_titles[:10]\n",
    "jobs['salary']=salary_tags_titles[:10]\n",
    "jobs['place']=location_tags_titles[:10]\n",
    "\n",
    "jobs"
   ]
  },
  {
   "cell_type": "markdown",
   "metadata": {},
   "source": [
    "# Question 5"
   ]
  },
  {
   "cell_type": "markdown",
   "metadata": {},
   "source": [
    "first get the webpage https://www.glassdoor.co.in/Salaries/index.htm"
   ]
  },
  {
   "cell_type": "code",
   "execution_count": 25,
   "metadata": {},
   "outputs": [],
   "source": [
    "driver=webdriver.Chrome(r\"C:\\chromedriver.exe\")\n",
    "url='https://www.glassdoor.co.in/Salaries/index.htm'\n",
    "driver.get(url)"
   ]
  },
  {
   "cell_type": "markdown",
   "metadata": {},
   "source": [
    "driver.implicitly_wait(10)\n",
    "sign_in_btn=driver.find_element_by_xpath(\"//div[@class='d-flex justify-content-center order-1 order-md-2 LockedHomeHeaderStyles__flexibleContainer']//button\")\n",
    "sign_in_btn.click()\n"
   ]
  },
  {
   "cell_type": "markdown",
   "metadata": {},
   "source": [
    "username=driver.find_element_by_xpath('//input[@id=\"userEmail\"]')\n",
    "username.send_keys(\"aneeshabsoman123@gmail.com\")\n",
    "\n",
    "driver.implicitly_wait(5)\n",
    "\n",
    "password=driver.find_element_by_xpath('//input[@id=\"userPassword\"]')\n",
    "password.send_keys(\"fliprobo2021\")\n",
    "\n",
    "driver.implicitly_wait(5)\n",
    "\n",
    "sign_in_btn=driver.find_element_by_xpath(\"//button[@class='gd-ui-button minWidthBtn css-8i7bc2']\")\n",
    "sign_in_btn.click()"
   ]
  },
  {
   "cell_type": "markdown",
   "metadata": {},
   "source": [
    "Enter “Data Scientist” in Job title field and “Noida” in location field.\n"
   ]
  },
  {
   "cell_type": "code",
   "execution_count": 28,
   "metadata": {},
   "outputs": [],
   "source": [
    "search_job=driver.find_element_by_xpath('//input[@id=\"KeywordSearch\"]')\n",
    "search_job.send_keys(\"Data Scientist\")\n"
   ]
  },
  {
   "cell_type": "code",
   "execution_count": 29,
   "metadata": {},
   "outputs": [],
   "source": [
    "search_place=driver.find_element_by_xpath('//input[@id=\"LocationSearch\"]')\n",
    "search_place.send_keys(\"Noida\")"
   ]
  },
  {
   "cell_type": "markdown",
   "metadata": {},
   "source": [
    "click the search button"
   ]
  },
  {
   "cell_type": "code",
   "execution_count": 30,
   "metadata": {},
   "outputs": [],
   "source": [
    "search_btn=driver.find_element_by_xpath('//button[@id=\"HeroSearchButton\"]')\n",
    "search_btn.click()\n"
   ]
  },
  {
   "cell_type": "code",
   "execution_count": 44,
   "metadata": {},
   "outputs": [],
   "source": [
    "\n",
    "#company\n",
    "companiesdetails_tags=driver.find_elements_by_xpath(\"//div[@class='d-flex']//div//p\")\n",
    "\n",
    "companiesdetails_tags_titles=[]\n",
    "for i in companiesdetails_tags:\n",
    "    companiesdetails_tags_titles.append(i.text)"
   ]
  },
  {
   "cell_type": "code",
   "execution_count": 55,
   "metadata": {},
   "outputs": [
    {
     "data": {
      "text/plain": [
       "['Data Scientist',\n",
       " 'IBM',\n",
       " '₹9,00,000/yr',\n",
       " 'Range: ₹6L - ₹27L',\n",
       " '18 salaries',\n",
       " 'See 133 salaries from all locations',\n",
       " 'Data Scientist',\n",
       " 'Tata Consultancy Services',\n",
       " '₹6,15,289/yr',\n",
       " 'Range: ₹3L - ₹13L',\n",
       " '17 salaries',\n",
       " 'See 132 salaries from all locations',\n",
       " 'Data Scientist',\n",
       " 'Accenture',\n",
       " '₹11,63,336/yr',\n",
       " 'Range: ₹6L - ₹22L',\n",
       " '15 salaries',\n",
       " 'See 69 salaries from all locations',\n",
       " 'Data Scientist',\n",
       " 'Delhivery',\n",
       " '₹12,18,244/yr',\n",
       " 'Range: ₹5L - ₹1Cr',\n",
       " '15 salaries',\n",
       " 'See 21 salaries from all locations',\n",
       " 'Data Scientist',\n",
       " 'Ericsson-Worldwide',\n",
       " '₹7,39,238/yr',\n",
       " 'Range: ₹4L - ₹16L',\n",
       " '14 salaries',\n",
       " 'See 32 salaries from all locations',\n",
       " 'Data Scientist',\n",
       " 'UnitedHealth Group',\n",
       " '₹13,38,279/yr',\n",
       " 'Range: ₹11L - ₹15L',\n",
       " '11 salaries',\n",
       " 'See 20 salaries from all locations',\n",
       " 'Data Scientist',\n",
       " 'Valiance Solutions',\n",
       " '₹8,63,750/yr',\n",
       " 'Range: ₹5L - ₹15L',\n",
       " '10 salaries',\n",
       " 'See 12 salaries from all locations',\n",
       " 'Data Scientist',\n",
       " 'Optum Global Solutions',\n",
       " '₹13,28,697/yr',\n",
       " 'Range: ₹4L - ₹22L',\n",
       " '9 salaries',\n",
       " 'See 13 salaries from all locations',\n",
       " 'Data Scientist',\n",
       " 'ZS Associates',\n",
       " '₹11,42,356/yr',\n",
       " 'Range: ₹2L - ₹18L',\n",
       " '8 salaries',\n",
       " 'See 21 salaries from all locations',\n",
       " 'Data Scientist',\n",
       " 'EXL Service',\n",
       " '₹11,46,073/yr',\n",
       " 'Range: ₹6L - ₹15L',\n",
       " '8 salaries',\n",
       " 'See 10 salaries from all locations',\n",
       " 'Data Scientist',\n",
       " 'Optum',\n",
       " '₹13,20,960/yr',\n",
       " 'Range: ₹8L - ₹20L',\n",
       " '8 salaries',\n",
       " 'See 24 salaries from all locations',\n",
       " 'Data Scientist',\n",
       " 'Innovaccer',\n",
       " '₹12,09,040/yr',\n",
       " 'Range: ₹6L - ₹17L',\n",
       " '8 salaries',\n",
       " 'See 12 salaries from all locations',\n",
       " 'Data Scientist',\n",
       " 'Cognizant Technology Solutions',\n",
       " '₹10,09,021/yr',\n",
       " 'Range: ₹8L - ₹13L',\n",
       " '6 salaries',\n",
       " 'See 65 salaries from all locations',\n",
       " 'Data Scientist',\n",
       " 'Nagarro',\n",
       " '₹9,92,632/yr',\n",
       " 'Range: ₹4L - ₹16L',\n",
       " '6 salaries',\n",
       " 'See 6 salaries from all locations',\n",
       " 'Data Scientist',\n",
       " 'dunnhumby',\n",
       " '₹10,55,478/yr',\n",
       " 'Range: ₹8L - ₹20L',\n",
       " '6 salaries',\n",
       " 'See 9 salaries from all locations',\n",
       " 'Data Scientist - Monthly',\n",
       " 'Vidooly Media Tech',\n",
       " '₹34,157/mo',\n",
       " 'Range: ₹12T - ₹63T',\n",
       " '6 salaries',\n",
       " 'See 13 salaries from all locations',\n",
       " 'Data Scientist',\n",
       " 'Tech Mahindra',\n",
       " '₹10,54,402/yr',\n",
       " 'Range: ₹4L - ₹17L',\n",
       " '5 salaries',\n",
       " 'See 26 salaries from all locations',\n",
       " 'Data Scientist',\n",
       " 'OYO',\n",
       " '₹14,15,338/yr',\n",
       " 'Range: ₹10L - ₹19L',\n",
       " '5 salaries',\n",
       " 'See 12 salaries from all locations',\n",
       " 'Data Scientist',\n",
       " 'R Systems',\n",
       " '₹18,40,134/yr',\n",
       " 'Range: ₹8L - ₹30L',\n",
       " '5 salaries',\n",
       " 'See 5 salaries from all locations',\n",
       " 'Data Scientist',\n",
       " 'CARS24.com',\n",
       " '₹10,00,000/yr',\n",
       " 'Range: ₹9L - ₹15L',\n",
       " '5 salaries',\n",
       " 'See 5 salaries from all locations']"
      ]
     },
     "execution_count": 55,
     "metadata": {},
     "output_type": "execute_result"
    }
   ],
   "source": [
    "companiesdetails_tags_titles"
   ]
  },
  {
   "cell_type": "markdown",
   "metadata": {},
   "source": [
    " Company name"
   ]
  },
  {
   "cell_type": "code",
   "execution_count": 41,
   "metadata": {},
   "outputs": [
    {
     "data": {
      "text/plain": [
       "['IBM',\n",
       " 'Tata Consultancy Services',\n",
       " 'Accenture',\n",
       " 'Delhivery',\n",
       " 'Ericsson-Worldwide',\n",
       " 'UnitedHealth Group',\n",
       " 'Valiance Solutions',\n",
       " 'Optum Global Solutions',\n",
       " 'ZS Associates',\n",
       " 'EXL Service',\n",
       " 'Optum',\n",
       " 'Innovaccer',\n",
       " 'Cognizant Technology Solutions',\n",
       " 'Nagarro',\n",
       " 'dunnhumby',\n",
       " 'Vidooly Media Tech',\n",
       " 'Tech Mahindra',\n",
       " 'OYO',\n",
       " 'R Systems',\n",
       " 'CARS24.com']"
      ]
     },
     "execution_count": 41,
     "metadata": {},
     "output_type": "execute_result"
    }
   ],
   "source": [
    "companies_tags_new=[]\n",
    "\n",
    "for i in range(1,len(companies_tags_titles),6):\n",
    "    companies_tags_new.append(companies_tags_titles[i])\n",
    "    \n",
    "companies_tags_new"
   ]
  },
  {
   "cell_type": "markdown",
   "metadata": {},
   "source": [
    "Number of salaries"
   ]
  },
  {
   "cell_type": "code",
   "execution_count": 47,
   "metadata": {},
   "outputs": [],
   "source": [
    "\n",
    "Number_of_salaries=[]\n",
    "\n",
    "for i in range(1,len(companiesdetails_tags_titles),6):\n",
    "    Number_of_salaries.append(companiesdetails_tags_titles[i+3])\n",
    "    \n"
   ]
  },
  {
   "cell_type": "code",
   "execution_count": 48,
   "metadata": {},
   "outputs": [
    {
     "data": {
      "text/plain": [
       "['18 salaries',\n",
       " '17 salaries',\n",
       " '15 salaries',\n",
       " '15 salaries',\n",
       " '14 salaries',\n",
       " '11 salaries',\n",
       " '10 salaries',\n",
       " '9 salaries',\n",
       " '8 salaries',\n",
       " '8 salaries',\n",
       " '8 salaries',\n",
       " '8 salaries',\n",
       " '6 salaries',\n",
       " '6 salaries',\n",
       " '6 salaries',\n",
       " '6 salaries',\n",
       " '5 salaries',\n",
       " '5 salaries',\n",
       " '5 salaries',\n",
       " '5 salaries']"
      ]
     },
     "execution_count": 48,
     "metadata": {},
     "output_type": "execute_result"
    }
   ],
   "source": [
    "Number_of_salaries"
   ]
  },
  {
   "cell_type": "markdown",
   "metadata": {},
   "source": [
    "Average salary"
   ]
  },
  {
   "cell_type": "markdown",
   "metadata": {},
   "source": [
    "  "
   ]
  },
  {
   "cell_type": "code",
   "execution_count": 53,
   "metadata": {},
   "outputs": [],
   "source": [
    "Averagesalary_tags_titles=[]\n",
    "\n",
    "for i in range(1,len(companiesdetails_tags_titles),6):\n",
    "    Averagesalary_tags_titles.append(companiesdetails_tags_titles[i+1])\n",
    "    "
   ]
  },
  {
   "cell_type": "code",
   "execution_count": 54,
   "metadata": {},
   "outputs": [
    {
     "data": {
      "text/plain": [
       "['₹9,00,000/yr',\n",
       " '₹6,15,289/yr',\n",
       " '₹11,63,336/yr',\n",
       " '₹12,18,244/yr',\n",
       " '₹7,39,238/yr',\n",
       " '₹13,38,279/yr',\n",
       " '₹8,63,750/yr',\n",
       " '₹13,28,697/yr',\n",
       " '₹11,42,356/yr',\n",
       " '₹11,46,073/yr',\n",
       " '₹13,20,960/yr',\n",
       " '₹12,09,040/yr',\n",
       " '₹10,09,021/yr',\n",
       " '₹9,92,632/yr',\n",
       " '₹10,55,478/yr',\n",
       " '₹34,157/mo',\n",
       " '₹10,54,402/yr',\n",
       " '₹14,15,338/yr',\n",
       " '₹18,40,134/yr',\n",
       " '₹10,00,000/yr']"
      ]
     },
     "execution_count": 54,
     "metadata": {},
     "output_type": "execute_result"
    }
   ],
   "source": [
    "Averagesalary_tags_titles"
   ]
  },
  {
   "cell_type": "markdown",
   "metadata": {},
   "source": [
    "Range"
   ]
  },
  {
   "cell_type": "code",
   "execution_count": 69,
   "metadata": {},
   "outputs": [
    {
     "data": {
      "text/plain": [
       "['Range: ₹6L - ₹27L',\n",
       " 'Range: ₹3L - ₹13L',\n",
       " 'Range: ₹6L - ₹22L',\n",
       " 'Range: ₹5L - ₹1Cr',\n",
       " 'Range: ₹4L - ₹16L',\n",
       " 'Range: ₹11L - ₹15L',\n",
       " 'Range: ₹5L - ₹15L',\n",
       " 'Range: ₹4L - ₹22L',\n",
       " 'Range: ₹2L - ₹18L',\n",
       " 'Range: ₹6L - ₹15L',\n",
       " 'Range: ₹8L - ₹20L',\n",
       " 'Range: ₹6L - ₹17L',\n",
       " 'Range: ₹8L - ₹13L',\n",
       " 'Range: ₹4L - ₹16L',\n",
       " 'Range: ₹8L - ₹20L',\n",
       " 'Range: ₹12T - ₹63T',\n",
       " 'Range: ₹4L - ₹17L',\n",
       " 'Range: ₹10L - ₹19L',\n",
       " 'Range: ₹8L - ₹30L',\n",
       " 'Range: ₹9L - ₹15L']"
      ]
     },
     "execution_count": 69,
     "metadata": {},
     "output_type": "execute_result"
    }
   ],
   "source": [
    "Range=[]\n",
    "\n",
    "for i in range(1,len(companiesdetails_tags_titles),6):\n",
    "    Range.append(companiesdetails_tags_titles[i+2])\n",
    "    \n",
    "Range"
   ]
  },
  {
   "cell_type": "markdown",
   "metadata": {},
   "source": [
    "Printing Dataframe"
   ]
  },
  {
   "cell_type": "code",
   "execution_count": 74,
   "metadata": {},
   "outputs": [
    {
     "data": {
      "text/html": [
       "<div>\n",
       "<style scoped>\n",
       "    .dataframe tbody tr th:only-of-type {\n",
       "        vertical-align: middle;\n",
       "    }\n",
       "\n",
       "    .dataframe tbody tr th {\n",
       "        vertical-align: top;\n",
       "    }\n",
       "\n",
       "    .dataframe thead th {\n",
       "        text-align: right;\n",
       "    }\n",
       "</style>\n",
       "<table border=\"1\" class=\"dataframe\">\n",
       "  <thead>\n",
       "    <tr style=\"text-align: right;\">\n",
       "      <th></th>\n",
       "      <th>company</th>\n",
       "      <th>Number of salaries</th>\n",
       "      <th>Average salary</th>\n",
       "      <th>salary range</th>\n",
       "    </tr>\n",
       "  </thead>\n",
       "  <tbody>\n",
       "    <tr>\n",
       "      <th>0</th>\n",
       "      <td>IBM</td>\n",
       "      <td>18 salaries</td>\n",
       "      <td>₹9,00,000/yr</td>\n",
       "      <td>Range: ₹6L - ₹27L</td>\n",
       "    </tr>\n",
       "    <tr>\n",
       "      <th>1</th>\n",
       "      <td>Tata Consultancy Services</td>\n",
       "      <td>17 salaries</td>\n",
       "      <td>₹6,15,289/yr</td>\n",
       "      <td>Range: ₹3L - ₹13L</td>\n",
       "    </tr>\n",
       "    <tr>\n",
       "      <th>2</th>\n",
       "      <td>Accenture</td>\n",
       "      <td>15 salaries</td>\n",
       "      <td>₹11,63,336/yr</td>\n",
       "      <td>Range: ₹6L - ₹22L</td>\n",
       "    </tr>\n",
       "    <tr>\n",
       "      <th>3</th>\n",
       "      <td>Delhivery</td>\n",
       "      <td>15 salaries</td>\n",
       "      <td>₹12,18,244/yr</td>\n",
       "      <td>Range: ₹5L - ₹1Cr</td>\n",
       "    </tr>\n",
       "    <tr>\n",
       "      <th>4</th>\n",
       "      <td>Ericsson-Worldwide</td>\n",
       "      <td>14 salaries</td>\n",
       "      <td>₹7,39,238/yr</td>\n",
       "      <td>Range: ₹4L - ₹16L</td>\n",
       "    </tr>\n",
       "    <tr>\n",
       "      <th>5</th>\n",
       "      <td>UnitedHealth Group</td>\n",
       "      <td>11 salaries</td>\n",
       "      <td>₹13,38,279/yr</td>\n",
       "      <td>Range: ₹11L - ₹15L</td>\n",
       "    </tr>\n",
       "    <tr>\n",
       "      <th>6</th>\n",
       "      <td>Valiance Solutions</td>\n",
       "      <td>10 salaries</td>\n",
       "      <td>₹8,63,750/yr</td>\n",
       "      <td>Range: ₹5L - ₹15L</td>\n",
       "    </tr>\n",
       "    <tr>\n",
       "      <th>7</th>\n",
       "      <td>Optum Global Solutions</td>\n",
       "      <td>9 salaries</td>\n",
       "      <td>₹13,28,697/yr</td>\n",
       "      <td>Range: ₹4L - ₹22L</td>\n",
       "    </tr>\n",
       "    <tr>\n",
       "      <th>8</th>\n",
       "      <td>ZS Associates</td>\n",
       "      <td>8 salaries</td>\n",
       "      <td>₹11,42,356/yr</td>\n",
       "      <td>Range: ₹2L - ₹18L</td>\n",
       "    </tr>\n",
       "    <tr>\n",
       "      <th>9</th>\n",
       "      <td>EXL Service</td>\n",
       "      <td>8 salaries</td>\n",
       "      <td>₹11,46,073/yr</td>\n",
       "      <td>Range: ₹6L - ₹15L</td>\n",
       "    </tr>\n",
       "  </tbody>\n",
       "</table>\n",
       "</div>"
      ],
      "text/plain": [
       "                     company Number of salaries Average salary  \\\n",
       "0                        IBM        18 salaries   ₹9,00,000/yr   \n",
       "1  Tata Consultancy Services        17 salaries   ₹6,15,289/yr   \n",
       "2                  Accenture        15 salaries  ₹11,63,336/yr   \n",
       "3                  Delhivery        15 salaries  ₹12,18,244/yr   \n",
       "4         Ericsson-Worldwide        14 salaries   ₹7,39,238/yr   \n",
       "5         UnitedHealth Group        11 salaries  ₹13,38,279/yr   \n",
       "6         Valiance Solutions        10 salaries   ₹8,63,750/yr   \n",
       "7     Optum Global Solutions         9 salaries  ₹13,28,697/yr   \n",
       "8              ZS Associates         8 salaries  ₹11,42,356/yr   \n",
       "9                EXL Service         8 salaries  ₹11,46,073/yr   \n",
       "\n",
       "         salary range  \n",
       "0   Range: ₹6L - ₹27L  \n",
       "1   Range: ₹3L - ₹13L  \n",
       "2   Range: ₹6L - ₹22L  \n",
       "3   Range: ₹5L - ₹1Cr  \n",
       "4   Range: ₹4L - ₹16L  \n",
       "5  Range: ₹11L - ₹15L  \n",
       "6   Range: ₹5L - ₹15L  \n",
       "7   Range: ₹4L - ₹22L  \n",
       "8   Range: ₹2L - ₹18L  \n",
       "9   Range: ₹6L - ₹15L  "
      ]
     },
     "execution_count": 74,
     "metadata": {},
     "output_type": "execute_result"
    }
   ],
   "source": [
    "import pandas as pd\n",
    "jobs=pd.DataFrame({})\n",
    "\n",
    "jobs['company']=companies_tags_new[:10]\n",
    "jobs['Number of salaries']=Number_of_salaries[:10]\n",
    "jobs['Average salary']=Averagesalary_tags_titles[:10]\n",
    "jobs['salary range']=Range[:10]\n",
    "\n",
    "\n",
    "\n",
    "jobs"
   ]
  },
  {
   "cell_type": "markdown",
   "metadata": {},
   "source": [
    "# Question 6"
   ]
  },
  {
   "cell_type": "markdown",
   "metadata": {},
   "source": [
    "Go to flipkart webpage by url https://www.flipkart.com/"
   ]
  },
  {
   "cell_type": "code",
   "execution_count": 81,
   "metadata": {},
   "outputs": [],
   "source": [
    "driver=webdriver.Chrome(r\"C:\\chromedriver.exe\")\n",
    "url=' https://www.flipkart.com/'\n",
    "driver.get(url)"
   ]
  },
  {
   "cell_type": "markdown",
   "metadata": {},
   "source": [
    "Enter “sunglasses” in the search field "
   ]
  },
  {
   "cell_type": "code",
   "execution_count": 82,
   "metadata": {},
   "outputs": [],
   "source": [
    "productinput=driver.find_element_by_xpath('/html/body/div[1]/div/div[1]/div[1]/div[2]/div[2]/form/div/div/input')\n",
    "productinput.send_keys(\"sunglasses\")"
   ]
  },
  {
   "cell_type": "markdown",
   "metadata": {},
   "source": [
    " click the search icon"
   ]
  },
  {
   "cell_type": "code",
   "execution_count": 83,
   "metadata": {},
   "outputs": [],
   "source": [
    "search_btn=driver.find_element_by_xpath('/html/body/div[1]/div/div[1]/div[1]/div[2]/div[2]/form/div/button')\n",
    "search_btn.click()\n"
   ]
  },
  {
   "cell_type": "markdown",
   "metadata": {},
   "source": [
    "1. Brand\n",
    "\n",
    "2. Product Description\n",
    "\n",
    "3. Price\n",
    "\n",
    "4. Discount %\n",
    "\n",
    "from 3 pages"
   ]
  },
  {
   "cell_type": "code",
   "execution_count": 97,
   "metadata": {},
   "outputs": [],
   "source": [
    "for i in range(1,3):\n",
    "    \n",
    "    #brand name\n",
    "    Brand_tags=driver.find_elements_by_xpath(\"//div[@class='_2WkVRV']\")\n",
    "\n",
    "    Brand_tags_titles=[]\n",
    "    for j in Brand_tags:\n",
    "        Brand_tags_titles.append(j.text)\n",
    "        \n",
    "    #Product description    \n",
    "    ProductDescription_tags=driver.find_elements_by_xpath(\"//a[@class='IRpwTa']\")\n",
    "\n",
    "    ProductDescription_tags_titles=[]\n",
    "    for k in ProductDescription_tags:\n",
    "        ProductDescription_tags_titles.append(k.text)\n",
    "        \n",
    "    #price tag\n",
    "    Price_tags=driver.find_elements_by_xpath(\"//div[@class='_30jeq3']\")\n",
    "\n",
    "    Price_tags_titles=[]\n",
    "    for l in Price_tags:\n",
    "        Price_tags_titles.append(l.text)\n",
    "        \n",
    "    #discount\n",
    "    Discount_tags=driver.find_elements_by_xpath(\"//div[@class='_3Ay6Sb']//span\")\n",
    "\n",
    "    Discount_tags_titles=[]\n",
    "    for m in Discount_tags:\n",
    "        Discount_tags_titles.append(m.text)\n",
    "        \n",
    "    next_button=driver.find_element_by_xpath(\"//a[@class='_1LKTO3']//span\")\n",
    "    next_button.click()\n",
    "    time.sleep(2)"
   ]
  },
  {
   "cell_type": "code",
   "execution_count": 98,
   "metadata": {},
   "outputs": [
    {
     "data": {
      "text/plain": [
       "['Singco',\n",
       " 'elegante',\n",
       " 'PHENOMENAL',\n",
       " 'Aligatorr',\n",
       " 'ROZZETTA CRAFT',\n",
       " 'kingsunglasses',\n",
       " 'PIRASO',\n",
       " 'ROYAL SON',\n",
       " 'PIRASO',\n",
       " 'ROYAL SON',\n",
       " 'kingsunglasses',\n",
       " 'CRIBA',\n",
       " 'PHENOMENAL',\n",
       " 'Fastrack',\n",
       " 'NuVew',\n",
       " 'ROYAL SON',\n",
       " 'PIRASO',\n",
       " 'PHENOMENAL',\n",
       " 'Fastrack',\n",
       " 'ROYAL SON',\n",
       " 'PIRASO',\n",
       " 'kingsunglasses',\n",
       " 'GANSTA',\n",
       " 'ROYAL SON',\n",
       " 'Fastrack',\n",
       " 'Poland',\n",
       " 'Fastrack',\n",
       " 'ROYAL SON',\n",
       " 'PHENOMENAL',\n",
       " 'HIPPON',\n",
       " 'kingsunglasses',\n",
       " 'VINCENT CHASE',\n",
       " 'ROZZETTA CRAFT',\n",
       " 'Fastrack',\n",
       " 'IRUS by IDEE',\n",
       " 'AISLIN',\n",
       " 'GANSTA',\n",
       " 'Fravy',\n",
       " 'Fastrack',\n",
       " 'AISLIN']"
      ]
     },
     "execution_count": 98,
     "metadata": {},
     "output_type": "execute_result"
    }
   ],
   "source": [
    "Brand_tags_titles"
   ]
  },
  {
   "cell_type": "code",
   "execution_count": 99,
   "metadata": {},
   "outputs": [
    {
     "data": {
      "text/plain": [
       "['Mirrored Aviator Sunglasses (53)',\n",
       " 'UV Protection Round Sunglasses (Free Size)',\n",
       " 'UV Protection Clubmaster Sunglasses (Free Size)',\n",
       " 'UV Protection Spectacle Sunglasses (Free Size)',\n",
       " 'UV Protection, Gradient Round Sunglasses (Free Size)',\n",
       " 'UV Protection Round Sunglasses (Free Size)',\n",
       " 'UV Protection Aviator Sunglasses (54)',\n",
       " 'UV Protection Retro Square Sunglasses (54)',\n",
       " 'UV Protection Aviator Sunglasses (Free Size)',\n",
       " 'Mirrored Aviator Sunglasses (55)',\n",
       " 'Mirrored, UV Protection Wayfarer, Wayfarer, Wayfarer, W...',\n",
       " 'UV Protection, Night Vision, Riding Glasses Round Sungl...',\n",
       " 'UV Protection, Mirrored Retro Square Sunglasses (53)',\n",
       " 'UV Protection Aviator Sunglasses (58)',\n",
       " 'UV Protection Aviator Sunglasses (58)',\n",
       " 'UV Protection Retro Square Sunglasses (88)',\n",
       " 'UV Protection Aviator Sunglasses (54)',\n",
       " 'UV Protection, Mirrored Retro Square Sunglasses (Free S...',\n",
       " 'UV Protection Shield Sunglasses (Free Size)',\n",
       " 'UV Protection, Gradient Retro Square Sunglasses (60)',\n",
       " 'UV Protection Aviator Sunglasses (58)',\n",
       " 'UV Protection, Mirrored Round Sunglasses (54)',\n",
       " 'UV Protection Aviator Sunglasses (57)',\n",
       " 'UV Protection Retro Square Sunglasses (54)',\n",
       " 'Gradient, UV Protection Wayfarer Sunglasses (Free Size)',\n",
       " 'UV Protection Wayfarer Sunglasses (Free Size)',\n",
       " 'UV Protection, Polarized Wayfarer Sunglasses (56)',\n",
       " 'Polarized, UV Protection Rectangular Sunglasses (59)',\n",
       " 'UV Protection, Mirrored Retro Square Sunglasses (53)',\n",
       " 'UV Protection Wayfarer Sunglasses (55)',\n",
       " 'Mirrored, UV Protection Wayfarer Sunglasses (Free Size)',\n",
       " 'Polarized Round Sunglasses (56)',\n",
       " 'Gradient, UV Protection Round Sunglasses (Free Size)',\n",
       " 'Mirrored, UV Protection Wayfarer Sunglasses (Free Size)',\n",
       " 'Gradient Rectangular Sunglasses (57)',\n",
       " 'UV Protection, Gradient Wayfarer Sunglasses (57)',\n",
       " 'UV Protection, Night Vision, Riding Glasses Aviator Sun...',\n",
       " 'UV Protection, Gradient, Night Vision Retro Square Sung...',\n",
       " 'UV Protection Wayfarer Sunglasses (Free Size)',\n",
       " 'UV Protection Wayfarer Sunglasses (58)']"
      ]
     },
     "execution_count": 99,
     "metadata": {},
     "output_type": "execute_result"
    }
   ],
   "source": [
    " ProductDescription_tags_titles"
   ]
  },
  {
   "cell_type": "code",
   "execution_count": 100,
   "metadata": {},
   "outputs": [
    {
     "data": {
      "text/plain": [
       "['₹252',\n",
       " '₹199',\n",
       " '₹319',\n",
       " '₹199',\n",
       " '₹449',\n",
       " '₹349',\n",
       " '₹237',\n",
       " '₹699',\n",
       " '₹331',\n",
       " '₹379',\n",
       " '₹299',\n",
       " '₹250',\n",
       " '₹399',\n",
       " '₹1,010',\n",
       " '₹215',\n",
       " '₹479',\n",
       " '₹237',\n",
       " '₹399',\n",
       " '₹755',\n",
       " '₹799',\n",
       " '₹331',\n",
       " '₹249',\n",
       " '₹281',\n",
       " '₹699',\n",
       " '₹558',\n",
       " '₹162',\n",
       " '₹612',\n",
       " '₹664',\n",
       " '₹399',\n",
       " '₹225',\n",
       " '₹299',\n",
       " '₹1,415',\n",
       " '₹449',\n",
       " '₹738',\n",
       " '₹424',\n",
       " '₹625',\n",
       " '₹292',\n",
       " '₹339',\n",
       " '₹539',\n",
       " '₹500']"
      ]
     },
     "execution_count": 100,
     "metadata": {},
     "output_type": "execute_result"
    }
   ],
   "source": [
    "Price_tags_titles"
   ]
  },
  {
   "cell_type": "code",
   "execution_count": 94,
   "metadata": {},
   "outputs": [
    {
     "data": {
      "text/plain": [
       "['53% off',\n",
       " '53% off',\n",
       " '88% off',\n",
       " '36% off',\n",
       " '78% off',\n",
       " '35% off',\n",
       " '85% off',\n",
       " '76% off',\n",
       " '34% off',\n",
       " '79% off',\n",
       " '80% off',\n",
       " '84% off',\n",
       " '77% off',\n",
       " '28% off',\n",
       " '76% off',\n",
       " '53% off',\n",
       " '73% off',\n",
       " '88% off',\n",
       " '78% off',\n",
       " '55% off',\n",
       " '18% off',\n",
       " '83% off',\n",
       " '83% off',\n",
       " '29% off',\n",
       " '79% off',\n",
       " '77% off',\n",
       " '79% off',\n",
       " '70% off',\n",
       " '83% off',\n",
       " '37% off',\n",
       " '79% off',\n",
       " '66% off',\n",
       " '41% off',\n",
       " '27% off',\n",
       " '84% off',\n",
       " '50% off',\n",
       " '78% off',\n",
       " '16% off',\n",
       " '74% off',\n",
       " '65% off']"
      ]
     },
     "execution_count": 94,
     "metadata": {},
     "output_type": "execute_result"
    }
   ],
   "source": [
    "Discount_tags_titles"
   ]
  },
  {
   "cell_type": "code",
   "execution_count": 102,
   "metadata": {},
   "outputs": [
    {
     "data": {
      "text/html": [
       "<div>\n",
       "<style scoped>\n",
       "    .dataframe tbody tr th:only-of-type {\n",
       "        vertical-align: middle;\n",
       "    }\n",
       "\n",
       "    .dataframe tbody tr th {\n",
       "        vertical-align: top;\n",
       "    }\n",
       "\n",
       "    .dataframe thead th {\n",
       "        text-align: right;\n",
       "    }\n",
       "</style>\n",
       "<table border=\"1\" class=\"dataframe\">\n",
       "  <thead>\n",
       "    <tr style=\"text-align: right;\">\n",
       "      <th></th>\n",
       "      <th>Product name</th>\n",
       "      <th>Product description</th>\n",
       "      <th>price tag</th>\n",
       "      <th>discount</th>\n",
       "    </tr>\n",
       "  </thead>\n",
       "  <tbody>\n",
       "    <tr>\n",
       "      <th>0</th>\n",
       "      <td>Singco</td>\n",
       "      <td>Mirrored Aviator Sunglasses (53)</td>\n",
       "      <td>₹252</td>\n",
       "      <td>74% off</td>\n",
       "    </tr>\n",
       "    <tr>\n",
       "      <th>1</th>\n",
       "      <td>elegante</td>\n",
       "      <td>UV Protection Round Sunglasses (Free Size)</td>\n",
       "      <td>₹199</td>\n",
       "      <td>80% off</td>\n",
       "    </tr>\n",
       "    <tr>\n",
       "      <th>2</th>\n",
       "      <td>PHENOMENAL</td>\n",
       "      <td>UV Protection Clubmaster Sunglasses (Free Size)</td>\n",
       "      <td>₹319</td>\n",
       "      <td>84% off</td>\n",
       "    </tr>\n",
       "    <tr>\n",
       "      <th>3</th>\n",
       "      <td>Aligatorr</td>\n",
       "      <td>UV Protection Spectacle Sunglasses (Free Size)</td>\n",
       "      <td>₹199</td>\n",
       "      <td>60% off</td>\n",
       "    </tr>\n",
       "    <tr>\n",
       "      <th>4</th>\n",
       "      <td>ROZZETTA CRAFT</td>\n",
       "      <td>UV Protection, Gradient Round Sunglasses (Free...</td>\n",
       "      <td>₹449</td>\n",
       "      <td>77% off</td>\n",
       "    </tr>\n",
       "    <tr>\n",
       "      <th>5</th>\n",
       "      <td>kingsunglasses</td>\n",
       "      <td>UV Protection Round Sunglasses (Free Size)</td>\n",
       "      <td>₹349</td>\n",
       "      <td>78% off</td>\n",
       "    </tr>\n",
       "    <tr>\n",
       "      <th>6</th>\n",
       "      <td>PIRASO</td>\n",
       "      <td>UV Protection Aviator Sunglasses (54)</td>\n",
       "      <td>₹237</td>\n",
       "      <td>85% off</td>\n",
       "    </tr>\n",
       "    <tr>\n",
       "      <th>7</th>\n",
       "      <td>ROYAL SON</td>\n",
       "      <td>UV Protection Retro Square Sunglasses (54)</td>\n",
       "      <td>₹699</td>\n",
       "      <td>65% off</td>\n",
       "    </tr>\n",
       "    <tr>\n",
       "      <th>8</th>\n",
       "      <td>PIRASO</td>\n",
       "      <td>UV Protection Aviator Sunglasses (Free Size)</td>\n",
       "      <td>₹331</td>\n",
       "      <td>79% off</td>\n",
       "    </tr>\n",
       "    <tr>\n",
       "      <th>9</th>\n",
       "      <td>ROYAL SON</td>\n",
       "      <td>Mirrored Aviator Sunglasses (55)</td>\n",
       "      <td>₹379</td>\n",
       "      <td>74% off</td>\n",
       "    </tr>\n",
       "    <tr>\n",
       "      <th>10</th>\n",
       "      <td>kingsunglasses</td>\n",
       "      <td>Mirrored, UV Protection Wayfarer, Wayfarer, Wa...</td>\n",
       "      <td>₹299</td>\n",
       "      <td>80% off</td>\n",
       "    </tr>\n",
       "    <tr>\n",
       "      <th>11</th>\n",
       "      <td>CRIBA</td>\n",
       "      <td>UV Protection, Night Vision, Riding Glasses Ro...</td>\n",
       "      <td>₹250</td>\n",
       "      <td>58% off</td>\n",
       "    </tr>\n",
       "    <tr>\n",
       "      <th>12</th>\n",
       "      <td>PHENOMENAL</td>\n",
       "      <td>UV Protection, Mirrored Retro Square Sunglasse...</td>\n",
       "      <td>₹399</td>\n",
       "      <td>80% off</td>\n",
       "    </tr>\n",
       "    <tr>\n",
       "      <th>13</th>\n",
       "      <td>Fastrack</td>\n",
       "      <td>UV Protection Aviator Sunglasses (58)</td>\n",
       "      <td>₹1,010</td>\n",
       "      <td>22% off</td>\n",
       "    </tr>\n",
       "    <tr>\n",
       "      <th>14</th>\n",
       "      <td>NuVew</td>\n",
       "      <td>UV Protection Aviator Sunglasses (58)</td>\n",
       "      <td>₹215</td>\n",
       "      <td>72% off</td>\n",
       "    </tr>\n",
       "    <tr>\n",
       "      <th>15</th>\n",
       "      <td>ROYAL SON</td>\n",
       "      <td>UV Protection Retro Square Sunglasses (88)</td>\n",
       "      <td>₹479</td>\n",
       "      <td>76% off</td>\n",
       "    </tr>\n",
       "    <tr>\n",
       "      <th>16</th>\n",
       "      <td>PIRASO</td>\n",
       "      <td>UV Protection Aviator Sunglasses (54)</td>\n",
       "      <td>₹237</td>\n",
       "      <td>85% off</td>\n",
       "    </tr>\n",
       "    <tr>\n",
       "      <th>17</th>\n",
       "      <td>PHENOMENAL</td>\n",
       "      <td>UV Protection, Mirrored Retro Square Sunglasse...</td>\n",
       "      <td>₹399</td>\n",
       "      <td>80% off</td>\n",
       "    </tr>\n",
       "    <tr>\n",
       "      <th>18</th>\n",
       "      <td>Fastrack</td>\n",
       "      <td>UV Protection Shield Sunglasses (Free Size)</td>\n",
       "      <td>₹755</td>\n",
       "      <td>16% off</td>\n",
       "    </tr>\n",
       "    <tr>\n",
       "      <th>19</th>\n",
       "      <td>ROYAL SON</td>\n",
       "      <td>UV Protection, Gradient Retro Square Sunglasse...</td>\n",
       "      <td>₹799</td>\n",
       "      <td>60% off</td>\n",
       "    </tr>\n",
       "    <tr>\n",
       "      <th>20</th>\n",
       "      <td>PIRASO</td>\n",
       "      <td>UV Protection Aviator Sunglasses (58)</td>\n",
       "      <td>₹331</td>\n",
       "      <td>87% off</td>\n",
       "    </tr>\n",
       "    <tr>\n",
       "      <th>21</th>\n",
       "      <td>kingsunglasses</td>\n",
       "      <td>UV Protection, Mirrored Round Sunglasses (54)</td>\n",
       "      <td>₹249</td>\n",
       "      <td>79% off</td>\n",
       "    </tr>\n",
       "    <tr>\n",
       "      <th>22</th>\n",
       "      <td>GANSTA</td>\n",
       "      <td>UV Protection Aviator Sunglasses (57)</td>\n",
       "      <td>₹281</td>\n",
       "      <td>78% off</td>\n",
       "    </tr>\n",
       "    <tr>\n",
       "      <th>23</th>\n",
       "      <td>ROYAL SON</td>\n",
       "      <td>UV Protection Retro Square Sunglasses (54)</td>\n",
       "      <td>₹699</td>\n",
       "      <td>65% off</td>\n",
       "    </tr>\n",
       "    <tr>\n",
       "      <th>24</th>\n",
       "      <td>Fastrack</td>\n",
       "      <td>Gradient, UV Protection Wayfarer Sunglasses (F...</td>\n",
       "      <td>₹558</td>\n",
       "      <td>30% off</td>\n",
       "    </tr>\n",
       "    <tr>\n",
       "      <th>25</th>\n",
       "      <td>Poland</td>\n",
       "      <td>UV Protection Wayfarer Sunglasses (Free Size)</td>\n",
       "      <td>₹162</td>\n",
       "      <td>67% off</td>\n",
       "    </tr>\n",
       "    <tr>\n",
       "      <th>26</th>\n",
       "      <td>Fastrack</td>\n",
       "      <td>UV Protection, Polarized Wayfarer Sunglasses (56)</td>\n",
       "      <td>₹612</td>\n",
       "      <td>31% off</td>\n",
       "    </tr>\n",
       "    <tr>\n",
       "      <th>27</th>\n",
       "      <td>ROYAL SON</td>\n",
       "      <td>Polarized, UV Protection Rectangular Sunglasse...</td>\n",
       "      <td>₹664</td>\n",
       "      <td>55% off</td>\n",
       "    </tr>\n",
       "    <tr>\n",
       "      <th>28</th>\n",
       "      <td>PHENOMENAL</td>\n",
       "      <td>UV Protection, Mirrored Retro Square Sunglasse...</td>\n",
       "      <td>₹399</td>\n",
       "      <td>80% off</td>\n",
       "    </tr>\n",
       "    <tr>\n",
       "      <th>29</th>\n",
       "      <td>HIPPON</td>\n",
       "      <td>UV Protection Wayfarer Sunglasses (55)</td>\n",
       "      <td>₹225</td>\n",
       "      <td>81% off</td>\n",
       "    </tr>\n",
       "    <tr>\n",
       "      <th>30</th>\n",
       "      <td>kingsunglasses</td>\n",
       "      <td>Mirrored, UV Protection Wayfarer Sunglasses (F...</td>\n",
       "      <td>₹299</td>\n",
       "      <td>88% off</td>\n",
       "    </tr>\n",
       "    <tr>\n",
       "      <th>31</th>\n",
       "      <td>VINCENT CHASE</td>\n",
       "      <td>Polarized Round Sunglasses (56)</td>\n",
       "      <td>₹1,415</td>\n",
       "      <td>29% off</td>\n",
       "    </tr>\n",
       "    <tr>\n",
       "      <th>32</th>\n",
       "      <td>ROZZETTA CRAFT</td>\n",
       "      <td>Gradient, UV Protection Round Sunglasses (Free...</td>\n",
       "      <td>₹449</td>\n",
       "      <td>77% off</td>\n",
       "    </tr>\n",
       "    <tr>\n",
       "      <th>33</th>\n",
       "      <td>Fastrack</td>\n",
       "      <td>Mirrored, UV Protection Wayfarer Sunglasses (F...</td>\n",
       "      <td>₹738</td>\n",
       "      <td>26% off</td>\n",
       "    </tr>\n",
       "    <tr>\n",
       "      <th>34</th>\n",
       "      <td>IRUS by IDEE</td>\n",
       "      <td>Gradient Rectangular Sunglasses (57)</td>\n",
       "      <td>₹424</td>\n",
       "      <td>67% off</td>\n",
       "    </tr>\n",
       "    <tr>\n",
       "      <th>35</th>\n",
       "      <td>AISLIN</td>\n",
       "      <td>UV Protection, Gradient Wayfarer Sunglasses (57)</td>\n",
       "      <td>₹625</td>\n",
       "      <td>70% off</td>\n",
       "    </tr>\n",
       "    <tr>\n",
       "      <th>36</th>\n",
       "      <td>GANSTA</td>\n",
       "      <td>UV Protection, Night Vision, Riding Glasses Av...</td>\n",
       "      <td>₹292</td>\n",
       "      <td>85% off</td>\n",
       "    </tr>\n",
       "    <tr>\n",
       "      <th>37</th>\n",
       "      <td>Fravy</td>\n",
       "      <td>UV Protection, Gradient, Night Vision Retro Sq...</td>\n",
       "      <td>₹339</td>\n",
       "      <td>83% off</td>\n",
       "    </tr>\n",
       "    <tr>\n",
       "      <th>38</th>\n",
       "      <td>Fastrack</td>\n",
       "      <td>UV Protection Wayfarer Sunglasses (Free Size)</td>\n",
       "      <td>₹539</td>\n",
       "      <td>32% off</td>\n",
       "    </tr>\n",
       "    <tr>\n",
       "      <th>39</th>\n",
       "      <td>AISLIN</td>\n",
       "      <td>UV Protection Wayfarer Sunglasses (58)</td>\n",
       "      <td>₹500</td>\n",
       "      <td>76% off</td>\n",
       "    </tr>\n",
       "  </tbody>\n",
       "</table>\n",
       "</div>"
      ],
      "text/plain": [
       "      Product name                                Product description  \\\n",
       "0           Singco                   Mirrored Aviator Sunglasses (53)   \n",
       "1         elegante         UV Protection Round Sunglasses (Free Size)   \n",
       "2       PHENOMENAL    UV Protection Clubmaster Sunglasses (Free Size)   \n",
       "3        Aligatorr     UV Protection Spectacle Sunglasses (Free Size)   \n",
       "4   ROZZETTA CRAFT  UV Protection, Gradient Round Sunglasses (Free...   \n",
       "5   kingsunglasses         UV Protection Round Sunglasses (Free Size)   \n",
       "6           PIRASO              UV Protection Aviator Sunglasses (54)   \n",
       "7        ROYAL SON         UV Protection Retro Square Sunglasses (54)   \n",
       "8           PIRASO       UV Protection Aviator Sunglasses (Free Size)   \n",
       "9        ROYAL SON                   Mirrored Aviator Sunglasses (55)   \n",
       "10  kingsunglasses  Mirrored, UV Protection Wayfarer, Wayfarer, Wa...   \n",
       "11           CRIBA  UV Protection, Night Vision, Riding Glasses Ro...   \n",
       "12      PHENOMENAL  UV Protection, Mirrored Retro Square Sunglasse...   \n",
       "13        Fastrack              UV Protection Aviator Sunglasses (58)   \n",
       "14           NuVew              UV Protection Aviator Sunglasses (58)   \n",
       "15       ROYAL SON         UV Protection Retro Square Sunglasses (88)   \n",
       "16          PIRASO              UV Protection Aviator Sunglasses (54)   \n",
       "17      PHENOMENAL  UV Protection, Mirrored Retro Square Sunglasse...   \n",
       "18        Fastrack        UV Protection Shield Sunglasses (Free Size)   \n",
       "19       ROYAL SON  UV Protection, Gradient Retro Square Sunglasse...   \n",
       "20          PIRASO              UV Protection Aviator Sunglasses (58)   \n",
       "21  kingsunglasses      UV Protection, Mirrored Round Sunglasses (54)   \n",
       "22          GANSTA              UV Protection Aviator Sunglasses (57)   \n",
       "23       ROYAL SON         UV Protection Retro Square Sunglasses (54)   \n",
       "24        Fastrack  Gradient, UV Protection Wayfarer Sunglasses (F...   \n",
       "25          Poland      UV Protection Wayfarer Sunglasses (Free Size)   \n",
       "26        Fastrack  UV Protection, Polarized Wayfarer Sunglasses (56)   \n",
       "27       ROYAL SON  Polarized, UV Protection Rectangular Sunglasse...   \n",
       "28      PHENOMENAL  UV Protection, Mirrored Retro Square Sunglasse...   \n",
       "29          HIPPON             UV Protection Wayfarer Sunglasses (55)   \n",
       "30  kingsunglasses  Mirrored, UV Protection Wayfarer Sunglasses (F...   \n",
       "31   VINCENT CHASE                    Polarized Round Sunglasses (56)   \n",
       "32  ROZZETTA CRAFT  Gradient, UV Protection Round Sunglasses (Free...   \n",
       "33        Fastrack  Mirrored, UV Protection Wayfarer Sunglasses (F...   \n",
       "34    IRUS by IDEE               Gradient Rectangular Sunglasses (57)   \n",
       "35          AISLIN   UV Protection, Gradient Wayfarer Sunglasses (57)   \n",
       "36          GANSTA  UV Protection, Night Vision, Riding Glasses Av...   \n",
       "37           Fravy  UV Protection, Gradient, Night Vision Retro Sq...   \n",
       "38        Fastrack      UV Protection Wayfarer Sunglasses (Free Size)   \n",
       "39          AISLIN             UV Protection Wayfarer Sunglasses (58)   \n",
       "\n",
       "   price tag discount  \n",
       "0       ₹252  74% off  \n",
       "1       ₹199  80% off  \n",
       "2       ₹319  84% off  \n",
       "3       ₹199  60% off  \n",
       "4       ₹449  77% off  \n",
       "5       ₹349  78% off  \n",
       "6       ₹237  85% off  \n",
       "7       ₹699  65% off  \n",
       "8       ₹331  79% off  \n",
       "9       ₹379  74% off  \n",
       "10      ₹299  80% off  \n",
       "11      ₹250  58% off  \n",
       "12      ₹399  80% off  \n",
       "13    ₹1,010  22% off  \n",
       "14      ₹215  72% off  \n",
       "15      ₹479  76% off  \n",
       "16      ₹237  85% off  \n",
       "17      ₹399  80% off  \n",
       "18      ₹755  16% off  \n",
       "19      ₹799  60% off  \n",
       "20      ₹331  87% off  \n",
       "21      ₹249  79% off  \n",
       "22      ₹281  78% off  \n",
       "23      ₹699  65% off  \n",
       "24      ₹558  30% off  \n",
       "25      ₹162  67% off  \n",
       "26      ₹612  31% off  \n",
       "27      ₹664  55% off  \n",
       "28      ₹399  80% off  \n",
       "29      ₹225  81% off  \n",
       "30      ₹299  88% off  \n",
       "31    ₹1,415  29% off  \n",
       "32      ₹449  77% off  \n",
       "33      ₹738  26% off  \n",
       "34      ₹424  67% off  \n",
       "35      ₹625  70% off  \n",
       "36      ₹292  85% off  \n",
       "37      ₹339  83% off  \n",
       "38      ₹539  32% off  \n",
       "39      ₹500  76% off  "
      ]
     },
     "execution_count": 102,
     "metadata": {},
     "output_type": "execute_result"
    }
   ],
   "source": [
    "import pandas as pd\n",
    "product=pd.DataFrame({})\n",
    "\n",
    "product['Product name']=Brand_tags_titles\n",
    "product['Product description']= ProductDescription_tags_titles\n",
    "product['price tag']=Price_tags_titles\n",
    "product['discount']=Discount_tags_titles\n",
    "\n",
    "\n",
    "\n",
    "product\n"
   ]
  },
  {
   "cell_type": "markdown",
   "metadata": {},
   "source": [
    "# Question 7"
   ]
  },
  {
   "cell_type": "markdown",
   "metadata": {},
   "source": [
    "1. Rating\n",
    "\n",
    "2. Review_summary\n",
    "\n",
    "3. Full review"
   ]
  },
  {
   "cell_type": "code",
   "execution_count": 127,
   "metadata": {},
   "outputs": [],
   "source": [
    "driver=webdriver.Chrome(r\"C:\\chromedriver.exe\")\n",
    "url=' https://www.flipkart.com/apple-iphone-11-black-64-gb-includes-earpods-power-adapter/p/itm0f37c2240b217?pid=MOBFKCTSVZAXUHGR&lid=LSTMOBFKCTSVZAXUHGREPBFGI&marketplace'\n",
    "driver.get(url)"
   ]
  },
  {
   "cell_type": "code",
   "execution_count": 128,
   "metadata": {},
   "outputs": [],
   "source": [
    "allreview=driver.find_element_by_xpath(\"//div[@class='_3UAT2v _16PBlm']//span\")\n",
    "allreview.click()"
   ]
  },
  {
   "cell_type": "code",
   "execution_count": 135,
   "metadata": {},
   "outputs": [
    {
     "data": {
      "text/plain": [
       "<bound method WebElement.click of <selenium.webdriver.remote.webelement.WebElement (session=\"96a1671b06a092b38061bf6c305be0fa\", element=\"9878c896-20cc-4e10-b1cf-953834e77a5c\")>>"
      ]
     },
     "execution_count": 135,
     "metadata": {},
     "output_type": "execute_result"
    }
   ],
   "source": [
    "for i in range(1,3):\n",
    "    #rating\n",
    "    rating_tags=driver.find_elements_by_xpath(\"//div[@class='_3LWZlK _1BLPMq']\")\n",
    "\n",
    "    rating_tags_titles=[]\n",
    "    for j in rating_tags:\n",
    "        rating_tags_titles.append(j.text)\n",
    "        \n",
    "    #Review_summary    \n",
    "    Review_summary=driver.find_elements_by_xpath(\"//p[@class='_2-N8zT']\")\n",
    "\n",
    "    Review_summary_tags_titles=[]\n",
    "    for k in Review_summary:\n",
    "        Review_summary_tags_titles.append(k.text)\n",
    "        \n",
    "    #Full review\n",
    "    Full_review=driver.find_elements_by_xpath(\"//div[@class='t-ZTKy']\")\n",
    "\n",
    "    Full_review_tags_titles=[]\n",
    "    for l in Full_review:\n",
    "        Full_review_tags_titles.append(l.text)\n",
    "\n",
    "\n",
    "next_button=driver.find_element_by_xpath(\"//a[@class='_1LKTO3']//span\")\n",
    "next_button.click"
   ]
  },
  {
   "cell_type": "code",
   "execution_count": 136,
   "metadata": {},
   "outputs": [
    {
     "data": {
      "text/html": [
       "<div>\n",
       "<style scoped>\n",
       "    .dataframe tbody tr th:only-of-type {\n",
       "        vertical-align: middle;\n",
       "    }\n",
       "\n",
       "    .dataframe tbody tr th {\n",
       "        vertical-align: top;\n",
       "    }\n",
       "\n",
       "    .dataframe thead th {\n",
       "        text-align: right;\n",
       "    }\n",
       "</style>\n",
       "<table border=\"1\" class=\"dataframe\">\n",
       "  <thead>\n",
       "    <tr style=\"text-align: right;\">\n",
       "      <th></th>\n",
       "      <th>rating</th>\n",
       "      <th>Review_summary</th>\n",
       "      <th>Full review</th>\n",
       "    </tr>\n",
       "  </thead>\n",
       "  <tbody>\n",
       "    <tr>\n",
       "      <th>0</th>\n",
       "      <td>5</td>\n",
       "      <td>Brilliant</td>\n",
       "      <td>The Best Phone for the Money\\n\\nThe iPhone 11 ...</td>\n",
       "    </tr>\n",
       "    <tr>\n",
       "      <th>1</th>\n",
       "      <td>5</td>\n",
       "      <td>Perfect product!</td>\n",
       "      <td>Amazing phone with great cameras and better ba...</td>\n",
       "    </tr>\n",
       "    <tr>\n",
       "      <th>2</th>\n",
       "      <td>5</td>\n",
       "      <td>Fabulous!</td>\n",
       "      <td>This is my first iOS phone. I am very happy wi...</td>\n",
       "    </tr>\n",
       "    <tr>\n",
       "      <th>3</th>\n",
       "      <td>5</td>\n",
       "      <td>Worth every penny</td>\n",
       "      <td>Previously I was using one plus 3t it was a gr...</td>\n",
       "    </tr>\n",
       "    <tr>\n",
       "      <th>4</th>\n",
       "      <td>5</td>\n",
       "      <td>Great product</td>\n",
       "      <td>Amazing Powerful and Durable Gadget.\\n\\nI’m am...</td>\n",
       "    </tr>\n",
       "    <tr>\n",
       "      <th>5</th>\n",
       "      <td>5</td>\n",
       "      <td>Worth every penny</td>\n",
       "      <td>i11 is worthy to buy, too much happy with the ...</td>\n",
       "    </tr>\n",
       "    <tr>\n",
       "      <th>6</th>\n",
       "      <td>4</td>\n",
       "      <td>Good choice</td>\n",
       "      <td>So far it’s been an AMAZING experience coming ...</td>\n",
       "    </tr>\n",
       "    <tr>\n",
       "      <th>7</th>\n",
       "      <td>5</td>\n",
       "      <td>Simply awesome</td>\n",
       "      <td>Really satisfied with the Product I received.....</td>\n",
       "    </tr>\n",
       "    <tr>\n",
       "      <th>8</th>\n",
       "      <td>5</td>\n",
       "      <td>Highly recommended</td>\n",
       "      <td>iphone 11 is a very good phone to buy only if ...</td>\n",
       "    </tr>\n",
       "    <tr>\n",
       "      <th>9</th>\n",
       "      <td>5</td>\n",
       "      <td>Perfect product!</td>\n",
       "      <td>It’s a must buy who is looking for an upgrade ...</td>\n",
       "    </tr>\n",
       "  </tbody>\n",
       "</table>\n",
       "</div>"
      ],
      "text/plain": [
       "  rating      Review_summary  \\\n",
       "0      5           Brilliant   \n",
       "1      5    Perfect product!   \n",
       "2      5           Fabulous!   \n",
       "3      5   Worth every penny   \n",
       "4      5       Great product   \n",
       "5      5   Worth every penny   \n",
       "6      4         Good choice   \n",
       "7      5      Simply awesome   \n",
       "8      5  Highly recommended   \n",
       "9      5    Perfect product!   \n",
       "\n",
       "                                         Full review  \n",
       "0  The Best Phone for the Money\\n\\nThe iPhone 11 ...  \n",
       "1  Amazing phone with great cameras and better ba...  \n",
       "2  This is my first iOS phone. I am very happy wi...  \n",
       "3  Previously I was using one plus 3t it was a gr...  \n",
       "4  Amazing Powerful and Durable Gadget.\\n\\nI’m am...  \n",
       "5  i11 is worthy to buy, too much happy with the ...  \n",
       "6  So far it’s been an AMAZING experience coming ...  \n",
       "7  Really satisfied with the Product I received.....  \n",
       "8  iphone 11 is a very good phone to buy only if ...  \n",
       "9  It’s a must buy who is looking for an upgrade ...  "
      ]
     },
     "execution_count": 136,
     "metadata": {},
     "output_type": "execute_result"
    }
   ],
   "source": [
    "import pandas as pd\n",
    "review=pd.DataFrame({})\n",
    "\n",
    "review['rating']=rating_tags_titles\n",
    "review['Review_summary']=Review_summary_tags_titles\n",
    "review['Full review']=Full_review_tags_titles\n",
    "review"
   ]
  },
  {
   "cell_type": "markdown",
   "metadata": {},
   "source": [
    "# Question 8"
   ]
  },
  {
   "cell_type": "markdown",
   "metadata": {},
   "source": [
    "Scrape data for first 100 sneakers you find when you visit flipkart.com and\n",
    "search for “sneakers” in the search field.\n",
    "You have to scrape 4 attributes of each sneaker :\n",
    "\n",
    "1. Brand\n",
    "\n",
    "2. Product Description\n",
    "\n",
    "3. Price\n",
    "\n",
    "4. discount %"
   ]
  },
  {
   "cell_type": "code",
   "execution_count": 137,
   "metadata": {},
   "outputs": [],
   "source": [
    "driver=webdriver.Chrome(r\"C:\\chromedriver.exe\")\n",
    "url='https://www.flipkart.com/'\n",
    "driver.get(url)"
   ]
  },
  {
   "cell_type": "code",
   "execution_count": 139,
   "metadata": {},
   "outputs": [],
   "source": [
    "productinput=driver.find_element_by_xpath('/html/body/div[1]/div/div[1]/div[1]/div[2]/div[2]/form/div/div/input')\n",
    "productinput.send_keys(\"sneakers\")\n",
    "driver.implicitly_wait(5)"
   ]
  },
  {
   "cell_type": "code",
   "execution_count": 140,
   "metadata": {},
   "outputs": [],
   "source": [
    "search_btn=driver.find_element_by_xpath('/html/body/div[1]/div/div[1]/div[1]/div[2]/div[2]/form/div/button')\n",
    "search_btn.click()\n",
    "driver.implicitly_wait(5)"
   ]
  },
  {
   "cell_type": "code",
   "execution_count": 156,
   "metadata": {},
   "outputs": [
    {
     "data": {
      "text/plain": [
       "['CALCADOS',\n",
       " 'Robbie jones',\n",
       " 'Alfiya',\n",
       " 'Zixer',\n",
       " 'PEHANOSA',\n",
       " 'Shoes Bank',\n",
       " 'BRUTON',\n",
       " 'OZJI',\n",
       " 'KULP',\n",
       " 'Chevit',\n",
       " 'World Wear Footwear',\n",
       " 'Jumpink',\n",
       " 'Robbie jones',\n",
       " 'World Wear Footwear',\n",
       " 'Kraasa',\n",
       " 'Absolute comfort',\n",
       " 'Nilatin',\n",
       " 'Numenzo',\n",
       " 'SCATCHITE',\n",
       " 'U.S. POLO ASSN.',\n",
       " 'HOTSTYLE',\n",
       " 'bluemaker',\n",
       " 'Stefano Rads',\n",
       " 'India hub',\n",
       " 'HOTSTYLE',\n",
       " 'Chevit',\n",
       " 'Robbie jones',\n",
       " 'Chevit',\n",
       " 'D-SNEAKERZ',\n",
       " 'HOTSTYLE',\n",
       " 'ASTEROID',\n",
       " 'Chevit',\n",
       " 'India hub',\n",
       " 'Zsyto',\n",
       " 'ESSENCE',\n",
       " 'SPARX',\n",
       " 'BRUTON',\n",
       " 'kardam&sons',\n",
       " 'SPARX',\n",
       " 'Aircum']"
      ]
     },
     "execution_count": 156,
     "metadata": {},
     "output_type": "execute_result"
    }
   ],
   "source": [
    "#brand name\n",
    "Brand_tags=driver.find_elements_by_xpath(\"//div[@class='_2WkVRV']\")\n",
    "\n",
    "Brand_tags_titles=[]\n",
    "for j in Brand_tags:\n",
    "    Brand_tags_titles.append(j.text)\n",
    "Brand_tags_titles"
   ]
  },
  {
   "cell_type": "code",
   "execution_count": 158,
   "metadata": {},
   "outputs": [
    {
     "data": {
      "text/plain": [
       "['Casual Sneakers Shoes For Men Sneakers For Men',\n",
       " 'Shoes in Black Color Party wear/Outdoor/Casual Shoes Fo...',\n",
       " 'Sneakers For Men',\n",
       " \"White Sneaker For Men's/Boy's Sneakers For Men\",\n",
       " 'Combo Pack Of 4 Casual Sneakers For Men',\n",
       " 'Sneakers For Men',\n",
       " 'Speed Set of 5 Pairs Sneakers Outdoors Casuals for Men ...',\n",
       " '5011-Latest Collection Stylish Casual Loafer Sneakers S...',\n",
       " 'Sneakers For Men',\n",
       " 'Combo Pack of 4 Latest Collection Stylish Casual Loafer...',\n",
       " 'Series 7 Sneakers For Men',\n",
       " 'Sneakers For Men',\n",
       " 'Sneakers For Men',\n",
       " 'Sneakers Sneakers For Men',\n",
       " 'LEBRON 2.0 Sneakers For Men',\n",
       " 'Sneakers Sneakers For Men',\n",
       " 'casual for men (blue 06) Sneakers For Men',\n",
       " 'Unique & Perfect Collection Combo Pack of 02 Shoes for ...',\n",
       " 'Sneakers For Men',\n",
       " 'Perfect & Affordable Collection Combo Pack of 02 Shoes ...',\n",
       " \"Casual , Partywear Sneakers Shoes For Men's And Boys Wh...\",\n",
       " 'Sneakers Sneakers For Men',\n",
       " \"Original Luxury Branded Fashionable Men's Casual Walkin...\",\n",
       " 'Latest & Stylish Design Combo Pack of 2 Pairs Sneakers ...',\n",
       " 'Casuals Sneakers For Men',\n",
       " 'SM-482 Sneakers For Men',\n",
       " 'Combo Pack of 5 Casual Sneakers With Sneakers For Men',\n",
       " 'SM-322 Sneakers For Men',\n",
       " 'Men Combo Pack of 3 Casual Sneakers For Men']"
      ]
     },
     "execution_count": 158,
     "metadata": {},
     "output_type": "execute_result"
    }
   ],
   "source": [
    "#Product description    \n",
    "ProductDescription_tags=driver.find_elements_by_xpath(\"//a[@class='IRpwTa']\")\n",
    "\n",
    "ProductDescription_tags_titles=[]\n",
    "for k in ProductDescription_tags:\n",
    "    ProductDescription_tags_titles.append(k.text)\n",
    "    \n",
    "ProductDescription_tags_titles"
   ]
  },
  {
   "cell_type": "code",
   "execution_count": 165,
   "metadata": {},
   "outputs": [],
   "source": [
    "#price tag and discount\n",
    "Price_tags=driver.find_elements_by_xpath(\"//div[@class='_25b18c']//div\")\n",
    "\n",
    "Price_tags_titles_newlist=[]\n",
    "Price_tags_titles=[]\n",
    "Discount_tags_titles=[]\n",
    "\n",
    "for l in Price_tags:\n",
    "    Price_tags_titles.append(l.text)\n"
   ]
  },
  {
   "cell_type": "code",
   "execution_count": 166,
   "metadata": {},
   "outputs": [
    {
     "data": {
      "text/plain": [
       "['₹748',\n",
       " '₹1,996',\n",
       " '₹1248 off',\n",
       " '₹379',\n",
       " '₹999',\n",
       " '₹620 off',\n",
       " '₹377',\n",
       " '₹999',\n",
       " '₹622 off',\n",
       " '₹555',\n",
       " '₹999',\n",
       " '₹444 off',\n",
       " '₹499',\n",
       " '₹999',\n",
       " '₹500 off',\n",
       " '₹349',\n",
       " '₹999',\n",
       " '₹650 off',\n",
       " '₹474',\n",
       " '₹3,999',\n",
       " '₹3525 off',\n",
       " '₹520',\n",
       " '₹999',\n",
       " '₹479 off',\n",
       " '₹399',\n",
       " '₹999',\n",
       " '₹600 off',\n",
       " '₹759',\n",
       " '₹2,495',\n",
       " '₹1736 off',\n",
       " '₹240',\n",
       " '₹499',\n",
       " '₹259 off',\n",
       " '₹359',\n",
       " '₹999',\n",
       " '₹640 off',\n",
       " '₹449',\n",
       " '₹999',\n",
       " '₹550 off',\n",
       " '₹499',\n",
       " '₹2,640',\n",
       " '₹2141 off',\n",
       " '₹416',\n",
       " '₹999',\n",
       " '₹583 off',\n",
       " '₹298',\n",
       " '₹999',\n",
       " '₹701 off',\n",
       " '₹407',\n",
       " '₹1,299',\n",
       " '₹892 off',\n",
       " '₹378',\n",
       " '₹999',\n",
       " '₹621 off',\n",
       " '₹398',\n",
       " '₹999',\n",
       " '₹601 off',\n",
       " '₹2,399',\n",
       " '₹3,999',\n",
       " '₹1600 off',\n",
       " '₹283',\n",
       " '₹499',\n",
       " '₹216 off',\n",
       " '₹474',\n",
       " '₹999',\n",
       " '₹525 off',\n",
       " '₹242',\n",
       " '₹699',\n",
       " '₹457 off',\n",
       " '₹449',\n",
       " '₹2,999',\n",
       " '₹2550 off',\n",
       " '₹199',\n",
       " '₹499',\n",
       " '₹300 off',\n",
       " '₹470',\n",
       " '₹1,498',\n",
       " '₹1028 off',\n",
       " '₹474',\n",
       " '₹999',\n",
       " '₹525 off',\n",
       " '₹498',\n",
       " '₹1,598',\n",
       " '₹1100 off',\n",
       " '₹365',\n",
       " '₹659',\n",
       " '₹294 off',\n",
       " '₹283',\n",
       " '₹499',\n",
       " '₹216 off',\n",
       " '₹499',\n",
       " '₹1,999',\n",
       " '₹1500 off',\n",
       " '₹599',\n",
       " '₹1,298',\n",
       " '₹699 off',\n",
       " '₹449',\n",
       " '₹2,999',\n",
       " '₹2550 off',\n",
       " '₹358',\n",
       " '₹999',\n",
       " '₹641 off',\n",
       " '₹399',\n",
       " '₹999',\n",
       " '₹600 off',\n",
       " '₹989',\n",
       " '₹1,285',\n",
       " '₹296 off',\n",
       " '₹719',\n",
       " '₹3,999',\n",
       " '₹3280 off',\n",
       " '₹495',\n",
       " '₹1,999',\n",
       " '₹1504 off',\n",
       " '₹769',\n",
       " '₹999',\n",
       " '₹230 off',\n",
       " '₹449',\n",
       " '₹1,497',\n",
       " '₹1048 off',\n",
       " '₹543',\n",
       " '₹256 off',\n",
       " '₹407',\n",
       " '₹892 off',\n",
       " '₹449',\n",
       " '₹1048 off',\n",
       " '₹474',\n",
       " '₹525 off',\n",
       " '₹199',\n",
       " '₹300 off']"
      ]
     },
     "execution_count": 166,
     "metadata": {},
     "output_type": "execute_result"
    }
   ],
   "source": [
    " Price_tags_titles"
   ]
  },
  {
   "cell_type": "code",
   "execution_count": 167,
   "metadata": {},
   "outputs": [],
   "source": [
    "for n in range(1,len(Price_tags_titles),3):\n",
    "        Price_tags_titles_newlist.append(Price_tags_titles[n])  \n",
    "        Discount_tags_titles.append(Price_tags_titles[n+2]) \n"
   ]
  },
  {
   "cell_type": "code",
   "execution_count": 168,
   "metadata": {},
   "outputs": [
    {
     "data": {
      "text/plain": [
       "['₹1,996',\n",
       " '₹999',\n",
       " '₹999',\n",
       " '₹999',\n",
       " '₹999',\n",
       " '₹999',\n",
       " '₹3,999',\n",
       " '₹999',\n",
       " '₹999',\n",
       " '₹2,495',\n",
       " '₹499',\n",
       " '₹999',\n",
       " '₹999',\n",
       " '₹2,640',\n",
       " '₹999',\n",
       " '₹999',\n",
       " '₹1,299',\n",
       " '₹999',\n",
       " '₹999',\n",
       " '₹3,999',\n",
       " '₹499',\n",
       " '₹999',\n",
       " '₹699',\n",
       " '₹2,999',\n",
       " '₹499',\n",
       " '₹1,498',\n",
       " '₹999',\n",
       " '₹1,598',\n",
       " '₹659',\n",
       " '₹499',\n",
       " '₹1,999',\n",
       " '₹1,298',\n",
       " '₹2,999',\n",
       " '₹999',\n",
       " '₹999',\n",
       " '₹1,285',\n",
       " '₹3,999',\n",
       " '₹1,999',\n",
       " '₹999',\n",
       " '₹1,497',\n",
       " '₹256 off',\n",
       " '₹449',\n",
       " '₹525 off']"
      ]
     },
     "execution_count": 168,
     "metadata": {},
     "output_type": "execute_result"
    }
   ],
   "source": [
    "Price_tags_titles_newlist"
   ]
  },
  {
   "cell_type": "code",
   "execution_count": 169,
   "metadata": {},
   "outputs": [
    {
     "data": {
      "text/plain": [
       "['₹379',\n",
       " '₹377',\n",
       " '₹555',\n",
       " '₹499',\n",
       " '₹349',\n",
       " '₹474',\n",
       " '₹520',\n",
       " '₹399',\n",
       " '₹759',\n",
       " '₹240',\n",
       " '₹359',\n",
       " '₹449',\n",
       " '₹499',\n",
       " '₹416',\n",
       " '₹298',\n",
       " '₹407',\n",
       " '₹378',\n",
       " '₹398',\n",
       " '₹2,399',\n",
       " '₹283',\n",
       " '₹474',\n",
       " '₹242',\n",
       " '₹449',\n",
       " '₹199',\n",
       " '₹470',\n",
       " '₹474',\n",
       " '₹498',\n",
       " '₹365',\n",
       " '₹283',\n",
       " '₹499',\n",
       " '₹599',\n",
       " '₹449',\n",
       " '₹358',\n",
       " '₹399',\n",
       " '₹989',\n",
       " '₹719',\n",
       " '₹495',\n",
       " '₹769',\n",
       " '₹449',\n",
       " '₹543',\n",
       " '₹892 off',\n",
       " '₹474',\n",
       " '₹300 off']"
      ]
     },
     "execution_count": 169,
     "metadata": {},
     "output_type": "execute_result"
    }
   ],
   "source": [
    " Discount_tags_titles"
   ]
  },
  {
   "cell_type": "code",
   "execution_count": 170,
   "metadata": {},
   "outputs": [],
   "source": [
    "\n",
    "next_button=driver.find_element_by_xpath(\"//a[@class='_1LKTO3']\")\n",
    "next_button.click()\n",
    "time.sleep(2)"
   ]
  },
  {
   "cell_type": "code",
   "execution_count": 171,
   "metadata": {},
   "outputs": [
    {
     "data": {
      "text/html": [
       "<div>\n",
       "<style scoped>\n",
       "    .dataframe tbody tr th:only-of-type {\n",
       "        vertical-align: middle;\n",
       "    }\n",
       "\n",
       "    .dataframe tbody tr th {\n",
       "        vertical-align: top;\n",
       "    }\n",
       "\n",
       "    .dataframe thead th {\n",
       "        text-align: right;\n",
       "    }\n",
       "</style>\n",
       "<table border=\"1\" class=\"dataframe\">\n",
       "  <thead>\n",
       "    <tr style=\"text-align: right;\">\n",
       "      <th></th>\n",
       "      <th>Product name</th>\n",
       "      <th>Product description</th>\n",
       "      <th>price tag</th>\n",
       "      <th>discount</th>\n",
       "    </tr>\n",
       "  </thead>\n",
       "  <tbody>\n",
       "    <tr>\n",
       "      <th>0</th>\n",
       "      <td>CALCADOS</td>\n",
       "      <td>Casual Sneakers Shoes For Men Sneakers For Men</td>\n",
       "      <td>₹1,996</td>\n",
       "      <td>₹379</td>\n",
       "    </tr>\n",
       "    <tr>\n",
       "      <th>1</th>\n",
       "      <td>Robbie jones</td>\n",
       "      <td>Shoes in Black Color Party wear/Outdoor/Casual...</td>\n",
       "      <td>₹999</td>\n",
       "      <td>₹377</td>\n",
       "    </tr>\n",
       "    <tr>\n",
       "      <th>2</th>\n",
       "      <td>Alfiya</td>\n",
       "      <td>Sneakers For Men</td>\n",
       "      <td>₹999</td>\n",
       "      <td>₹555</td>\n",
       "    </tr>\n",
       "    <tr>\n",
       "      <th>3</th>\n",
       "      <td>Zixer</td>\n",
       "      <td>White Sneaker For Men's/Boy's Sneakers For Men</td>\n",
       "      <td>₹999</td>\n",
       "      <td>₹499</td>\n",
       "    </tr>\n",
       "    <tr>\n",
       "      <th>4</th>\n",
       "      <td>PEHANOSA</td>\n",
       "      <td>Combo Pack Of 4 Casual Sneakers For Men</td>\n",
       "      <td>₹999</td>\n",
       "      <td>₹349</td>\n",
       "    </tr>\n",
       "    <tr>\n",
       "      <th>5</th>\n",
       "      <td>Shoes Bank</td>\n",
       "      <td>Sneakers For Men</td>\n",
       "      <td>₹999</td>\n",
       "      <td>₹474</td>\n",
       "    </tr>\n",
       "    <tr>\n",
       "      <th>6</th>\n",
       "      <td>BRUTON</td>\n",
       "      <td>Speed Set of 5 Pairs Sneakers Outdoors Casuals...</td>\n",
       "      <td>₹3,999</td>\n",
       "      <td>₹520</td>\n",
       "    </tr>\n",
       "    <tr>\n",
       "      <th>7</th>\n",
       "      <td>OZJI</td>\n",
       "      <td>5011-Latest Collection Stylish Casual Loafer S...</td>\n",
       "      <td>₹999</td>\n",
       "      <td>₹399</td>\n",
       "    </tr>\n",
       "    <tr>\n",
       "      <th>8</th>\n",
       "      <td>KULP</td>\n",
       "      <td>Sneakers For Men</td>\n",
       "      <td>₹999</td>\n",
       "      <td>₹759</td>\n",
       "    </tr>\n",
       "    <tr>\n",
       "      <th>9</th>\n",
       "      <td>Chevit</td>\n",
       "      <td>Combo Pack of 4 Latest Collection Stylish Casu...</td>\n",
       "      <td>₹2,495</td>\n",
       "      <td>₹240</td>\n",
       "    </tr>\n",
       "  </tbody>\n",
       "</table>\n",
       "</div>"
      ],
      "text/plain": [
       "   Product name                                Product description price tag  \\\n",
       "0      CALCADOS     Casual Sneakers Shoes For Men Sneakers For Men    ₹1,996   \n",
       "1  Robbie jones  Shoes in Black Color Party wear/Outdoor/Casual...      ₹999   \n",
       "2        Alfiya                                   Sneakers For Men      ₹999   \n",
       "3         Zixer     White Sneaker For Men's/Boy's Sneakers For Men      ₹999   \n",
       "4      PEHANOSA            Combo Pack Of 4 Casual Sneakers For Men      ₹999   \n",
       "5    Shoes Bank                                   Sneakers For Men      ₹999   \n",
       "6        BRUTON  Speed Set of 5 Pairs Sneakers Outdoors Casuals...    ₹3,999   \n",
       "7          OZJI  5011-Latest Collection Stylish Casual Loafer S...      ₹999   \n",
       "8          KULP                                   Sneakers For Men      ₹999   \n",
       "9        Chevit  Combo Pack of 4 Latest Collection Stylish Casu...    ₹2,495   \n",
       "\n",
       "  discount  \n",
       "0     ₹379  \n",
       "1     ₹377  \n",
       "2     ₹555  \n",
       "3     ₹499  \n",
       "4     ₹349  \n",
       "5     ₹474  \n",
       "6     ₹520  \n",
       "7     ₹399  \n",
       "8     ₹759  \n",
       "9     ₹240  "
      ]
     },
     "execution_count": 171,
     "metadata": {},
     "output_type": "execute_result"
    }
   ],
   "source": [
    "import pandas as pd\n",
    "product=pd.DataFrame({})\n",
    "\n",
    "product['Product name']=Brand_tags_titles[:10]\n",
    "product['Product description']=ProductDescription_tags_titles[:10]\n",
    "product['price tag']=Price_tags_titles_newlist[:10]\n",
    "product['discount']=Discount_tags_titles[:10]\n",
    "\n",
    "product\n"
   ]
  },
  {
   "cell_type": "markdown",
   "metadata": {},
   "source": [
    "# Question 9"
   ]
  },
  {
   "cell_type": "markdown",
   "metadata": {},
   "source": [
    " Go to the link - https://www.myntra.com/shoes"
   ]
  },
  {
   "cell_type": "code",
   "execution_count": 172,
   "metadata": {},
   "outputs": [],
   "source": [
    "driver=webdriver.Chrome(r\"C:\\chromedriver.exe\")\n",
    "url='https://www.myntra.com/shoes'\n",
    "driver.get(url)"
   ]
  },
  {
   "cell_type": "markdown",
   "metadata": {},
   "source": [
    "Set Price filter to “Rs. 6649 to Rs. 13099” , Color filter to “Black”,"
   ]
  },
  {
   "cell_type": "code",
   "execution_count": 174,
   "metadata": {},
   "outputs": [],
   "source": [
    "btn1=driver.find_element_by_xpath(\"/html/body/div[2]/div/div[1]/main/div[3]/div[1]/section/div/div[5]/ul/li[3]/label\")\n",
    "btn1.click()"
   ]
  },
  {
   "cell_type": "code",
   "execution_count": 175,
   "metadata": {},
   "outputs": [],
   "source": [
    "btn2=driver.find_element_by_xpath(\"/html/body/div[2]/div/div[1]/main/div[3]/div[1]/section/div/div[6]/ul/li[1]/label\")\n",
    "btn2.click()"
   ]
  },
  {
   "cell_type": "code",
   "execution_count": 182,
   "metadata": {},
   "outputs": [],
   "source": [
    "ProductDescription_tags_titles=[]"
   ]
  },
  {
   "cell_type": "code",
   "execution_count": 183,
   "metadata": {},
   "outputs": [
    {
     "ename": "NoSuchElementException",
     "evalue": "Message: no such element: Unable to locate element: {\"method\":\"xpath\",\"selector\":\"//li[@class='pagination-next']\"}\n  (Session info: chrome=91.0.4472.114)\n",
     "output_type": "error",
     "traceback": [
      "\u001b[1;31m---------------------------------------------------------------------------\u001b[0m",
      "\u001b[1;31mNoSuchElementException\u001b[0m                    Traceback (most recent call last)",
      "\u001b[1;32m<ipython-input-183-d2be543f2bf8>\u001b[0m in \u001b[0;36m<module>\u001b[1;34m\u001b[0m\n\u001b[0;32m     23\u001b[0m         \u001b[0mPrice_tags_titles\u001b[0m\u001b[1;33m.\u001b[0m\u001b[0mappend\u001b[0m\u001b[1;33m(\u001b[0m\u001b[0ml\u001b[0m\u001b[1;33m.\u001b[0m\u001b[0mtext\u001b[0m\u001b[1;33m)\u001b[0m\u001b[1;33m\u001b[0m\u001b[1;33m\u001b[0m\u001b[0m\n\u001b[0;32m     24\u001b[0m \u001b[1;33m\u001b[0m\u001b[0m\n\u001b[1;32m---> 25\u001b[1;33m     \u001b[0mnext_button\u001b[0m\u001b[1;33m=\u001b[0m\u001b[0mdriver\u001b[0m\u001b[1;33m.\u001b[0m\u001b[0mfind_element_by_xpath\u001b[0m\u001b[1;33m(\u001b[0m\u001b[1;34m\"//li[@class='pagination-next']\"\u001b[0m\u001b[1;33m)\u001b[0m\u001b[1;33m\u001b[0m\u001b[1;33m\u001b[0m\u001b[0m\n\u001b[0m\u001b[0;32m     26\u001b[0m     \u001b[0mnext_button\u001b[0m\u001b[1;33m.\u001b[0m\u001b[0mclick\u001b[0m\u001b[1;33m(\u001b[0m\u001b[1;33m)\u001b[0m\u001b[1;33m\u001b[0m\u001b[1;33m\u001b[0m\u001b[0m\n\u001b[0;32m     27\u001b[0m     \u001b[0mtime\u001b[0m\u001b[1;33m.\u001b[0m\u001b[0msleep\u001b[0m\u001b[1;33m(\u001b[0m\u001b[1;36m2\u001b[0m\u001b[1;33m)\u001b[0m\u001b[1;33m\u001b[0m\u001b[1;33m\u001b[0m\u001b[0m\n",
      "\u001b[1;32m~\\anaconda3\\lib\\site-packages\\selenium\\webdriver\\remote\\webdriver.py\u001b[0m in \u001b[0;36mfind_element_by_xpath\u001b[1;34m(self, xpath)\u001b[0m\n\u001b[0;32m    392\u001b[0m             \u001b[0melement\u001b[0m \u001b[1;33m=\u001b[0m \u001b[0mdriver\u001b[0m\u001b[1;33m.\u001b[0m\u001b[0mfind_element_by_xpath\u001b[0m\u001b[1;33m(\u001b[0m\u001b[1;34m'//div/td[1]'\u001b[0m\u001b[1;33m)\u001b[0m\u001b[1;33m\u001b[0m\u001b[1;33m\u001b[0m\u001b[0m\n\u001b[0;32m    393\u001b[0m         \"\"\"\n\u001b[1;32m--> 394\u001b[1;33m         \u001b[1;32mreturn\u001b[0m \u001b[0mself\u001b[0m\u001b[1;33m.\u001b[0m\u001b[0mfind_element\u001b[0m\u001b[1;33m(\u001b[0m\u001b[0mby\u001b[0m\u001b[1;33m=\u001b[0m\u001b[0mBy\u001b[0m\u001b[1;33m.\u001b[0m\u001b[0mXPATH\u001b[0m\u001b[1;33m,\u001b[0m \u001b[0mvalue\u001b[0m\u001b[1;33m=\u001b[0m\u001b[0mxpath\u001b[0m\u001b[1;33m)\u001b[0m\u001b[1;33m\u001b[0m\u001b[1;33m\u001b[0m\u001b[0m\n\u001b[0m\u001b[0;32m    395\u001b[0m \u001b[1;33m\u001b[0m\u001b[0m\n\u001b[0;32m    396\u001b[0m     \u001b[1;32mdef\u001b[0m \u001b[0mfind_elements_by_xpath\u001b[0m\u001b[1;33m(\u001b[0m\u001b[0mself\u001b[0m\u001b[1;33m,\u001b[0m \u001b[0mxpath\u001b[0m\u001b[1;33m)\u001b[0m\u001b[1;33m:\u001b[0m\u001b[1;33m\u001b[0m\u001b[1;33m\u001b[0m\u001b[0m\n",
      "\u001b[1;32m~\\anaconda3\\lib\\site-packages\\selenium\\webdriver\\remote\\webdriver.py\u001b[0m in \u001b[0;36mfind_element\u001b[1;34m(self, by, value)\u001b[0m\n\u001b[0;32m    974\u001b[0m                 \u001b[0mby\u001b[0m \u001b[1;33m=\u001b[0m \u001b[0mBy\u001b[0m\u001b[1;33m.\u001b[0m\u001b[0mCSS_SELECTOR\u001b[0m\u001b[1;33m\u001b[0m\u001b[1;33m\u001b[0m\u001b[0m\n\u001b[0;32m    975\u001b[0m                 \u001b[0mvalue\u001b[0m \u001b[1;33m=\u001b[0m \u001b[1;34m'[name=\"%s\"]'\u001b[0m \u001b[1;33m%\u001b[0m \u001b[0mvalue\u001b[0m\u001b[1;33m\u001b[0m\u001b[1;33m\u001b[0m\u001b[0m\n\u001b[1;32m--> 976\u001b[1;33m         return self.execute(Command.FIND_ELEMENT, {\n\u001b[0m\u001b[0;32m    977\u001b[0m             \u001b[1;34m'using'\u001b[0m\u001b[1;33m:\u001b[0m \u001b[0mby\u001b[0m\u001b[1;33m,\u001b[0m\u001b[1;33m\u001b[0m\u001b[1;33m\u001b[0m\u001b[0m\n\u001b[0;32m    978\u001b[0m             'value': value})['value']\n",
      "\u001b[1;32m~\\anaconda3\\lib\\site-packages\\selenium\\webdriver\\remote\\webdriver.py\u001b[0m in \u001b[0;36mexecute\u001b[1;34m(self, driver_command, params)\u001b[0m\n\u001b[0;32m    319\u001b[0m         \u001b[0mresponse\u001b[0m \u001b[1;33m=\u001b[0m \u001b[0mself\u001b[0m\u001b[1;33m.\u001b[0m\u001b[0mcommand_executor\u001b[0m\u001b[1;33m.\u001b[0m\u001b[0mexecute\u001b[0m\u001b[1;33m(\u001b[0m\u001b[0mdriver_command\u001b[0m\u001b[1;33m,\u001b[0m \u001b[0mparams\u001b[0m\u001b[1;33m)\u001b[0m\u001b[1;33m\u001b[0m\u001b[1;33m\u001b[0m\u001b[0m\n\u001b[0;32m    320\u001b[0m         \u001b[1;32mif\u001b[0m \u001b[0mresponse\u001b[0m\u001b[1;33m:\u001b[0m\u001b[1;33m\u001b[0m\u001b[1;33m\u001b[0m\u001b[0m\n\u001b[1;32m--> 321\u001b[1;33m             \u001b[0mself\u001b[0m\u001b[1;33m.\u001b[0m\u001b[0merror_handler\u001b[0m\u001b[1;33m.\u001b[0m\u001b[0mcheck_response\u001b[0m\u001b[1;33m(\u001b[0m\u001b[0mresponse\u001b[0m\u001b[1;33m)\u001b[0m\u001b[1;33m\u001b[0m\u001b[1;33m\u001b[0m\u001b[0m\n\u001b[0m\u001b[0;32m    322\u001b[0m             response['value'] = self._unwrap_value(\n\u001b[0;32m    323\u001b[0m                 response.get('value', None))\n",
      "\u001b[1;32m~\\anaconda3\\lib\\site-packages\\selenium\\webdriver\\remote\\errorhandler.py\u001b[0m in \u001b[0;36mcheck_response\u001b[1;34m(self, response)\u001b[0m\n\u001b[0;32m    240\u001b[0m                 \u001b[0malert_text\u001b[0m \u001b[1;33m=\u001b[0m \u001b[0mvalue\u001b[0m\u001b[1;33m[\u001b[0m\u001b[1;34m'alert'\u001b[0m\u001b[1;33m]\u001b[0m\u001b[1;33m.\u001b[0m\u001b[0mget\u001b[0m\u001b[1;33m(\u001b[0m\u001b[1;34m'text'\u001b[0m\u001b[1;33m)\u001b[0m\u001b[1;33m\u001b[0m\u001b[1;33m\u001b[0m\u001b[0m\n\u001b[0;32m    241\u001b[0m             \u001b[1;32mraise\u001b[0m \u001b[0mexception_class\u001b[0m\u001b[1;33m(\u001b[0m\u001b[0mmessage\u001b[0m\u001b[1;33m,\u001b[0m \u001b[0mscreen\u001b[0m\u001b[1;33m,\u001b[0m \u001b[0mstacktrace\u001b[0m\u001b[1;33m,\u001b[0m \u001b[0malert_text\u001b[0m\u001b[1;33m)\u001b[0m\u001b[1;33m\u001b[0m\u001b[1;33m\u001b[0m\u001b[0m\n\u001b[1;32m--> 242\u001b[1;33m         \u001b[1;32mraise\u001b[0m \u001b[0mexception_class\u001b[0m\u001b[1;33m(\u001b[0m\u001b[0mmessage\u001b[0m\u001b[1;33m,\u001b[0m \u001b[0mscreen\u001b[0m\u001b[1;33m,\u001b[0m \u001b[0mstacktrace\u001b[0m\u001b[1;33m)\u001b[0m\u001b[1;33m\u001b[0m\u001b[1;33m\u001b[0m\u001b[0m\n\u001b[0m\u001b[0;32m    243\u001b[0m \u001b[1;33m\u001b[0m\u001b[0m\n\u001b[0;32m    244\u001b[0m     \u001b[1;32mdef\u001b[0m \u001b[0m_value_or_default\u001b[0m\u001b[1;33m(\u001b[0m\u001b[0mself\u001b[0m\u001b[1;33m,\u001b[0m \u001b[0mobj\u001b[0m\u001b[1;33m,\u001b[0m \u001b[0mkey\u001b[0m\u001b[1;33m,\u001b[0m \u001b[0mdefault\u001b[0m\u001b[1;33m)\u001b[0m\u001b[1;33m:\u001b[0m\u001b[1;33m\u001b[0m\u001b[1;33m\u001b[0m\u001b[0m\n",
      "\u001b[1;31mNoSuchElementException\u001b[0m: Message: no such element: Unable to locate element: {\"method\":\"xpath\",\"selector\":\"//li[@class='pagination-next']\"}\n  (Session info: chrome=91.0.4472.114)\n"
     ]
    }
   ],
   "source": [
    "for i in range(1,2):\n",
    "    \n",
    "    #brand name\n",
    "    Brand_tags=driver.find_elements_by_xpath(\"//h3[@class='product-brand']\")\n",
    "\n",
    "    Brand_tags_titles=[]\n",
    "    for j in Brand_tags:\n",
    "        Brand_tags_titles.append(j.text)\n",
    "        \n",
    "    #Product description    \n",
    "    ProductDescription_tags=driver.find_elements_by_xpath(\"//h4[@class='product-product']\")\n",
    "\n",
    "    \n",
    "    for k in ProductDescription_tags:\n",
    "        ProductDescription_tags_titles.append(k.text)\n",
    "        \n",
    "    #price tag \n",
    "    Price_tags=driver.find_elements_by_xpath(\"//div[@class='product-price']\")\n",
    "\n",
    "    Price_tags_titles=[]\n",
    "  \n",
    "    for l in Price_tags:\n",
    "        Price_tags_titles.append(l.text)\n",
    "        \n",
    "    next_button=driver.find_element_by_xpath(\"//li[@class='pagination-next']\")\n",
    "    next_button.click()\n",
    "    time.sleep(2)"
   ]
  },
  {
   "cell_type": "code",
   "execution_count": 185,
   "metadata": {},
   "outputs": [
    {
     "data": {
      "text/html": [
       "<div>\n",
       "<style scoped>\n",
       "    .dataframe tbody tr th:only-of-type {\n",
       "        vertical-align: middle;\n",
       "    }\n",
       "\n",
       "    .dataframe tbody tr th {\n",
       "        vertical-align: top;\n",
       "    }\n",
       "\n",
       "    .dataframe thead th {\n",
       "        text-align: right;\n",
       "    }\n",
       "</style>\n",
       "<table border=\"1\" class=\"dataframe\">\n",
       "  <thead>\n",
       "    <tr style=\"text-align: right;\">\n",
       "      <th></th>\n",
       "      <th>Product name</th>\n",
       "      <th>Product description</th>\n",
       "      <th>price tag</th>\n",
       "    </tr>\n",
       "  </thead>\n",
       "  <tbody>\n",
       "    <tr>\n",
       "      <th>0</th>\n",
       "      <td>Nike</td>\n",
       "      <td>LEBRON XVIII Basketball Shoes</td>\n",
       "      <td>Rs. 14495</td>\n",
       "    </tr>\n",
       "    <tr>\n",
       "      <th>1</th>\n",
       "      <td>ADIDAS</td>\n",
       "      <td></td>\n",
       "      <td>Rs. 17099Rs. 17999(5% OFF)</td>\n",
       "    </tr>\n",
       "    <tr>\n",
       "      <th>2</th>\n",
       "      <td>Cole Haan</td>\n",
       "      <td>Women Leather Brogues</td>\n",
       "      <td>Rs. 16999</td>\n",
       "    </tr>\n",
       "    <tr>\n",
       "      <th>3</th>\n",
       "      <td>ADIDAS Originals</td>\n",
       "      <td>Men ZX 2K Boost Sneakers</td>\n",
       "      <td>Rs. 13999</td>\n",
       "    </tr>\n",
       "    <tr>\n",
       "      <th>4</th>\n",
       "      <td>Birkenstock</td>\n",
       "      <td>Unisex Boston Leather Mules</td>\n",
       "      <td>Rs. 15990</td>\n",
       "    </tr>\n",
       "    <tr>\n",
       "      <th>5</th>\n",
       "      <td>Cole Haan</td>\n",
       "      <td>Men Textured Derbys</td>\n",
       "      <td>Rs. 14999</td>\n",
       "    </tr>\n",
       "    <tr>\n",
       "      <th>6</th>\n",
       "      <td>ADIDAS</td>\n",
       "      <td>Men ULTRABOOST Running</td>\n",
       "      <td>Rs. 16149Rs. 18999(15% OFF)</td>\n",
       "    </tr>\n",
       "    <tr>\n",
       "      <th>7</th>\n",
       "      <td>Geox</td>\n",
       "      <td>Women Leather Heeled Boots</td>\n",
       "      <td>Rs. 15999</td>\n",
       "    </tr>\n",
       "    <tr>\n",
       "      <th>8</th>\n",
       "      <td>Nike</td>\n",
       "      <td>Men JOYRIDE RUN Running Shoes</td>\n",
       "      <td>Rs. 13495Rs. 14995(10% OFF)</td>\n",
       "    </tr>\n",
       "    <tr>\n",
       "      <th>9</th>\n",
       "      <td>ASICS</td>\n",
       "      <td>Men Synthetic Running Shoes</td>\n",
       "      <td>Rs. 14999Rs. 19999(25% OFF)</td>\n",
       "    </tr>\n",
       "    <tr>\n",
       "      <th>10</th>\n",
       "      <td>Cole Haan</td>\n",
       "      <td>Men Solid Sneakers</td>\n",
       "      <td>Rs. 16999</td>\n",
       "    </tr>\n",
       "    <tr>\n",
       "      <th>11</th>\n",
       "      <td>Saint G</td>\n",
       "      <td>Leather Knee Length Boots</td>\n",
       "      <td>Rs. 14900</td>\n",
       "    </tr>\n",
       "  </tbody>\n",
       "</table>\n",
       "</div>"
      ],
      "text/plain": [
       "        Product name            Product description  \\\n",
       "0               Nike  LEBRON XVIII Basketball Shoes   \n",
       "1             ADIDAS                                  \n",
       "2          Cole Haan          Women Leather Brogues   \n",
       "3   ADIDAS Originals       Men ZX 2K Boost Sneakers   \n",
       "4        Birkenstock    Unisex Boston Leather Mules   \n",
       "5          Cole Haan            Men Textured Derbys   \n",
       "6             ADIDAS         Men ULTRABOOST Running   \n",
       "7               Geox     Women Leather Heeled Boots   \n",
       "8               Nike  Men JOYRIDE RUN Running Shoes   \n",
       "9              ASICS    Men Synthetic Running Shoes   \n",
       "10         Cole Haan             Men Solid Sneakers   \n",
       "11           Saint G      Leather Knee Length Boots   \n",
       "\n",
       "                      price tag  \n",
       "0                     Rs. 14495  \n",
       "1    Rs. 17099Rs. 17999(5% OFF)  \n",
       "2                     Rs. 16999  \n",
       "3                     Rs. 13999  \n",
       "4                     Rs. 15990  \n",
       "5                     Rs. 14999  \n",
       "6   Rs. 16149Rs. 18999(15% OFF)  \n",
       "7                     Rs. 15999  \n",
       "8   Rs. 13495Rs. 14995(10% OFF)  \n",
       "9   Rs. 14999Rs. 19999(25% OFF)  \n",
       "10                    Rs. 16999  \n",
       "11                    Rs. 14900  "
      ]
     },
     "execution_count": 185,
     "metadata": {},
     "output_type": "execute_result"
    }
   ],
   "source": [
    "import pandas as pd\n",
    "product=pd.DataFrame({})\n",
    "\n",
    "product['Product name']=Brand_tags_titles[:100]\n",
    "product['Product description']=ProductDescription_tags_titles[:100]\n",
    "product['price tag']=Price_tags_titles[:100]\n",
    "\n",
    "product\n"
   ]
  },
  {
   "cell_type": "markdown",
   "metadata": {},
   "source": [
    "# Question 10"
   ]
  },
  {
   "cell_type": "markdown",
   "metadata": {},
   "source": [
    " Go to webpage https://www.amazon.in/\n"
   ]
  },
  {
   "cell_type": "code",
   "execution_count": 78,
   "metadata": {},
   "outputs": [],
   "source": [
    "driver=webdriver.Chrome(r\"C:\\chromedriver.exe\")\n",
    "url='https://www.amazon.in/'\n",
    "driver.get(url)"
   ]
  },
  {
   "cell_type": "markdown",
   "metadata": {},
   "source": [
    "Enter “Laptop” in the search field and then click the search icon"
   ]
  },
  {
   "cell_type": "code",
   "execution_count": 80,
   "metadata": {},
   "outputs": [],
   "source": [
    "search_bar=driver.find_element_by_id('twotabsearchtextbox')\n",
    "search_bar.send_keys(\"Laptop\")\n",
    "\n",
    "driver.implicitly_wait(5)\n",
    "\n",
    "search_btn=driver.find_element_by_xpath(\"//div[@class='nav-search-submit nav-sprite']/span/input\")\n",
    "search_btn.click()"
   ]
  },
  {
   "cell_type": "markdown",
   "metadata": {},
   "source": [
    " set CPU Type filter to “Intel Core i7” and “Intel Core i9” "
   ]
  },
  {
   "cell_type": "code",
   "execution_count": 81,
   "metadata": {},
   "outputs": [],
   "source": [
    "btn1=driver.find_element_by_xpath(\"/html/body/div[1]/div[2]/div[1]/div/div[2]/div/div[3]/span/div[1]/span/div/div/div[6]/ul[1]/li[26]/span/a/span\")\n",
    "btn1.click()"
   ]
  },
  {
   "cell_type": "code",
   "execution_count": 82,
   "metadata": {},
   "outputs": [],
   "source": [
    "btn2=driver.find_element_by_xpath(\"/html/body/div[1]/div[2]/div[1]/div/div[2]/div/div[3]/span/div[1]/span/div/div/div[6]/ul[1]/li[28]/span/a/span\")\n",
    "btn2.click()"
   ]
  },
  {
   "cell_type": "markdown",
   "metadata": {},
   "source": [
    "scrape first 10 laptops data. You have to scrape 3 attributes\n",
    "for each laptop:\n",
    "1. title\n",
    "2. Ratings\n",
    "3. Price"
   ]
  },
  {
   "cell_type": "code",
   "execution_count": 83,
   "metadata": {},
   "outputs": [
    {
     "data": {
      "text/plain": [
       "['HP Pavilion (2021) Thin & Light 11th Gen Core i7 Laptop, 16 GB RAM, 1TB SSD, Iris Xe Graphics, 14\" (35.56cms) FHD Screen, Windows 10, MS Office, Backlit Keyboard (14-dv0058TU)',\n",
       " 'ASUS ROG Zephyrus M15 (2020), 15.6\" 4K UHD, Intel Core i7-10750H 10th Gen, RTX 2060 GDDR6 6GB Graphics, Gaming Laptop (16GB RAM/1TB NVMe SSD/Windows 10/Prism Black/1.9 Kg), GU502LV-HC140T',\n",
       " 'HP Pavilion Gaming 10th Gen Intel Core i7 Processor 15.6-inch FHD Gaming Laptop (16GB/512GB SSD + 32GB Intel Optane/Windows 10/NVIDIA 1650Ti 4GB/Shadow Black), 15-dk1509TX',\n",
       " '(Renewed) Dell Intel Core i7 4th Gen 14 Inch(35.56cms)1366x768 HD Laptop (16GB RAM/128GB SSD & 2TB HDD/Windows 10 Pro/MS Office/Intel Integrated HD Graphics 4600/2.1Kg,Silver) Latitude E6440',\n",
       " 'Lenovo Yoga 7 11th Gen Intel Core i7 14\" (35.56cms) Full HD IPS 2-in-1 Touchscreen Laptop (16GB/512GB SSD/Windows 10/MS Office 2019/Fingerprint Reader/Slate Grey/Aluminium Surface/1.43Kg), 82BH004HIN',\n",
       " 'ASUS TUF Gaming F15, 15.6\" FHD 144Hz, Intel Core i7-10870H 10th Gen, GTX 1650 Ti GDDR6 4GB Graphics, Gaming Laptop (16GB RAM/1TB HDD + 256GB SSD/Windows 10/Fortress Gray/2.3 Kg), FX566LI-HN133T',\n",
       " 'HP Pavilion x360 (2021) 14\" (35.56cms) FHD Touchscreen Laptop, 11th Gen Core i7, 8 GB RAM, 512GB SSD, 2-in-1 Convertible, Windows 10, MS Office, Finger Print Reader (14-dw1040TU)',\n",
       " 'Mi Notebook Horizon Edition 14 Intel Core i5-10210U 10th Gen 14-inch (35.56 cms) Thin and Light Laptop(8GB/512GB SSD/Windows 10/Nvidia MX350 2GB Graphics/Grey/1.35Kg), XMA1904-AR+Webcam',\n",
       " 'ASUS ROG Zephyrus Duo 15, 15.6\" 4K UHD, Intel Core i7-10875H 10th Gen, RTX 2080 Super Max-Q 8GB Graphics, Gaming Laptop (32GB/2TB RAID 0 SSD/Windows 10/MS Office/Gray/2.48 Kg) GX550LXS-HC145TS',\n",
       " 'ASUS VivoBook S S14 Intel Core i7-1165G7 11th Gen, 14-inch FHD Thin and Light Laptop (8GB RAM/512GB SSD + 32GB Optane Memory/Windows 10/Office 2019/Iris X Graphics- Indie Black/1.4 Kg), S433EA-AM701TS',\n",
       " '(Renewed) Dell Intel Core i7 4th Gen 14 Inch(35.56 cms) 1366x768 HD Laptop (16GB RAM /1TB SSD/Windows 10 Pro/MS Office 2019/Intel Integrated HD Graphics 4600/2.1Kg,Silver) Latitude E6440',\n",
       " 'Lenovo IdeaPad Flex 5 11th Gen Intel Core i7 14-inch FHD IPS 2-in-1 Touchscreen Laptop (16GB/512GB SSD/Win 10/Office 2019/Lenovo Digital Pen Stylus/Fingerprint Reader/Graphite Grey/1.5Kg), 82HS0092IN',\n",
       " 'Life Digital Laptop 15.6-inch (39.62 cms) (Intel Core i7, 4GB RAM, 256GB SSD, Windows 10), ZED AIR CX7',\n",
       " '(Renewed) Dell Intel Core i7 4th Gen 14 Inch(35.56 cms) 1366x768 HD Laptop (8GB RAM/256GB SSD/Windows 10 Pro/MS Office 2019/Intel Integrated HD Graphics 4600/2.1Kg,Silver) Latitude E6440',\n",
       " '(Renewed) Dell Intel Core i7 4th Gen 14 Inch(35.56 cms) 1366x768 HD Laptop (8GB RAM/1TB HDD/Windows 10 Pro/MS Office 2019/Intel Integrated HD Graphics 4600/2.1Kg,Silver) Latitude E6440',\n",
       " '(Renewed) Dell Latitude E7270 12.5 inch Laptop (Core i7 6th Gen/8 GB (Up to 16)/256 GB SSD/Windows 10 Pro/MS Office/HD Display/Integrated Graphics)',\n",
       " 'Lenovo ThinkPad E15 (2021) Intel Core i7 11th Gen 15.6\" FHD Thin and Light Laptop (16GB RAM/512GB SSD/Windows 10/MS Office/Fingerprint Reader/Black/Aluminium Surface/ 1.7 kg), 20TDS0G100',\n",
       " 'Dell Inspiron 5410 14\" FHD Touch Display 2in1 Laptop (i7-1165G7 / 16GB / 512GB SSD / Integrated Graphics / Win 10 + MSO / Backlit KB + FPR + Active Pen / Silver Metal Color) D560469WIN9S',\n",
       " 'MSI GE75 Raider 10SFS 17.3\" FHD Gaming Laptop - Core i7-10875H+HM470 I DDR IV 8GB*2 (3200MHz) I 512GB NVMe PCIe SSD +1TB (SATA) 7200rpm I NVIDIA RTX2070 Super, GDDR6 8GB I Windows 10 Home - Black',\n",
       " '(Renewed) Dell Intel Core i7 4th Gen 14 Inch(35.56 cms) 1366x768 HD Laptop (4GB RAM/320GB HDD/Windows 10 Pro/MS Office 2019/Intel Integrated HD Graphics 4600/2.1Kg,Silver) Latitude E6440',\n",
       " 'HP 14 Thin & Light 14\" (35.56cms) FHD Laptop (11th Gen Intel i7-1165G7/8GB/512GB SSD/Windows 10/MS Office 2019/Alexa Built-in/Pale Gold/1.47 kg), 14s-dr2007TU',\n",
       " 'MSI GF63 Thin 10SCSR-019IN Intel Core i7-10750H 10th Gen 15.6-inch 120Hz Laptop(8GB/512GB NVMe SSD /Windows 10 Home/Nvidia GeForce GTX 1650Ti Max-Q 4GB/Black/1.8Kg ) 9S7-16R412-019',\n",
       " 'Lenovo Legion Y540 9th Gen Intel Core i7 15.6-inch Full HD Gaming Laptop (8GB/1TB HDD + 256GB SSD/Windows 10/60 Hz/NVIDIA GTX 1650 4GB GDDR5 Graphics/Raven Black/2.3Kg), 81SY00SMIN',\n",
       " 'HP Pavilion Gaming(2021) 10th Gen Intel Core i7 15.6-inch(39.6 cm) FHD IPS 144Hz Gaming Laptop (16GB/512GB SSD + 32GB Intel Optane/NVIDIA GTX 1650Ti 4GB/Win 10/MS Office/Shadow Black), 15-DK1511TX']"
      ]
     },
     "execution_count": 83,
     "metadata": {},
     "output_type": "execute_result"
    }
   ],
   "source": [
    "#scrape product name\n",
    "product_name=[]\n",
    "products=driver.find_elements_by_xpath(\"//span[@class='a-size-medium a-color-base a-text-normal']\")\n",
    "for i in products:\n",
    "    product_name.append(i.text)\n",
    "    \n",
    "product_name"
   ]
  },
  {
   "cell_type": "code",
   "execution_count": 88,
   "metadata": {},
   "outputs": [
    {
     "data": {
      "text/plain": [
       "['84,990',\n",
       " '1,46,290',\n",
       " '86,990',\n",
       " '54,999',\n",
       " '96,089',\n",
       " '81,990',\n",
       " '76,990',\n",
       " '54,999',\n",
       " '2,59,990',\n",
       " '77,171',\n",
       " '49,999',\n",
       " '40,932',\n",
       " '42,999',\n",
       " '42,999',\n",
       " '49,999',\n",
       " '90,990',\n",
       " '85,490',\n",
       " '1,79,990',\n",
       " '39,999',\n",
       " '88,000',\n",
       " '84,990',\n",
       " '82,990',\n",
       " '90,990']"
      ]
     },
     "execution_count": 88,
     "metadata": {},
     "output_type": "execute_result"
    }
   ],
   "source": [
    "price_title=[]\n",
    "price=driver.find_elements_by_xpath(\"//span[@class='a-price-whole']\")\n",
    "for i in price:\n",
    "    price_title.append(i.text)\n",
    "    \n",
    "price_title"
   ]
  },
  {
   "cell_type": "code",
   "execution_count": 93,
   "metadata": {},
   "outputs": [
    {
     "data": {
      "text/html": [
       "<div>\n",
       "<style scoped>\n",
       "    .dataframe tbody tr th:only-of-type {\n",
       "        vertical-align: middle;\n",
       "    }\n",
       "\n",
       "    .dataframe tbody tr th {\n",
       "        vertical-align: top;\n",
       "    }\n",
       "\n",
       "    .dataframe thead th {\n",
       "        text-align: right;\n",
       "    }\n",
       "</style>\n",
       "<table border=\"1\" class=\"dataframe\">\n",
       "  <thead>\n",
       "    <tr style=\"text-align: right;\">\n",
       "      <th></th>\n",
       "      <th>Product name</th>\n",
       "      <th>price tag</th>\n",
       "    </tr>\n",
       "  </thead>\n",
       "  <tbody>\n",
       "    <tr>\n",
       "      <th>0</th>\n",
       "      <td>HP Pavilion (2021) Thin &amp; Light 11th Gen Core ...</td>\n",
       "      <td>84,990</td>\n",
       "    </tr>\n",
       "    <tr>\n",
       "      <th>1</th>\n",
       "      <td>ASUS ROG Zephyrus M15 (2020), 15.6\" 4K UHD, In...</td>\n",
       "      <td>1,46,290</td>\n",
       "    </tr>\n",
       "    <tr>\n",
       "      <th>2</th>\n",
       "      <td>HP Pavilion Gaming 10th Gen Intel Core i7 Proc...</td>\n",
       "      <td>86,990</td>\n",
       "    </tr>\n",
       "    <tr>\n",
       "      <th>3</th>\n",
       "      <td>(Renewed) Dell Intel Core i7 4th Gen 14 Inch(3...</td>\n",
       "      <td>54,999</td>\n",
       "    </tr>\n",
       "    <tr>\n",
       "      <th>4</th>\n",
       "      <td>Lenovo Yoga 7 11th Gen Intel Core i7 14\" (35.5...</td>\n",
       "      <td>96,089</td>\n",
       "    </tr>\n",
       "    <tr>\n",
       "      <th>5</th>\n",
       "      <td>ASUS TUF Gaming F15, 15.6\" FHD 144Hz, Intel Co...</td>\n",
       "      <td>81,990</td>\n",
       "    </tr>\n",
       "    <tr>\n",
       "      <th>6</th>\n",
       "      <td>HP Pavilion x360 (2021) 14\" (35.56cms) FHD Tou...</td>\n",
       "      <td>76,990</td>\n",
       "    </tr>\n",
       "    <tr>\n",
       "      <th>7</th>\n",
       "      <td>Mi Notebook Horizon Edition 14 Intel Core i5-1...</td>\n",
       "      <td>54,999</td>\n",
       "    </tr>\n",
       "    <tr>\n",
       "      <th>8</th>\n",
       "      <td>ASUS ROG Zephyrus Duo 15, 15.6\" 4K UHD, Intel ...</td>\n",
       "      <td>2,59,990</td>\n",
       "    </tr>\n",
       "    <tr>\n",
       "      <th>9</th>\n",
       "      <td>ASUS VivoBook S S14 Intel Core i7-1165G7 11th ...</td>\n",
       "      <td>77,171</td>\n",
       "    </tr>\n",
       "  </tbody>\n",
       "</table>\n",
       "</div>"
      ],
      "text/plain": [
       "                                        Product name price tag\n",
       "0  HP Pavilion (2021) Thin & Light 11th Gen Core ...    84,990\n",
       "1  ASUS ROG Zephyrus M15 (2020), 15.6\" 4K UHD, In...  1,46,290\n",
       "2  HP Pavilion Gaming 10th Gen Intel Core i7 Proc...    86,990\n",
       "3  (Renewed) Dell Intel Core i7 4th Gen 14 Inch(3...    54,999\n",
       "4  Lenovo Yoga 7 11th Gen Intel Core i7 14\" (35.5...    96,089\n",
       "5  ASUS TUF Gaming F15, 15.6\" FHD 144Hz, Intel Co...    81,990\n",
       "6  HP Pavilion x360 (2021) 14\" (35.56cms) FHD Tou...    76,990\n",
       "7  Mi Notebook Horizon Edition 14 Intel Core i5-1...    54,999\n",
       "8  ASUS ROG Zephyrus Duo 15, 15.6\" 4K UHD, Intel ...  2,59,990\n",
       "9  ASUS VivoBook S S14 Intel Core i7-1165G7 11th ...    77,171"
      ]
     },
     "execution_count": 93,
     "metadata": {},
     "output_type": "execute_result"
    }
   ],
   "source": [
    "import pandas as pd\n",
    "product=pd.DataFrame({})\n",
    "\n",
    "product['Product name']=product_name[:10]\n",
    "product['price tag']=price_title[:10]\n",
    "\n",
    "product\n"
   ]
  },
  {
   "cell_type": "code",
   "execution_count": null,
   "metadata": {},
   "outputs": [],
   "source": []
  }
 ],
 "metadata": {
  "kernelspec": {
   "display_name": "Python 3",
   "language": "python",
   "name": "python3"
  },
  "language_info": {
   "codemirror_mode": {
    "name": "ipython",
    "version": 3
   },
   "file_extension": ".py",
   "mimetype": "text/x-python",
   "name": "python",
   "nbconvert_exporter": "python",
   "pygments_lexer": "ipython3",
   "version": "3.8.5"
  }
 },
 "nbformat": 4,
 "nbformat_minor": 4
}
