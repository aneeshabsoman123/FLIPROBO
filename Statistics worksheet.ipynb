{
 "cells": [
  {
   "cell_type": "markdown",
   "metadata": {},
   "source": [
    "1. a)True"
   ]
  },
  {
   "cell_type": "markdown",
   "metadata": {},
   "source": [
    "2. a) Central Limit Theorem"
   ]
  },
  {
   "cell_type": "markdown",
   "metadata": {},
   "source": [
    "3. b) Modeling bounded count data"
   ]
  },
  {
   "cell_type": "markdown",
   "metadata": {},
   "source": [
    "4. d) All of the mentioned"
   ]
  },
  {
   "cell_type": "markdown",
   "metadata": {},
   "source": [
    "5. c) Poisson"
   ]
  },
  {
   "cell_type": "markdown",
   "metadata": {},
   "source": [
    "6. b) False"
   ]
  },
  {
   "cell_type": "markdown",
   "metadata": {},
   "source": [
    "7. b) Hypothesis"
   ]
  },
  {
   "cell_type": "markdown",
   "metadata": {},
   "source": [
    "8. a) 0"
   ]
  },
  {
   "cell_type": "markdown",
   "metadata": {},
   "source": [
    "9. c) Outliers cannot conform to the regression relationship"
   ]
  },
  {
   "cell_type": "markdown",
   "metadata": {},
   "source": [
    "10.Normal Distribution\n",
    "\n",
    "A normal distibution is a probability curve with zero mean and standard distribution as 1. It has its 1st standard deviation within 68% and then 2nd within 98%.\n",
    "\n"
   ]
  },
  {
   "attachments": {
    "image.png": {
     "image/png": "[encoded data removed]"
    }
   },
   "cell_type": "markdown",
   "metadata": {},
   "source": [
    "![image.png](attachment:image.png)"
   ]
  },
  {
   "cell_type": "markdown",
   "metadata": {},
   "source": [
    "11.handling missing data\n",
    "\n",
    "a.pairwise deletion or listwise deletion\n",
    "\n",
    "b. Substituting the missing data - Categorical data through mode and continous data through mean\n",
    "\n",
    "c.linear interpolation\n",
    "\n",
    "d.Last observation carried forward and next observation carried forward\n",
    "\n",
    "e.Prediction models using ANOVA\n",
    "\n"
   ]
  },
  {
   "cell_type": "markdown",
   "metadata": {},
   "source": [
    "12. A/B testing is a statistical way of comparing two or more versions such as version A or version B, to determin which version performs better and to understand if the difference between two version is satistically significant.\n",
    "\n",
    "This is one of the best method of product understanding"
   ]
  },
  {
   "cell_type": "markdown",
   "metadata": {},
   "source": [
    "13.Mean imputation is an acceptable practise only for continous data, not for categorical data.\n",
    "\n",
    "This is because of various factors:\n",
    "\n",
    "1.continous datas mean can give a fractional number which is not accpetable most of the times for categorical data\n",
    "\n",
    "2.Continous data since it might have very less differences but still can be calculated to be nearly same, the mode taking method adopting here is not wise"
   ]
  },
  {
   "cell_type": "markdown",
   "metadata": {},
   "source": [
    "14.Linear regression in statistics is understanding the change in value of dependent variable with the change in independent variable. It is the next step after the correlation of data."
   ]
  },
  {
   "cell_type": "markdown",
   "metadata": {},
   "source": [
    "15.Branches of statistics are desciptive and inferential\n",
    "\n",
    "a.Descriptive statistics deals with the presentation and collection of data.\n",
    "\n",
    "b.Inferential statistics involves drawing the right conclusions from the statistical analysis that has been performed using descriptive statistics. In the end, it is the inferences that make studies important and this aspect is dealt with in inferential statistics."
   ]
  },
  {
   "cell_type": "markdown",
   "metadata": {},
   "source": [
    "16.If features in training data set have very different scale:\n",
    "\n",
    "A.Algorithms that will not suffer\n",
    "\n",
    "       a.Normal equations will work fine without scaling\n",
    "\n",
    "        b.Linear regression\n",
    "\n",
    "\n",
    "B.Algorithms that will get affected\n",
    "\n",
    "    a.K-nearest neighbour\n",
    "\n",
    "    b.K-means\n",
    "\n",
    "    c.Principal component analysis"
   ]
  },
  {
   "cell_type": "code",
   "execution_count": null,
   "metadata": {},
   "outputs": [],
   "source": []
  }
 ],
 "metadata": {
  "kernelspec": {
   "display_name": "Python 3",
   "language": "python",
   "name": "python3"
  },
  "language_info": {
   "codemirror_mode": {
    "name": "ipython",
    "version": 3
   },
   "file_extension": ".py",
   "mimetype": "text/x-python",
   "name": "python",
   "nbconvert_exporter": "python",
   "pygments_lexer": "ipython3",
   "version": "3.8.5"
  }
 },
 "nbformat": 4,
 "nbformat_minor": 4
}
