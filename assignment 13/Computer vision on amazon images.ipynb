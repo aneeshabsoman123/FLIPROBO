{
 "cells": [
  {
   "cell_type": "markdown",
   "id": "c7a8812b",
   "metadata": {},
   "source": [
    "# Loading libraries"
   ]
  },
  {
   "cell_type": "code",
   "execution_count": 1,
   "id": "8e1f3913",
   "metadata": {},
   "outputs": [],
   "source": [
    "import os\n",
    "import numpy as np\n",
    "import matplotlib.pyplot as plt\n",
    "import matplotlib.image as mpimg\n",
    "import cv2\n",
    "import pandas as pd\n",
    "\n",
    "\n",
    "from keras.layers import Activation, Dropout, Flatten, Dense\n",
    "from keras.preprocessing.image import ImageDataGenerator\n",
    "from keras.layers import Convolution2D, MaxPooling2D, ZeroPadding2D\n",
    "from keras import optimizers\n",
    "from keras.callbacks import TensorBoard, ModelCheckpoint,EarlyStopping\n",
    "\n",
    "\n",
    "from tensorflow.keras.layers import Input, Lambda, Dense, Flatten\n",
    "from tensorflow.keras.models import Model\n",
    "from tensorflow.keras.applications.vgg16 import VGG16\n",
    "from tensorflow.keras.applications.vgg19 import VGG19\n",
    "from tensorflow.keras.applications.resnet50 import ResNet50\n",
    "from tensorflow.keras.applications.inception_v3 import InceptionV3\n",
    "from tensorflow.keras.applications.inception_resnet_v2 import InceptionResNetV2\n",
    "from tensorflow.keras.applications.mobilenet import MobileNet\n",
    "\n",
    "from tensorflow.keras.preprocessing import image\n",
    "from tensorflow.keras.preprocessing.image import ImageDataGenerator,load_img\n",
    "from tensorflow.keras.models import Sequential\n",
    "from glob import glob\n",
    "#import matplotlib.pyplot \n",
    "\n",
    "from tensorflow.compat.v1 import ConfigProto\n",
    "from tensorflow.compat.v1 import InteractiveSession\n",
    "\n",
    "config = ConfigProto()\n",
    "config.gpu_options.per_process_gpu_memory_fraction = 0.5\n",
    "config.gpu_options.allow_growth = True\n",
    "session = InteractiveSession(config=config)"
   ]
  },
  {
   "cell_type": "markdown",
   "id": "7c2161fb",
   "metadata": {},
   "source": [
    "!pip install opencv-python"
   ]
  },
  {
   "cell_type": "markdown",
   "id": "21f87d3e",
   "metadata": {},
   "source": [
    "# Loading data"
   ]
  },
  {
   "cell_type": "code",
   "execution_count": 2,
   "id": "f2f9452a",
   "metadata": {},
   "outputs": [],
   "source": [
    "# re-size all the images to this\n",
    "IMAGE_SIZE = [224, 224]\n",
    "\n",
    "train_path = 'images/train_images_amazon'\n",
    "valid_path = 'images/test_images_flipkart'"
   ]
  },
  {
   "cell_type": "markdown",
   "id": "e06d8f03",
   "metadata": {},
   "source": [
    "# Building Model "
   ]
  },
  {
   "cell_type": "markdown",
   "id": "489cdfc9",
   "metadata": {},
   "source": [
    "**1.loading the models with no last layer**"
   ]
  },
  {
   "cell_type": "code",
   "execution_count": 3,
   "id": "e102ffde",
   "metadata": {},
   "outputs": [],
   "source": [
    " #Import the  library and add preprocessing layer to the front of transfer models\n",
    "# Here we will be using imagenet weights\n",
    "\n",
    "vgg16 = VGG16(input_shape=IMAGE_SIZE + [3], weights='imagenet', include_top=False)\n",
    "vgg19 = VGG19(input_shape=IMAGE_SIZE + [3], weights='imagenet', include_top=False)\n",
    "resnet = ResNet50(input_shape=IMAGE_SIZE + [3], weights='imagenet', include_top=False)\n"
   ]
  },
  {
   "cell_type": "markdown",
   "id": "f0ba8d1d",
   "metadata": {},
   "source": [
    "1. The weights used are of imagenet\n",
    "2. The include_top=False, means the last layer is getting removed"
   ]
  },
  {
   "cell_type": "code",
   "execution_count": 4,
   "id": "c230aece",
   "metadata": {},
   "outputs": [],
   "source": [
    "# don't train existing layers- weights will change otherwise\n",
    "for layer in vgg16.layers:\n",
    "    layer.trainable = False\n",
    "    \n",
    "for layer in vgg19.layers:\n",
    "    layer.trainable = False\n",
    "    \n",
    "for layer in resnet.layers:\n",
    "    layer.trainable = False\n",
    "\n",
    "\n",
    "    "
   ]
  },
  {
   "cell_type": "markdown",
   "id": "de7ebc0f",
   "metadata": {},
   "source": [
    "**2.Flattening the output**"
   ]
  },
  {
   "cell_type": "code",
   "execution_count": 33,
   "id": "15db93a9",
   "metadata": {},
   "outputs": [],
   "source": [
    "# our layers - you can add more if you want\n",
    "x1 = Flatten()(vgg16.output)\n",
    "\n",
    "x2 = Flatten()(vgg19.output)\n",
    "\n",
    "x3 = Flatten()(resnet.output)\n",
    "\n",
    "\n",
    "\n"
   ]
  },
  {
   "cell_type": "markdown",
   "id": "30702cb5",
   "metadata": {},
   "source": [
    "**3.Checking our folder**"
   ]
  },
  {
   "cell_type": "code",
   "execution_count": 6,
   "id": "ade22255",
   "metadata": {},
   "outputs": [
    {
     "data": {
      "text/plain": [
       "['images/train_images_amazon\\\\Jeans',\n",
       " 'images/train_images_amazon\\\\sarees',\n",
       " 'images/train_images_amazon\\\\Trousers']"
      ]
     },
     "execution_count": 6,
     "metadata": {},
     "output_type": "execute_result"
    }
   ],
   "source": [
    "# useful for getting number of output classes\n",
    "folders = glob('images/train_images_amazon/*')\n",
    "folders"
   ]
  },
  {
   "cell_type": "code",
   "execution_count": 7,
   "id": "a6541821",
   "metadata": {},
   "outputs": [
    {
     "data": {
      "text/plain": [
       "3"
      ]
     },
     "execution_count": 7,
     "metadata": {},
     "output_type": "execute_result"
    }
   ],
   "source": [
    "len(folders)"
   ]
  },
  {
   "cell_type": "markdown",
   "id": "ec63e647",
   "metadata": {},
   "source": [
    "**4.Appending folders as Dense Layer with activation function softmax**"
   ]
  },
  {
   "cell_type": "markdown",
   "id": "74d99039",
   "metadata": {},
   "source": [
    "The folders will get appended as last layer with the flattened x"
   ]
  },
  {
   "cell_type": "code",
   "execution_count": 8,
   "id": "18c66709",
   "metadata": {},
   "outputs": [],
   "source": [
    "prediction1 = Dense(len(folders), activation='softmax')(x1)\n",
    "\n",
    "prediction2 = Dense(len(folders), activation='softmax')(x2)\n",
    "\n",
    "prediction3 = Dense(len(folders), activation='softmax')(x3)\n",
    "\n"
   ]
  },
  {
   "cell_type": "code",
   "execution_count": 9,
   "id": "cacabe26",
   "metadata": {},
   "outputs": [
    {
     "name": "stdout",
     "output_type": "stream",
     "text": [
      "KerasTensor(type_spec=TensorSpec(shape=(None, 3), dtype=tf.float32, name=None), name='dense/Softmax:0', description=\"created by layer 'dense'\")\n",
      "KerasTensor(type_spec=TensorSpec(shape=(None, 3), dtype=tf.float32, name=None), name='dense_1/Softmax:0', description=\"created by layer 'dense_1'\")\n",
      "KerasTensor(type_spec=TensorSpec(shape=(None, 3), dtype=tf.float32, name=None), name='dense_2/Softmax:0', description=\"created by layer 'dense_2'\")\n"
     ]
    }
   ],
   "source": [
    "print(prediction1)\n",
    "print(prediction2)\n",
    "print(prediction3)\n"
   ]
  },
  {
   "cell_type": "markdown",
   "id": "96319265",
   "metadata": {},
   "source": [
    "**5.Creating final model**"
   ]
  },
  {
   "cell_type": "code",
   "execution_count": 10,
   "id": "20d1729d",
   "metadata": {},
   "outputs": [],
   "source": [
    "# create a model object\n",
    "model1 = Model(inputs=vgg16.input, outputs=prediction1)\n",
    "\n",
    "model2 = Model(inputs=vgg19.input, outputs=prediction2)\n",
    "\n",
    "model3 = Model(inputs=resnet.input, outputs=prediction3)\n"
   ]
  },
  {
   "cell_type": "code",
   "execution_count": 11,
   "id": "160bef2b",
   "metadata": {},
   "outputs": [
    {
     "name": "stdout",
     "output_type": "stream",
     "text": [
      "--------model vgg16----------------------------------------------------------\n",
      "Model: \"model\"\n",
      "_________________________________________________________________\n",
      " Layer (type)                Output Shape              Param #   \n",
      "=================================================================\n",
      " input_1 (InputLayer)        [(None, 224, 224, 3)]     0         \n",
      "                                                                 \n",
      " block1_conv1 (Conv2D)       (None, 224, 224, 64)      1792      \n",
      "                                                                 \n",
      " block1_conv2 (Conv2D)       (None, 224, 224, 64)      36928     \n",
      "                                                                 \n",
      " block1_pool (MaxPooling2D)  (None, 112, 112, 64)      0         \n",
      "                                                                 \n",
      " block2_conv1 (Conv2D)       (None, 112, 112, 128)     73856     \n",
      "                                                                 \n",
      " block2_conv2 (Conv2D)       (None, 112, 112, 128)     147584    \n",
      "                                                                 \n",
      " block2_pool (MaxPooling2D)  (None, 56, 56, 128)       0         \n",
      "                                                                 \n",
      " block3_conv1 (Conv2D)       (None, 56, 56, 256)       295168    \n",
      "                                                                 \n",
      " block3_conv2 (Conv2D)       (None, 56, 56, 256)       590080    \n",
      "                                                                 \n",
      " block3_conv3 (Conv2D)       (None, 56, 56, 256)       590080    \n",
      "                                                                 \n",
      " block3_pool (MaxPooling2D)  (None, 28, 28, 256)       0         \n",
      "                                                                 \n",
      " block4_conv1 (Conv2D)       (None, 28, 28, 512)       1180160   \n",
      "                                                                 \n",
      " block4_conv2 (Conv2D)       (None, 28, 28, 512)       2359808   \n",
      "                                                                 \n",
      " block4_conv3 (Conv2D)       (None, 28, 28, 512)       2359808   \n",
      "                                                                 \n",
      " block4_pool (MaxPooling2D)  (None, 14, 14, 512)       0         \n",
      "                                                                 \n",
      " block5_conv1 (Conv2D)       (None, 14, 14, 512)       2359808   \n",
      "                                                                 \n",
      " block5_conv2 (Conv2D)       (None, 14, 14, 512)       2359808   \n",
      "                                                                 \n",
      " block5_conv3 (Conv2D)       (None, 14, 14, 512)       2359808   \n",
      "                                                                 \n",
      " block5_pool (MaxPooling2D)  (None, 7, 7, 512)         0         \n",
      "                                                                 \n",
      " flatten (Flatten)           (None, 25088)             0         \n",
      "                                                                 \n",
      " dense (Dense)               (None, 3)                 75267     \n",
      "                                                                 \n",
      "=================================================================\n",
      "Total params: 14,789,955\n",
      "Trainable params: 75,267\n",
      "Non-trainable params: 14,714,688\n",
      "_________________________________________________________________\n",
      "None\n",
      "--------model vgg19----------------------------------------------------------\n",
      "Model: \"model_1\"\n",
      "_________________________________________________________________\n",
      " Layer (type)                Output Shape              Param #   \n",
      "=================================================================\n",
      " input_2 (InputLayer)        [(None, 224, 224, 3)]     0         \n",
      "                                                                 \n",
      " block1_conv1 (Conv2D)       (None, 224, 224, 64)      1792      \n",
      "                                                                 \n",
      " block1_conv2 (Conv2D)       (None, 224, 224, 64)      36928     \n",
      "                                                                 \n",
      " block1_pool (MaxPooling2D)  (None, 112, 112, 64)      0         \n",
      "                                                                 \n",
      " block2_conv1 (Conv2D)       (None, 112, 112, 128)     73856     \n",
      "                                                                 \n",
      " block2_conv2 (Conv2D)       (None, 112, 112, 128)     147584    \n",
      "                                                                 \n",
      " block2_pool (MaxPooling2D)  (None, 56, 56, 128)       0         \n",
      "                                                                 \n",
      " block3_conv1 (Conv2D)       (None, 56, 56, 256)       295168    \n",
      "                                                                 \n",
      " block3_conv2 (Conv2D)       (None, 56, 56, 256)       590080    \n",
      "                                                                 \n",
      " block3_conv3 (Conv2D)       (None, 56, 56, 256)       590080    \n",
      "                                                                 \n",
      " block3_conv4 (Conv2D)       (None, 56, 56, 256)       590080    \n",
      "                                                                 \n",
      " block3_pool (MaxPooling2D)  (None, 28, 28, 256)       0         \n",
      "                                                                 \n",
      " block4_conv1 (Conv2D)       (None, 28, 28, 512)       1180160   \n",
      "                                                                 \n",
      " block4_conv2 (Conv2D)       (None, 28, 28, 512)       2359808   \n",
      "                                                                 \n",
      " block4_conv3 (Conv2D)       (None, 28, 28, 512)       2359808   \n",
      "                                                                 \n",
      " block4_conv4 (Conv2D)       (None, 28, 28, 512)       2359808   \n",
      "                                                                 \n",
      " block4_pool (MaxPooling2D)  (None, 14, 14, 512)       0         \n",
      "                                                                 \n",
      " block5_conv1 (Conv2D)       (None, 14, 14, 512)       2359808   \n",
      "                                                                 \n",
      " block5_conv2 (Conv2D)       (None, 14, 14, 512)       2359808   \n",
      "                                                                 \n",
      " block5_conv3 (Conv2D)       (None, 14, 14, 512)       2359808   \n",
      "                                                                 \n",
      " block5_conv4 (Conv2D)       (None, 14, 14, 512)       2359808   \n",
      "                                                                 \n",
      " block5_pool (MaxPooling2D)  (None, 7, 7, 512)         0         \n",
      "                                                                 \n",
      " flatten_1 (Flatten)         (None, 25088)             0         \n",
      "                                                                 \n",
      " dense_1 (Dense)             (None, 3)                 75267     \n",
      "                                                                 \n",
      "=================================================================\n",
      "Total params: 20,099,651\n",
      "Trainable params: 75,267\n",
      "Non-trainable params: 20,024,384\n",
      "_________________________________________________________________\n",
      "None\n",
      "--------model resnet---------------------------------------------------------\n",
      "Model: \"model_2\"\n",
      "__________________________________________________________________________________________________\n",
      " Layer (type)                   Output Shape         Param #     Connected to                     \n",
      "==================================================================================================\n",
      " input_3 (InputLayer)           [(None, 224, 224, 3  0           []                               \n",
      "                                )]                                                                \n",
      "                                                                                                  \n",
      " conv1_pad (ZeroPadding2D)      (None, 230, 230, 3)  0           ['input_3[0][0]']                \n",
      "                                                                                                  \n",
      " conv1_conv (Conv2D)            (None, 112, 112, 64  9472        ['conv1_pad[0][0]']              \n",
      "                                )                                                                 \n",
      "                                                                                                  \n",
      " conv1_bn (BatchNormalization)  (None, 112, 112, 64  256         ['conv1_conv[0][0]']             \n",
      "                                )                                                                 \n",
      "                                                                                                  \n",
      " conv1_relu (Activation)        (None, 112, 112, 64  0           ['conv1_bn[0][0]']               \n",
      "                                )                                                                 \n",
      "                                                                                                  \n",
      " pool1_pad (ZeroPadding2D)      (None, 114, 114, 64  0           ['conv1_relu[0][0]']             \n",
      "                                )                                                                 \n",
      "                                                                                                  \n",
      " pool1_pool (MaxPooling2D)      (None, 56, 56, 64)   0           ['pool1_pad[0][0]']              \n",
      "                                                                                                  \n",
      " conv2_block1_1_conv (Conv2D)   (None, 56, 56, 64)   4160        ['pool1_pool[0][0]']             \n",
      "                                                                                                  \n",
      " conv2_block1_1_bn (BatchNormal  (None, 56, 56, 64)  256         ['conv2_block1_1_conv[0][0]']    \n",
      " ization)                                                                                         \n",
      "                                                                                                  \n",
      " conv2_block1_1_relu (Activatio  (None, 56, 56, 64)  0           ['conv2_block1_1_bn[0][0]']      \n",
      " n)                                                                                               \n",
      "                                                                                                  \n",
      " conv2_block1_2_conv (Conv2D)   (None, 56, 56, 64)   36928       ['conv2_block1_1_relu[0][0]']    \n",
      "                                                                                                  \n",
      " conv2_block1_2_bn (BatchNormal  (None, 56, 56, 64)  256         ['conv2_block1_2_conv[0][0]']    \n",
      " ization)                                                                                         \n",
      "                                                                                                  \n",
      " conv2_block1_2_relu (Activatio  (None, 56, 56, 64)  0           ['conv2_block1_2_bn[0][0]']      \n",
      " n)                                                                                               \n",
      "                                                                                                  \n",
      " conv2_block1_0_conv (Conv2D)   (None, 56, 56, 256)  16640       ['pool1_pool[0][0]']             \n",
      "                                                                                                  \n",
      " conv2_block1_3_conv (Conv2D)   (None, 56, 56, 256)  16640       ['conv2_block1_2_relu[0][0]']    \n",
      "                                                                                                  \n",
      " conv2_block1_0_bn (BatchNormal  (None, 56, 56, 256)  1024       ['conv2_block1_0_conv[0][0]']    \n",
      " ization)                                                                                         \n",
      "                                                                                                  \n",
      " conv2_block1_3_bn (BatchNormal  (None, 56, 56, 256)  1024       ['conv2_block1_3_conv[0][0]']    \n",
      " ization)                                                                                         \n",
      "                                                                                                  \n",
      " conv2_block1_add (Add)         (None, 56, 56, 256)  0           ['conv2_block1_0_bn[0][0]',      \n",
      "                                                                  'conv2_block1_3_bn[0][0]']      \n",
      "                                                                                                  \n",
      " conv2_block1_out (Activation)  (None, 56, 56, 256)  0           ['conv2_block1_add[0][0]']       \n",
      "                                                                                                  \n",
      " conv2_block2_1_conv (Conv2D)   (None, 56, 56, 64)   16448       ['conv2_block1_out[0][0]']       \n",
      "                                                                                                  \n",
      " conv2_block2_1_bn (BatchNormal  (None, 56, 56, 64)  256         ['conv2_block2_1_conv[0][0]']    \n",
      " ization)                                                                                         \n",
      "                                                                                                  \n",
      " conv2_block2_1_relu (Activatio  (None, 56, 56, 64)  0           ['conv2_block2_1_bn[0][0]']      \n",
      " n)                                                                                               \n",
      "                                                                                                  \n",
      " conv2_block2_2_conv (Conv2D)   (None, 56, 56, 64)   36928       ['conv2_block2_1_relu[0][0]']    \n",
      "                                                                                                  \n",
      " conv2_block2_2_bn (BatchNormal  (None, 56, 56, 64)  256         ['conv2_block2_2_conv[0][0]']    \n",
      " ization)                                                                                         \n",
      "                                                                                                  \n",
      " conv2_block2_2_relu (Activatio  (None, 56, 56, 64)  0           ['conv2_block2_2_bn[0][0]']      \n",
      " n)                                                                                               \n",
      "                                                                                                  \n",
      " conv2_block2_3_conv (Conv2D)   (None, 56, 56, 256)  16640       ['conv2_block2_2_relu[0][0]']    \n",
      "                                                                                                  \n",
      " conv2_block2_3_bn (BatchNormal  (None, 56, 56, 256)  1024       ['conv2_block2_3_conv[0][0]']    \n",
      " ization)                                                                                         \n",
      "                                                                                                  \n",
      " conv2_block2_add (Add)         (None, 56, 56, 256)  0           ['conv2_block1_out[0][0]',       \n",
      "                                                                  'conv2_block2_3_bn[0][0]']      \n",
      "                                                                                                  \n",
      " conv2_block2_out (Activation)  (None, 56, 56, 256)  0           ['conv2_block2_add[0][0]']       \n",
      "                                                                                                  \n",
      " conv2_block3_1_conv (Conv2D)   (None, 56, 56, 64)   16448       ['conv2_block2_out[0][0]']       \n",
      "                                                                                                  \n",
      " conv2_block3_1_bn (BatchNormal  (None, 56, 56, 64)  256         ['conv2_block3_1_conv[0][0]']    \n",
      " ization)                                                                                         \n",
      "                                                                                                  \n",
      " conv2_block3_1_relu (Activatio  (None, 56, 56, 64)  0           ['conv2_block3_1_bn[0][0]']      \n",
      " n)                                                                                               \n",
      "                                                                                                  \n",
      " conv2_block3_2_conv (Conv2D)   (None, 56, 56, 64)   36928       ['conv2_block3_1_relu[0][0]']    \n",
      "                                                                                                  \n",
      " conv2_block3_2_bn (BatchNormal  (None, 56, 56, 64)  256         ['conv2_block3_2_conv[0][0]']    \n",
      " ization)                                                                                         \n",
      "                                                                                                  \n",
      " conv2_block3_2_relu (Activatio  (None, 56, 56, 64)  0           ['conv2_block3_2_bn[0][0]']      \n",
      " n)                                                                                               \n",
      "                                                                                                  \n",
      " conv2_block3_3_conv (Conv2D)   (None, 56, 56, 256)  16640       ['conv2_block3_2_relu[0][0]']    \n",
      "                                                                                                  \n",
      " conv2_block3_3_bn (BatchNormal  (None, 56, 56, 256)  1024       ['conv2_block3_3_conv[0][0]']    \n",
      " ization)                                                                                         \n",
      "                                                                                                  \n",
      " conv2_block3_add (Add)         (None, 56, 56, 256)  0           ['conv2_block2_out[0][0]',       \n",
      "                                                                  'conv2_block3_3_bn[0][0]']      \n",
      "                                                                                                  \n",
      " conv2_block3_out (Activation)  (None, 56, 56, 256)  0           ['conv2_block3_add[0][0]']       \n",
      "                                                                                                  \n",
      " conv3_block1_1_conv (Conv2D)   (None, 28, 28, 128)  32896       ['conv2_block3_out[0][0]']       \n",
      "                                                                                                  \n",
      " conv3_block1_1_bn (BatchNormal  (None, 28, 28, 128)  512        ['conv3_block1_1_conv[0][0]']    \n",
      " ization)                                                                                         \n",
      "                                                                                                  \n",
      " conv3_block1_1_relu (Activatio  (None, 28, 28, 128)  0          ['conv3_block1_1_bn[0][0]']      \n",
      " n)                                                                                               \n",
      "                                                                                                  \n",
      " conv3_block1_2_conv (Conv2D)   (None, 28, 28, 128)  147584      ['conv3_block1_1_relu[0][0]']    \n",
      "                                                                                                  \n",
      " conv3_block1_2_bn (BatchNormal  (None, 28, 28, 128)  512        ['conv3_block1_2_conv[0][0]']    \n",
      " ization)                                                                                         \n",
      "                                                                                                  \n",
      " conv3_block1_2_relu (Activatio  (None, 28, 28, 128)  0          ['conv3_block1_2_bn[0][0]']      \n",
      " n)                                                                                               \n",
      "                                                                                                  \n",
      " conv3_block1_0_conv (Conv2D)   (None, 28, 28, 512)  131584      ['conv2_block3_out[0][0]']       \n",
      "                                                                                                  \n",
      " conv3_block1_3_conv (Conv2D)   (None, 28, 28, 512)  66048       ['conv3_block1_2_relu[0][0]']    \n",
      "                                                                                                  \n",
      " conv3_block1_0_bn (BatchNormal  (None, 28, 28, 512)  2048       ['conv3_block1_0_conv[0][0]']    \n",
      " ization)                                                                                         \n",
      "                                                                                                  \n",
      " conv3_block1_3_bn (BatchNormal  (None, 28, 28, 512)  2048       ['conv3_block1_3_conv[0][0]']    \n",
      " ization)                                                                                         \n",
      "                                                                                                  \n",
      " conv3_block1_add (Add)         (None, 28, 28, 512)  0           ['conv3_block1_0_bn[0][0]',      \n",
      "                                                                  'conv3_block1_3_bn[0][0]']      \n",
      "                                                                                                  \n",
      " conv3_block1_out (Activation)  (None, 28, 28, 512)  0           ['conv3_block1_add[0][0]']       \n",
      "                                                                                                  \n",
      " conv3_block2_1_conv (Conv2D)   (None, 28, 28, 128)  65664       ['conv3_block1_out[0][0]']       \n",
      "                                                                                                  \n",
      " conv3_block2_1_bn (BatchNormal  (None, 28, 28, 128)  512        ['conv3_block2_1_conv[0][0]']    \n",
      " ization)                                                                                         \n",
      "                                                                                                  \n",
      " conv3_block2_1_relu (Activatio  (None, 28, 28, 128)  0          ['conv3_block2_1_bn[0][0]']      \n",
      " n)                                                                                               \n",
      "                                                                                                  \n",
      " conv3_block2_2_conv (Conv2D)   (None, 28, 28, 128)  147584      ['conv3_block2_1_relu[0][0]']    \n",
      "                                                                                                  \n",
      " conv3_block2_2_bn (BatchNormal  (None, 28, 28, 128)  512        ['conv3_block2_2_conv[0][0]']    \n",
      " ization)                                                                                         \n",
      "                                                                                                  \n",
      " conv3_block2_2_relu (Activatio  (None, 28, 28, 128)  0          ['conv3_block2_2_bn[0][0]']      \n",
      " n)                                                                                               \n",
      "                                                                                                  \n",
      " conv3_block2_3_conv (Conv2D)   (None, 28, 28, 512)  66048       ['conv3_block2_2_relu[0][0]']    \n",
      "                                                                                                  \n",
      " conv3_block2_3_bn (BatchNormal  (None, 28, 28, 512)  2048       ['conv3_block2_3_conv[0][0]']    \n",
      " ization)                                                                                         \n",
      "                                                                                                  \n",
      " conv3_block2_add (Add)         (None, 28, 28, 512)  0           ['conv3_block1_out[0][0]',       \n",
      "                                                                  'conv3_block2_3_bn[0][0]']      \n",
      "                                                                                                  \n",
      " conv3_block2_out (Activation)  (None, 28, 28, 512)  0           ['conv3_block2_add[0][0]']       \n",
      "                                                                                                  \n",
      " conv3_block3_1_conv (Conv2D)   (None, 28, 28, 128)  65664       ['conv3_block2_out[0][0]']       \n",
      "                                                                                                  \n",
      " conv3_block3_1_bn (BatchNormal  (None, 28, 28, 128)  512        ['conv3_block3_1_conv[0][0]']    \n",
      " ization)                                                                                         \n",
      "                                                                                                  \n",
      " conv3_block3_1_relu (Activatio  (None, 28, 28, 128)  0          ['conv3_block3_1_bn[0][0]']      \n",
      " n)                                                                                               \n",
      "                                                                                                  \n",
      " conv3_block3_2_conv (Conv2D)   (None, 28, 28, 128)  147584      ['conv3_block3_1_relu[0][0]']    \n",
      "                                                                                                  \n",
      " conv3_block3_2_bn (BatchNormal  (None, 28, 28, 128)  512        ['conv3_block3_2_conv[0][0]']    \n",
      " ization)                                                                                         \n",
      "                                                                                                  \n",
      " conv3_block3_2_relu (Activatio  (None, 28, 28, 128)  0          ['conv3_block3_2_bn[0][0]']      \n",
      " n)                                                                                               \n",
      "                                                                                                  \n",
      " conv3_block3_3_conv (Conv2D)   (None, 28, 28, 512)  66048       ['conv3_block3_2_relu[0][0]']    \n",
      "                                                                                                  \n",
      " conv3_block3_3_bn (BatchNormal  (None, 28, 28, 512)  2048       ['conv3_block3_3_conv[0][0]']    \n",
      " ization)                                                                                         \n",
      "                                                                                                  \n",
      " conv3_block3_add (Add)         (None, 28, 28, 512)  0           ['conv3_block2_out[0][0]',       \n",
      "                                                                  'conv3_block3_3_bn[0][0]']      \n",
      "                                                                                                  \n",
      " conv3_block3_out (Activation)  (None, 28, 28, 512)  0           ['conv3_block3_add[0][0]']       \n",
      "                                                                                                  \n",
      " conv3_block4_1_conv (Conv2D)   (None, 28, 28, 128)  65664       ['conv3_block3_out[0][0]']       \n",
      "                                                                                                  \n",
      " conv3_block4_1_bn (BatchNormal  (None, 28, 28, 128)  512        ['conv3_block4_1_conv[0][0]']    \n",
      " ization)                                                                                         \n",
      "                                                                                                  \n",
      " conv3_block4_1_relu (Activatio  (None, 28, 28, 128)  0          ['conv3_block4_1_bn[0][0]']      \n",
      " n)                                                                                               \n",
      "                                                                                                  \n",
      " conv3_block4_2_conv (Conv2D)   (None, 28, 28, 128)  147584      ['conv3_block4_1_relu[0][0]']    \n",
      "                                                                                                  \n",
      " conv3_block4_2_bn (BatchNormal  (None, 28, 28, 128)  512        ['conv3_block4_2_conv[0][0]']    \n",
      " ization)                                                                                         \n",
      "                                                                                                  \n",
      " conv3_block4_2_relu (Activatio  (None, 28, 28, 128)  0          ['conv3_block4_2_bn[0][0]']      \n",
      " n)                                                                                               \n",
      "                                                                                                  \n",
      " conv3_block4_3_conv (Conv2D)   (None, 28, 28, 512)  66048       ['conv3_block4_2_relu[0][0]']    \n",
      "                                                                                                  \n",
      " conv3_block4_3_bn (BatchNormal  (None, 28, 28, 512)  2048       ['conv3_block4_3_conv[0][0]']    \n",
      " ization)                                                                                         \n",
      "                                                                                                  \n",
      " conv3_block4_add (Add)         (None, 28, 28, 512)  0           ['conv3_block3_out[0][0]',       \n",
      "                                                                  'conv3_block4_3_bn[0][0]']      \n",
      "                                                                                                  \n",
      " conv3_block4_out (Activation)  (None, 28, 28, 512)  0           ['conv3_block4_add[0][0]']       \n",
      "                                                                                                  \n",
      " conv4_block1_1_conv (Conv2D)   (None, 14, 14, 256)  131328      ['conv3_block4_out[0][0]']       \n",
      "                                                                                                  \n",
      " conv4_block1_1_bn (BatchNormal  (None, 14, 14, 256)  1024       ['conv4_block1_1_conv[0][0]']    \n",
      " ization)                                                                                         \n",
      "                                                                                                  \n",
      " conv4_block1_1_relu (Activatio  (None, 14, 14, 256)  0          ['conv4_block1_1_bn[0][0]']      \n",
      " n)                                                                                               \n",
      "                                                                                                  \n",
      " conv4_block1_2_conv (Conv2D)   (None, 14, 14, 256)  590080      ['conv4_block1_1_relu[0][0]']    \n",
      "                                                                                                  \n",
      " conv4_block1_2_bn (BatchNormal  (None, 14, 14, 256)  1024       ['conv4_block1_2_conv[0][0]']    \n",
      " ization)                                                                                         \n",
      "                                                                                                  \n",
      " conv4_block1_2_relu (Activatio  (None, 14, 14, 256)  0          ['conv4_block1_2_bn[0][0]']      \n",
      " n)                                                                                               \n",
      "                                                                                                  \n",
      " conv4_block1_0_conv (Conv2D)   (None, 14, 14, 1024  525312      ['conv3_block4_out[0][0]']       \n",
      "                                )                                                                 \n",
      "                                                                                                  \n",
      " conv4_block1_3_conv (Conv2D)   (None, 14, 14, 1024  263168      ['conv4_block1_2_relu[0][0]']    \n",
      "                                )                                                                 \n",
      "                                                                                                  \n",
      " conv4_block1_0_bn (BatchNormal  (None, 14, 14, 1024  4096       ['conv4_block1_0_conv[0][0]']    \n",
      " ization)                       )                                                                 \n",
      "                                                                                                  \n",
      " conv4_block1_3_bn (BatchNormal  (None, 14, 14, 1024  4096       ['conv4_block1_3_conv[0][0]']    \n",
      " ization)                       )                                                                 \n",
      "                                                                                                  \n",
      " conv4_block1_add (Add)         (None, 14, 14, 1024  0           ['conv4_block1_0_bn[0][0]',      \n",
      "                                )                                 'conv4_block1_3_bn[0][0]']      \n",
      "                                                                                                  \n",
      " conv4_block1_out (Activation)  (None, 14, 14, 1024  0           ['conv4_block1_add[0][0]']       \n",
      "                                )                                                                 \n",
      "                                                                                                  \n",
      " conv4_block2_1_conv (Conv2D)   (None, 14, 14, 256)  262400      ['conv4_block1_out[0][0]']       \n",
      "                                                                                                  \n",
      " conv4_block2_1_bn (BatchNormal  (None, 14, 14, 256)  1024       ['conv4_block2_1_conv[0][0]']    \n",
      " ization)                                                                                         \n",
      "                                                                                                  \n",
      " conv4_block2_1_relu (Activatio  (None, 14, 14, 256)  0          ['conv4_block2_1_bn[0][0]']      \n",
      " n)                                                                                               \n",
      "                                                                                                  \n",
      " conv4_block2_2_conv (Conv2D)   (None, 14, 14, 256)  590080      ['conv4_block2_1_relu[0][0]']    \n",
      "                                                                                                  \n",
      " conv4_block2_2_bn (BatchNormal  (None, 14, 14, 256)  1024       ['conv4_block2_2_conv[0][0]']    \n",
      " ization)                                                                                         \n",
      "                                                                                                  \n",
      " conv4_block2_2_relu (Activatio  (None, 14, 14, 256)  0          ['conv4_block2_2_bn[0][0]']      \n",
      " n)                                                                                               \n",
      "                                                                                                  \n",
      " conv4_block2_3_conv (Conv2D)   (None, 14, 14, 1024  263168      ['conv4_block2_2_relu[0][0]']    \n",
      "                                )                                                                 \n",
      "                                                                                                  \n",
      " conv4_block2_3_bn (BatchNormal  (None, 14, 14, 1024  4096       ['conv4_block2_3_conv[0][0]']    \n",
      " ization)                       )                                                                 \n",
      "                                                                                                  \n",
      " conv4_block2_add (Add)         (None, 14, 14, 1024  0           ['conv4_block1_out[0][0]',       \n",
      "                                )                                 'conv4_block2_3_bn[0][0]']      \n",
      "                                                                                                  \n",
      " conv4_block2_out (Activation)  (None, 14, 14, 1024  0           ['conv4_block2_add[0][0]']       \n",
      "                                )                                                                 \n",
      "                                                                                                  \n",
      " conv4_block3_1_conv (Conv2D)   (None, 14, 14, 256)  262400      ['conv4_block2_out[0][0]']       \n",
      "                                                                                                  \n",
      " conv4_block3_1_bn (BatchNormal  (None, 14, 14, 256)  1024       ['conv4_block3_1_conv[0][0]']    \n",
      " ization)                                                                                         \n",
      "                                                                                                  \n",
      " conv4_block3_1_relu (Activatio  (None, 14, 14, 256)  0          ['conv4_block3_1_bn[0][0]']      \n",
      " n)                                                                                               \n",
      "                                                                                                  \n",
      " conv4_block3_2_conv (Conv2D)   (None, 14, 14, 256)  590080      ['conv4_block3_1_relu[0][0]']    \n",
      "                                                                                                  \n",
      " conv4_block3_2_bn (BatchNormal  (None, 14, 14, 256)  1024       ['conv4_block3_2_conv[0][0]']    \n",
      " ization)                                                                                         \n",
      "                                                                                                  \n",
      " conv4_block3_2_relu (Activatio  (None, 14, 14, 256)  0          ['conv4_block3_2_bn[0][0]']      \n",
      " n)                                                                                               \n",
      "                                                                                                  \n",
      " conv4_block3_3_conv (Conv2D)   (None, 14, 14, 1024  263168      ['conv4_block3_2_relu[0][0]']    \n",
      "                                )                                                                 \n",
      "                                                                                                  \n",
      " conv4_block3_3_bn (BatchNormal  (None, 14, 14, 1024  4096       ['conv4_block3_3_conv[0][0]']    \n",
      " ization)                       )                                                                 \n",
      "                                                                                                  \n",
      " conv4_block3_add (Add)         (None, 14, 14, 1024  0           ['conv4_block2_out[0][0]',       \n",
      "                                )                                 'conv4_block3_3_bn[0][0]']      \n",
      "                                                                                                  \n",
      " conv4_block3_out (Activation)  (None, 14, 14, 1024  0           ['conv4_block3_add[0][0]']       \n",
      "                                )                                                                 \n",
      "                                                                                                  \n",
      " conv4_block4_1_conv (Conv2D)   (None, 14, 14, 256)  262400      ['conv4_block3_out[0][0]']       \n",
      "                                                                                                  \n",
      " conv4_block4_1_bn (BatchNormal  (None, 14, 14, 256)  1024       ['conv4_block4_1_conv[0][0]']    \n",
      " ization)                                                                                         \n",
      "                                                                                                  \n",
      " conv4_block4_1_relu (Activatio  (None, 14, 14, 256)  0          ['conv4_block4_1_bn[0][0]']      \n",
      " n)                                                                                               \n",
      "                                                                                                  \n",
      " conv4_block4_2_conv (Conv2D)   (None, 14, 14, 256)  590080      ['conv4_block4_1_relu[0][0]']    \n",
      "                                                                                                  \n",
      " conv4_block4_2_bn (BatchNormal  (None, 14, 14, 256)  1024       ['conv4_block4_2_conv[0][0]']    \n",
      " ization)                                                                                         \n",
      "                                                                                                  \n",
      " conv4_block4_2_relu (Activatio  (None, 14, 14, 256)  0          ['conv4_block4_2_bn[0][0]']      \n",
      " n)                                                                                               \n",
      "                                                                                                  \n",
      " conv4_block4_3_conv (Conv2D)   (None, 14, 14, 1024  263168      ['conv4_block4_2_relu[0][0]']    \n",
      "                                )                                                                 \n",
      "                                                                                                  \n",
      " conv4_block4_3_bn (BatchNormal  (None, 14, 14, 1024  4096       ['conv4_block4_3_conv[0][0]']    \n",
      " ization)                       )                                                                 \n",
      "                                                                                                  \n",
      " conv4_block4_add (Add)         (None, 14, 14, 1024  0           ['conv4_block3_out[0][0]',       \n",
      "                                )                                 'conv4_block4_3_bn[0][0]']      \n",
      "                                                                                                  \n",
      " conv4_block4_out (Activation)  (None, 14, 14, 1024  0           ['conv4_block4_add[0][0]']       \n",
      "                                )                                                                 \n",
      "                                                                                                  \n",
      " conv4_block5_1_conv (Conv2D)   (None, 14, 14, 256)  262400      ['conv4_block4_out[0][0]']       \n",
      "                                                                                                  \n",
      " conv4_block5_1_bn (BatchNormal  (None, 14, 14, 256)  1024       ['conv4_block5_1_conv[0][0]']    \n",
      " ization)                                                                                         \n",
      "                                                                                                  \n",
      " conv4_block5_1_relu (Activatio  (None, 14, 14, 256)  0          ['conv4_block5_1_bn[0][0]']      \n",
      " n)                                                                                               \n",
      "                                                                                                  \n",
      " conv4_block5_2_conv (Conv2D)   (None, 14, 14, 256)  590080      ['conv4_block5_1_relu[0][0]']    \n",
      "                                                                                                  \n",
      " conv4_block5_2_bn (BatchNormal  (None, 14, 14, 256)  1024       ['conv4_block5_2_conv[0][0]']    \n",
      " ization)                                                                                         \n",
      "                                                                                                  \n",
      " conv4_block5_2_relu (Activatio  (None, 14, 14, 256)  0          ['conv4_block5_2_bn[0][0]']      \n",
      " n)                                                                                               \n",
      "                                                                                                  \n",
      " conv4_block5_3_conv (Conv2D)   (None, 14, 14, 1024  263168      ['conv4_block5_2_relu[0][0]']    \n",
      "                                )                                                                 \n",
      "                                                                                                  \n",
      " conv4_block5_3_bn (BatchNormal  (None, 14, 14, 1024  4096       ['conv4_block5_3_conv[0][0]']    \n",
      " ization)                       )                                                                 \n",
      "                                                                                                  \n",
      " conv4_block5_add (Add)         (None, 14, 14, 1024  0           ['conv4_block4_out[0][0]',       \n",
      "                                )                                 'conv4_block5_3_bn[0][0]']      \n",
      "                                                                                                  \n",
      " conv4_block5_out (Activation)  (None, 14, 14, 1024  0           ['conv4_block5_add[0][0]']       \n",
      "                                )                                                                 \n",
      "                                                                                                  \n",
      " conv4_block6_1_conv (Conv2D)   (None, 14, 14, 256)  262400      ['conv4_block5_out[0][0]']       \n",
      "                                                                                                  \n",
      " conv4_block6_1_bn (BatchNormal  (None, 14, 14, 256)  1024       ['conv4_block6_1_conv[0][0]']    \n",
      " ization)                                                                                         \n",
      "                                                                                                  \n",
      " conv4_block6_1_relu (Activatio  (None, 14, 14, 256)  0          ['conv4_block6_1_bn[0][0]']      \n",
      " n)                                                                                               \n",
      "                                                                                                  \n",
      " conv4_block6_2_conv (Conv2D)   (None, 14, 14, 256)  590080      ['conv4_block6_1_relu[0][0]']    \n",
      "                                                                                                  \n",
      " conv4_block6_2_bn (BatchNormal  (None, 14, 14, 256)  1024       ['conv4_block6_2_conv[0][0]']    \n",
      " ization)                                                                                         \n",
      "                                                                                                  \n",
      " conv4_block6_2_relu (Activatio  (None, 14, 14, 256)  0          ['conv4_block6_2_bn[0][0]']      \n",
      " n)                                                                                               \n",
      "                                                                                                  \n",
      " conv4_block6_3_conv (Conv2D)   (None, 14, 14, 1024  263168      ['conv4_block6_2_relu[0][0]']    \n",
      "                                )                                                                 \n",
      "                                                                                                  \n",
      " conv4_block6_3_bn (BatchNormal  (None, 14, 14, 1024  4096       ['conv4_block6_3_conv[0][0]']    \n",
      " ization)                       )                                                                 \n",
      "                                                                                                  \n",
      " conv4_block6_add (Add)         (None, 14, 14, 1024  0           ['conv4_block5_out[0][0]',       \n",
      "                                )                                 'conv4_block6_3_bn[0][0]']      \n",
      "                                                                                                  \n",
      " conv4_block6_out (Activation)  (None, 14, 14, 1024  0           ['conv4_block6_add[0][0]']       \n",
      "                                )                                                                 \n",
      "                                                                                                  \n",
      " conv5_block1_1_conv (Conv2D)   (None, 7, 7, 512)    524800      ['conv4_block6_out[0][0]']       \n",
      "                                                                                                  \n",
      " conv5_block1_1_bn (BatchNormal  (None, 7, 7, 512)   2048        ['conv5_block1_1_conv[0][0]']    \n",
      " ization)                                                                                         \n",
      "                                                                                                  \n",
      " conv5_block1_1_relu (Activatio  (None, 7, 7, 512)   0           ['conv5_block1_1_bn[0][0]']      \n",
      " n)                                                                                               \n",
      "                                                                                                  \n",
      " conv5_block1_2_conv (Conv2D)   (None, 7, 7, 512)    2359808     ['conv5_block1_1_relu[0][0]']    \n",
      "                                                                                                  \n",
      " conv5_block1_2_bn (BatchNormal  (None, 7, 7, 512)   2048        ['conv5_block1_2_conv[0][0]']    \n",
      " ization)                                                                                         \n",
      "                                                                                                  \n",
      " conv5_block1_2_relu (Activatio  (None, 7, 7, 512)   0           ['conv5_block1_2_bn[0][0]']      \n",
      " n)                                                                                               \n",
      "                                                                                                  \n",
      " conv5_block1_0_conv (Conv2D)   (None, 7, 7, 2048)   2099200     ['conv4_block6_out[0][0]']       \n",
      "                                                                                                  \n",
      " conv5_block1_3_conv (Conv2D)   (None, 7, 7, 2048)   1050624     ['conv5_block1_2_relu[0][0]']    \n",
      "                                                                                                  \n",
      " conv5_block1_0_bn (BatchNormal  (None, 7, 7, 2048)  8192        ['conv5_block1_0_conv[0][0]']    \n",
      " ization)                                                                                         \n",
      "                                                                                                  \n",
      " conv5_block1_3_bn (BatchNormal  (None, 7, 7, 2048)  8192        ['conv5_block1_3_conv[0][0]']    \n",
      " ization)                                                                                         \n",
      "                                                                                                  \n",
      " conv5_block1_add (Add)         (None, 7, 7, 2048)   0           ['conv5_block1_0_bn[0][0]',      \n",
      "                                                                  'conv5_block1_3_bn[0][0]']      \n",
      "                                                                                                  \n",
      " conv5_block1_out (Activation)  (None, 7, 7, 2048)   0           ['conv5_block1_add[0][0]']       \n",
      "                                                                                                  \n",
      " conv5_block2_1_conv (Conv2D)   (None, 7, 7, 512)    1049088     ['conv5_block1_out[0][0]']       \n",
      "                                                                                                  \n",
      " conv5_block2_1_bn (BatchNormal  (None, 7, 7, 512)   2048        ['conv5_block2_1_conv[0][0]']    \n",
      " ization)                                                                                         \n",
      "                                                                                                  \n",
      " conv5_block2_1_relu (Activatio  (None, 7, 7, 512)   0           ['conv5_block2_1_bn[0][0]']      \n",
      " n)                                                                                               \n",
      "                                                                                                  \n",
      " conv5_block2_2_conv (Conv2D)   (None, 7, 7, 512)    2359808     ['conv5_block2_1_relu[0][0]']    \n",
      "                                                                                                  \n",
      " conv5_block2_2_bn (BatchNormal  (None, 7, 7, 512)   2048        ['conv5_block2_2_conv[0][0]']    \n",
      " ization)                                                                                         \n",
      "                                                                                                  \n",
      " conv5_block2_2_relu (Activatio  (None, 7, 7, 512)   0           ['conv5_block2_2_bn[0][0]']      \n",
      " n)                                                                                               \n",
      "                                                                                                  \n",
      " conv5_block2_3_conv (Conv2D)   (None, 7, 7, 2048)   1050624     ['conv5_block2_2_relu[0][0]']    \n",
      "                                                                                                  \n",
      " conv5_block2_3_bn (BatchNormal  (None, 7, 7, 2048)  8192        ['conv5_block2_3_conv[0][0]']    \n",
      " ization)                                                                                         \n",
      "                                                                                                  \n",
      " conv5_block2_add (Add)         (None, 7, 7, 2048)   0           ['conv5_block1_out[0][0]',       \n",
      "                                                                  'conv5_block2_3_bn[0][0]']      \n",
      "                                                                                                  \n",
      " conv5_block2_out (Activation)  (None, 7, 7, 2048)   0           ['conv5_block2_add[0][0]']       \n",
      "                                                                                                  \n",
      " conv5_block3_1_conv (Conv2D)   (None, 7, 7, 512)    1049088     ['conv5_block2_out[0][0]']       \n",
      "                                                                                                  \n",
      " conv5_block3_1_bn (BatchNormal  (None, 7, 7, 512)   2048        ['conv5_block3_1_conv[0][0]']    \n",
      " ization)                                                                                         \n",
      "                                                                                                  \n",
      " conv5_block3_1_relu (Activatio  (None, 7, 7, 512)   0           ['conv5_block3_1_bn[0][0]']      \n",
      " n)                                                                                               \n",
      "                                                                                                  \n",
      " conv5_block3_2_conv (Conv2D)   (None, 7, 7, 512)    2359808     ['conv5_block3_1_relu[0][0]']    \n",
      "                                                                                                  \n",
      " conv5_block3_2_bn (BatchNormal  (None, 7, 7, 512)   2048        ['conv5_block3_2_conv[0][0]']    \n",
      " ization)                                                                                         \n",
      "                                                                                                  \n",
      " conv5_block3_2_relu (Activatio  (None, 7, 7, 512)   0           ['conv5_block3_2_bn[0][0]']      \n",
      " n)                                                                                               \n",
      "                                                                                                  \n",
      " conv5_block3_3_conv (Conv2D)   (None, 7, 7, 2048)   1050624     ['conv5_block3_2_relu[0][0]']    \n",
      "                                                                                                  \n",
      " conv5_block3_3_bn (BatchNormal  (None, 7, 7, 2048)  8192        ['conv5_block3_3_conv[0][0]']    \n",
      " ization)                                                                                         \n",
      "                                                                                                  \n",
      " conv5_block3_add (Add)         (None, 7, 7, 2048)   0           ['conv5_block2_out[0][0]',       \n",
      "                                                                  'conv5_block3_3_bn[0][0]']      \n",
      "                                                                                                  \n",
      " conv5_block3_out (Activation)  (None, 7, 7, 2048)   0           ['conv5_block3_add[0][0]']       \n",
      "                                                                                                  \n",
      " flatten_2 (Flatten)            (None, 100352)       0           ['conv5_block3_out[0][0]']       \n",
      "                                                                                                  \n",
      " dense_2 (Dense)                (None, 3)            301059      ['flatten_2[0][0]']              \n",
      "                                                                                                  \n",
      "==================================================================================================\n",
      "Total params: 23,888,771\n",
      "Trainable params: 301,059\n",
      "Non-trainable params: 23,587,712\n",
      "__________________________________________________________________________________________________\n",
      "None\n"
     ]
    }
   ],
   "source": [
    "# view the structure of the model\n",
    "print(\"--------model vgg16----------------------------------------------------------\")\n",
    "print(model1.summary())\n",
    "\n",
    "print(\"--------model vgg19----------------------------------------------------------\")\n",
    "print(model2.summary())\n",
    "\n",
    "print(\"--------model resnet---------------------------------------------------------\")\n",
    "print(model3.summary())\n",
    "\n"
   ]
  },
  {
   "cell_type": "code",
   "execution_count": 22,
   "id": "bb45ea50",
   "metadata": {},
   "outputs": [],
   "source": [
    "\n",
    "model1.compile(\n",
    "  loss='categorical_crossentropy',\n",
    "  optimizer='adam',\n",
    "  metrics=['accuracy']\n",
    ")\n",
    "\n",
    "model2.compile(\n",
    "  loss='categorical_crossentropy',\n",
    "  optimizer='adam',\n",
    "  metrics=['accuracy']\n",
    ")\n",
    "\n",
    "model3.compile(\n",
    "  loss='categorical_crossentropy',\n",
    "  optimizer='adam',\n",
    "  metrics=['accuracy']\n",
    ")\n",
    "\n",
    "\n"
   ]
  },
  {
   "cell_type": "markdown",
   "id": "92d12d88",
   "metadata": {},
   "source": [
    "# Data Augmentation"
   ]
  },
  {
   "cell_type": "code",
   "execution_count": 13,
   "id": "de262222",
   "metadata": {},
   "outputs": [
    {
     "name": "stdout",
     "output_type": "stream",
     "text": [
      "Found 1063 images belonging to 3 classes.\n"
     ]
    }
   ],
   "source": [
    "from tensorflow.keras.preprocessing.image import ImageDataGenerator\n",
    "\n",
    "#data augmentation\n",
    "train_datagen = ImageDataGenerator(rescale = 1./255,\n",
    "                                   shear_range = 0.2,\n",
    "                                   zoom_range = 0.2,\n",
    "                                   horizontal_flip = True)\n",
    "\n",
    "# Applying data augmentation\n",
    "#making sure inputs are of same size\n",
    "\n",
    "training_set = train_datagen.flow_from_directory('images/train_images_amazon',\n",
    "                                                 target_size = (224, 224),\n",
    "                                                 batch_size = 32,\n",
    "                                                 class_mode = 'categorical')\n",
    "\n"
   ]
  },
  {
   "cell_type": "code",
   "execution_count": 14,
   "id": "61dae252",
   "metadata": {},
   "outputs": [
    {
     "name": "stdout",
     "output_type": "stream",
     "text": [
      "Found 160 images belonging to 3 classes.\n"
     ]
    }
   ],
   "source": [
    "#data augmentation\n",
    "test_datagen = ImageDataGenerator(rescale = 1./255)\n",
    "\n",
    "test_set = test_datagen.flow_from_directory('images/test_images_flipkart',\n",
    "                                            target_size = (224, 224),\n",
    "                                            batch_size = 32,\n",
    "                                            class_mode = 'categorical')"
   ]
  },
  {
   "cell_type": "markdown",
   "id": "ad84bbb6",
   "metadata": {},
   "source": [
    "# Applying model on data"
   ]
  },
  {
   "cell_type": "code",
   "execution_count": 15,
   "id": "9b6658c6",
   "metadata": {},
   "outputs": [
    {
     "name": "stderr",
     "output_type": "stream",
     "text": [
      "<ipython-input-15-9c8775406a34>:2: UserWarning: `Model.fit_generator` is deprecated and will be removed in a future version. Please use `Model.fit`, which supports generators.\n",
      "  vgg16_model_fit = model1.fit_generator(\n"
     ]
    },
    {
     "name": "stdout",
     "output_type": "stream",
     "text": [
      "Epoch 1/25\n",
      "34/34 [==============================] - 107s 3s/step - loss: 0.6247 - accuracy: 0.7178 - val_loss: 8.8683 - val_accuracy: 0.2062\n",
      "Epoch 2/25\n",
      "34/34 [==============================] - 108s 3s/step - loss: 0.2648 - accuracy: 0.8833 - val_loss: 7.8828 - val_accuracy: 0.2250\n",
      "Epoch 3/25\n",
      "34/34 [==============================] - 105s 3s/step - loss: 0.2059 - accuracy: 0.9097 - val_loss: 8.7312 - val_accuracy: 0.2250\n",
      "Epoch 4/25\n",
      "34/34 [==============================] - 108s 3s/step - loss: 0.1954 - accuracy: 0.9210 - val_loss: 9.1597 - val_accuracy: 0.1875\n",
      "Epoch 5/25\n",
      "34/34 [==============================] - 106s 3s/step - loss: 0.1517 - accuracy: 0.9407 - val_loss: 8.8249 - val_accuracy: 0.2125\n",
      "Epoch 6/25\n",
      "34/34 [==============================] - 107s 3s/step - loss: 0.1148 - accuracy: 0.9661 - val_loss: 9.6407 - val_accuracy: 0.0938\n",
      "Epoch 7/25\n",
      "34/34 [==============================] - 108s 3s/step - loss: 0.1279 - accuracy: 0.9558 - val_loss: 9.4853 - val_accuracy: 0.2062\n",
      "Epoch 8/25\n",
      "34/34 [==============================] - 104s 3s/step - loss: 0.1253 - accuracy: 0.9548 - val_loss: 9.6380 - val_accuracy: 0.2000\n",
      "Epoch 9/25\n",
      "34/34 [==============================] - 105s 3s/step - loss: 0.1160 - accuracy: 0.9605 - val_loss: 9.6670 - val_accuracy: 0.2000\n",
      "Epoch 10/25\n",
      "34/34 [==============================] - 106s 3s/step - loss: 0.0816 - accuracy: 0.9718 - val_loss: 9.7572 - val_accuracy: 0.2250\n",
      "Epoch 11/25\n",
      "34/34 [==============================] - 114s 3s/step - loss: 0.0817 - accuracy: 0.9680 - val_loss: 9.7253 - val_accuracy: 0.1937\n",
      "Epoch 12/25\n",
      "34/34 [==============================] - 107s 3s/step - loss: 0.0738 - accuracy: 0.9718 - val_loss: 10.1041 - val_accuracy: 0.2000\n",
      "Epoch 13/25\n",
      "34/34 [==============================] - 107s 3s/step - loss: 0.0637 - accuracy: 0.9802 - val_loss: 10.4131 - val_accuracy: 0.2125\n",
      "Epoch 14/25\n",
      "34/34 [==============================] - 109s 3s/step - loss: 0.0794 - accuracy: 0.9699 - val_loss: 10.4354 - val_accuracy: 0.2062\n",
      "Epoch 15/25\n",
      "34/34 [==============================] - 106s 3s/step - loss: 0.0685 - accuracy: 0.9812 - val_loss: 10.1638 - val_accuracy: 0.2000\n",
      "Epoch 16/25\n",
      "34/34 [==============================] - 104s 3s/step - loss: 0.0623 - accuracy: 0.9765 - val_loss: 10.5378 - val_accuracy: 0.2375\n",
      "Epoch 17/25\n",
      "34/34 [==============================] - 104s 3s/step - loss: 0.0594 - accuracy: 0.9793 - val_loss: 10.6137 - val_accuracy: 0.2062\n",
      "Epoch 18/25\n",
      "34/34 [==============================] - 114s 3s/step - loss: 0.0665 - accuracy: 0.9802 - val_loss: 10.6148 - val_accuracy: 0.2188\n",
      "Epoch 19/25\n",
      "34/34 [==============================] - 109s 3s/step - loss: 0.0749 - accuracy: 0.9699 - val_loss: 11.2081 - val_accuracy: 0.2188\n",
      "Epoch 20/25\n",
      "34/34 [==============================] - 104s 3s/step - loss: 0.0669 - accuracy: 0.9755 - val_loss: 11.1666 - val_accuracy: 0.2062\n",
      "Epoch 21/25\n",
      "34/34 [==============================] - 108s 3s/step - loss: 0.0532 - accuracy: 0.9859 - val_loss: 11.2632 - val_accuracy: 0.1937\n",
      "Epoch 22/25\n",
      "34/34 [==============================] - 105s 3s/step - loss: 0.0487 - accuracy: 0.9840 - val_loss: 11.0990 - val_accuracy: 0.0812\n",
      "Epoch 23/25\n",
      "34/34 [==============================] - 107s 3s/step - loss: 0.0479 - accuracy: 0.9849 - val_loss: 11.3841 - val_accuracy: 0.1937\n",
      "Epoch 24/25\n",
      "34/34 [==============================] - 105s 3s/step - loss: 0.0326 - accuracy: 0.9944 - val_loss: 11.2334 - val_accuracy: 0.1875\n",
      "Epoch 25/25\n",
      "34/34 [==============================] - 106s 3s/step - loss: 0.0342 - accuracy: 0.9934 - val_loss: 11.7022 - val_accuracy: 0.1875\n"
     ]
    }
   ],
   "source": [
    "# fit the model\n",
    "vgg16_model_fit = model1.fit_generator(\n",
    "  training_set,\n",
    "  validation_data=test_set,\n",
    "  epochs=25,\n",
    "  steps_per_epoch=len(training_set),\n",
    "  validation_steps=len(test_set)\n",
    ")"
   ]
  },
  {
   "cell_type": "code",
   "execution_count": 22,
   "id": "0772056a",
   "metadata": {},
   "outputs": [
    {
     "name": "stderr",
     "output_type": "stream",
     "text": [
      "<ipython-input-22-183dbb783cba>:1: UserWarning: `Model.fit_generator` is deprecated and will be removed in a future version. Please use `Model.fit`, which supports generators.\n",
      "  vgg19_model_fit = model2.fit_generator(\n"
     ]
    },
    {
     "name": "stdout",
     "output_type": "stream",
     "text": [
      "Epoch 1/25\n",
      "34/34 [==============================] - 137s 4s/step - loss: 0.7539 - accuracy: 0.7046 - val_loss: 9.0534 - val_accuracy: 0.1500\n",
      "Epoch 2/25\n",
      "34/34 [==============================] - 139s 4s/step - loss: 0.3585 - accuracy: 0.8269 - val_loss: 8.7724 - val_accuracy: 0.2188\n",
      "Epoch 3/25\n",
      "34/34 [==============================] - 140s 4s/step - loss: 0.2924 - accuracy: 0.8702 - val_loss: 9.0847 - val_accuracy: 0.2000\n",
      "Epoch 4/25\n",
      "34/34 [==============================] - 140s 4s/step - loss: 0.2064 - accuracy: 0.9059 - val_loss: 9.2374 - val_accuracy: 0.2188\n",
      "Epoch 5/25\n",
      "34/34 [==============================] - 142s 4s/step - loss: 0.2562 - accuracy: 0.8946 - val_loss: 9.1290 - val_accuracy: 0.1000\n",
      "Epoch 6/25\n",
      "34/34 [==============================] - 147s 4s/step - loss: 0.1945 - accuracy: 0.9135 - val_loss: 9.0966 - val_accuracy: 0.1937\n",
      "Epoch 7/25\n",
      "34/34 [==============================] - 149s 4s/step - loss: 0.1198 - accuracy: 0.9520 - val_loss: 8.8562 - val_accuracy: 0.2000\n",
      "Epoch 8/25\n",
      "34/34 [==============================] - 142s 4s/step - loss: 0.1175 - accuracy: 0.9501 - val_loss: 9.5068 - val_accuracy: 0.2313\n",
      "Epoch 9/25\n",
      "34/34 [==============================] - 148s 4s/step - loss: 0.1299 - accuracy: 0.9473 - val_loss: 9.3268 - val_accuracy: 0.2250\n",
      "Epoch 10/25\n",
      "34/34 [==============================] - 143s 4s/step - loss: 0.1096 - accuracy: 0.9577 - val_loss: 9.2745 - val_accuracy: 0.2062\n",
      "Epoch 11/25\n",
      "34/34 [==============================] - 141s 4s/step - loss: 0.1106 - accuracy: 0.9614 - val_loss: 9.8702 - val_accuracy: 0.1875\n",
      "Epoch 12/25\n",
      "34/34 [==============================] - 137s 4s/step - loss: 0.0932 - accuracy: 0.9661 - val_loss: 9.3904 - val_accuracy: 0.1875\n",
      "Epoch 13/25\n",
      "34/34 [==============================] - 142s 4s/step - loss: 0.1000 - accuracy: 0.9690 - val_loss: 9.7586 - val_accuracy: 0.1562\n",
      "Epoch 14/25\n",
      "34/34 [==============================] - 141s 4s/step - loss: 0.0792 - accuracy: 0.9671 - val_loss: 9.9693 - val_accuracy: 0.1688\n",
      "Epoch 15/25\n",
      "34/34 [==============================] - 143s 4s/step - loss: 0.0882 - accuracy: 0.9746 - val_loss: 9.9292 - val_accuracy: 0.1937\n",
      "Epoch 16/25\n",
      "34/34 [==============================] - 146s 4s/step - loss: 0.0761 - accuracy: 0.9746 - val_loss: 9.9455 - val_accuracy: 0.1688\n",
      "Epoch 17/25\n",
      "34/34 [==============================] - 151s 4s/step - loss: 0.0839 - accuracy: 0.9718 - val_loss: 10.4248 - val_accuracy: 0.2125\n",
      "Epoch 18/25\n",
      "34/34 [==============================] - 145s 4s/step - loss: 0.0749 - accuracy: 0.9727 - val_loss: 10.1117 - val_accuracy: 0.1813\n",
      "Epoch 19/25\n",
      "34/34 [==============================] - 145s 4s/step - loss: 0.0712 - accuracy: 0.9746 - val_loss: 10.3907 - val_accuracy: 0.1875\n",
      "Epoch 20/25\n",
      "34/34 [==============================] - 145s 4s/step - loss: 0.0708 - accuracy: 0.9774 - val_loss: 10.3169 - val_accuracy: 0.1562\n",
      "Epoch 21/25\n",
      "34/34 [==============================] - 144s 4s/step - loss: 0.0669 - accuracy: 0.9774 - val_loss: 11.1946 - val_accuracy: 0.2250\n",
      "Epoch 22/25\n",
      "34/34 [==============================] - 144s 4s/step - loss: 0.0718 - accuracy: 0.9774 - val_loss: 10.9091 - val_accuracy: 0.1875\n",
      "Epoch 23/25\n",
      "34/34 [==============================] - 149s 4s/step - loss: 0.0681 - accuracy: 0.9755 - val_loss: 10.8430 - val_accuracy: 0.2125\n",
      "Epoch 24/25\n",
      "34/34 [==============================] - 149s 4s/step - loss: 0.0491 - accuracy: 0.9849 - val_loss: 11.1581 - val_accuracy: 0.1875\n",
      "Epoch 25/25\n",
      "34/34 [==============================] - 147s 4s/step - loss: 0.0529 - accuracy: 0.9868 - val_loss: 11.0213 - val_accuracy: 0.1937\n"
     ]
    }
   ],
   "source": [
    "vgg19_model_fit = model2.fit_generator(\n",
    "  training_set,\n",
    "  validation_data=test_set,\n",
    "  epochs=25,\n",
    "  steps_per_epoch=len(training_set),\n",
    "  validation_steps=len(test_set)\n",
    ")"
   ]
  },
  {
   "cell_type": "code",
   "execution_count": 23,
   "id": "dd404951",
   "metadata": {},
   "outputs": [
    {
     "name": "stderr",
     "output_type": "stream",
     "text": [
      "<ipython-input-23-c6a7b7ad4102>:1: UserWarning: `Model.fit_generator` is deprecated and will be removed in a future version. Please use `Model.fit`, which supports generators.\n",
      "  resnet_model_fit = model3.fit_generator(\n"
     ]
    },
    {
     "name": "stdout",
     "output_type": "stream",
     "text": [
      "Epoch 1/25\n",
      "34/34 [==============================] - 77s 2s/step - loss: 2.2880 - accuracy: 0.4873 - val_loss: 5.3170 - val_accuracy: 0.1937\n",
      "Epoch 2/25\n",
      "34/34 [==============================] - 74s 2s/step - loss: 0.9142 - accuracy: 0.6529 - val_loss: 5.6431 - val_accuracy: 0.1937\n",
      "Epoch 3/25\n",
      "34/34 [==============================] - 68s 2s/step - loss: 0.8085 - accuracy: 0.6839 - val_loss: 5.1159 - val_accuracy: 0.0375\n",
      "Epoch 4/25\n",
      "34/34 [==============================] - 66s 2s/step - loss: 0.8660 - accuracy: 0.6679 - val_loss: 5.9019 - val_accuracy: 0.0188\n",
      "Epoch 5/25\n",
      "34/34 [==============================] - 71s 2s/step - loss: 0.7396 - accuracy: 0.7008 - val_loss: 6.2784 - val_accuracy: 0.1750\n",
      "Epoch 6/25\n",
      "34/34 [==============================] - 72s 2s/step - loss: 0.5102 - accuracy: 0.7620 - val_loss: 6.1013 - val_accuracy: 0.2250\n",
      "Epoch 7/25\n",
      "34/34 [==============================] - 71s 2s/step - loss: 0.5184 - accuracy: 0.7601 - val_loss: 6.2060 - val_accuracy: 0.2375\n",
      "Epoch 8/25\n",
      "34/34 [==============================] - 75s 2s/step - loss: 0.5706 - accuracy: 0.7422 - val_loss: 6.2126 - val_accuracy: 0.2062\n",
      "Epoch 9/25\n",
      "34/34 [==============================] - 73s 2s/step - loss: 0.4458 - accuracy: 0.7855 - val_loss: 6.6999 - val_accuracy: 0.2375\n",
      "Epoch 10/25\n",
      "34/34 [==============================] - 77s 2s/step - loss: 0.8304 - accuracy: 0.6792 - val_loss: 6.8352 - val_accuracy: 0.1375\n",
      "Epoch 11/25\n",
      "34/34 [==============================] - 73s 2s/step - loss: 0.7179 - accuracy: 0.7281 - val_loss: 8.8518 - val_accuracy: 0.2438\n",
      "Epoch 12/25\n",
      "34/34 [==============================] - 73s 2s/step - loss: 0.6905 - accuracy: 0.7347 - val_loss: 7.4181 - val_accuracy: 0.1500\n",
      "Epoch 13/25\n",
      "34/34 [==============================] - 72s 2s/step - loss: 0.6526 - accuracy: 0.7422 - val_loss: 7.1738 - val_accuracy: 0.1437\n",
      "Epoch 14/25\n",
      "34/34 [==============================] - 73s 2s/step - loss: 0.7315 - accuracy: 0.7225 - val_loss: 8.5355 - val_accuracy: 0.1562\n",
      "Epoch 15/25\n",
      "34/34 [==============================] - 71s 2s/step - loss: 0.4761 - accuracy: 0.7770 - val_loss: 8.2153 - val_accuracy: 0.0063\n",
      "Epoch 16/25\n",
      "34/34 [==============================] - 69s 2s/step - loss: 0.4196 - accuracy: 0.8156 - val_loss: 7.3136 - val_accuracy: 0.0750\n",
      "Epoch 17/25\n",
      "34/34 [==============================] - 71s 2s/step - loss: 0.7433 - accuracy: 0.7300 - val_loss: 9.7296 - val_accuracy: 0.2313\n",
      "Epoch 18/25\n",
      "34/34 [==============================] - 70s 2s/step - loss: 0.5236 - accuracy: 0.7912 - val_loss: 10.9742 - val_accuracy: 0.2000\n",
      "Epoch 19/25\n",
      "34/34 [==============================] - 69s 2s/step - loss: 0.4684 - accuracy: 0.7968 - val_loss: 9.6393 - val_accuracy: 0.1562\n",
      "Epoch 20/25\n",
      "34/34 [==============================] - 68s 2s/step - loss: 0.4814 - accuracy: 0.7865 - val_loss: 9.4389 - val_accuracy: 0.0938\n",
      "Epoch 21/25\n",
      "34/34 [==============================] - 67s 2s/step - loss: 0.4953 - accuracy: 0.7930 - val_loss: 10.3832 - val_accuracy: 0.0063\n",
      "Epoch 22/25\n",
      "34/34 [==============================] - 65s 2s/step - loss: 0.7038 - accuracy: 0.7338 - val_loss: 10.0368 - val_accuracy: 0.1625\n",
      "Epoch 23/25\n",
      "34/34 [==============================] - 65s 2s/step - loss: 0.4061 - accuracy: 0.8062 - val_loss: 9.2675 - val_accuracy: 0.0250\n",
      "Epoch 24/25\n",
      "34/34 [==============================] - 66s 2s/step - loss: 0.5642 - accuracy: 0.7770 - val_loss: 9.7626 - val_accuracy: 0.0688\n",
      "Epoch 25/25\n",
      "34/34 [==============================] - 66s 2s/step - loss: 0.4139 - accuracy: 0.8147 - val_loss: 9.9995 - val_accuracy: 0.0063\n"
     ]
    }
   ],
   "source": [
    "resnet_model_fit = model3.fit_generator(\n",
    "  training_set,\n",
    "  validation_data=test_set,\n",
    "  epochs=25,\n",
    "  steps_per_epoch=len(training_set),\n",
    "  validation_steps=len(test_set)\n",
    ")"
   ]
  },
  {
   "cell_type": "code",
   "execution_count": 16,
   "id": "4bdc0490",
   "metadata": {},
   "outputs": [
    {
     "name": "stdout",
     "output_type": "stream",
     "text": [
      "VGG16-------------------------------------------\n",
      "         loss  accuracy   val_loss  val_accuracy\n",
      "0   0.624749  0.717780   8.868276       0.20625\n",
      "1   0.264838  0.883349   7.882825       0.22500\n",
      "2   0.205907  0.909690   8.731160       0.22500\n",
      "3   0.195442  0.920978   9.159671       0.18750\n",
      "4   0.151661  0.940734   8.824918       0.21250\n",
      "5   0.114818  0.966134   9.640717       0.09375\n",
      "6   0.127930  0.955786   9.485296       0.20625\n",
      "7   0.125320  0.954845   9.637982       0.20000\n",
      "8   0.115979  0.960489   9.666961       0.20000\n",
      "9   0.081588  0.971778   9.757243       0.22500\n",
      "10  0.081679  0.968015   9.725302       0.19375\n",
      "11  0.073832  0.971778  10.104113       0.20000\n",
      "12  0.063672  0.980245  10.413096       0.21250\n",
      "13  0.079410  0.969896  10.435382       0.20625\n",
      "14  0.068529  0.981185  10.163783       0.20000\n",
      "15  0.062313  0.976482  10.537808       0.23750\n",
      "16  0.059408  0.979304  10.613699       0.20625\n",
      "17  0.066524  0.980245  10.614845       0.21875\n",
      "18  0.074910  0.969896  11.208082       0.21875\n",
      "19  0.066881  0.975541  11.166627       0.20625\n",
      "20  0.053155  0.985889  11.263213       0.19375\n",
      "21  0.048707  0.984008  11.098978       0.08125\n",
      "22  0.047899  0.984948  11.384108       0.19375\n",
      "23  0.032589  0.994356  11.233387       0.18750\n",
      "24  0.034166  0.993415  11.702196       0.18750\n"
     ]
    }
   ],
   "source": [
    "losses_vgg16=pd.DataFrame(model1.history.history)\n",
    "print(\"VGG16-------------------------------------------\\n\",losses_vgg16)\n",
    "\n"
   ]
  },
  {
   "cell_type": "code",
   "execution_count": 28,
   "id": "12b6ec89",
   "metadata": {},
   "outputs": [
    {
     "name": "stdout",
     "output_type": "stream",
     "text": [
      "VGG19-------------------------------------------\n",
      "         loss  accuracy   val_loss  val_accuracy\n",
      "0   0.753900  0.704610   9.053354       0.15000\n",
      "1   0.358494  0.826905   8.772440       0.21875\n",
      "2   0.292374  0.870179   9.084745       0.20000\n",
      "3   0.206357  0.905927   9.237411       0.21875\n",
      "4   0.256231  0.894638   9.128996       0.10000\n",
      "5   0.194459  0.913453   9.096599       0.19375\n",
      "6   0.119792  0.952023   8.856198       0.20000\n",
      "7   0.117472  0.950141   9.506765       0.23125\n",
      "8   0.129897  0.947319   9.326757       0.22500\n",
      "9   0.109580  0.957667   9.274500       0.20625\n",
      "10  0.110601  0.961430   9.870240       0.18750\n",
      "11  0.093205  0.966134   9.390417       0.18750\n",
      "12  0.100013  0.968956   9.758562       0.15625\n",
      "13  0.079220  0.967074   9.969254       0.16875\n",
      "14  0.088204  0.974600   9.929247       0.19375\n",
      "15  0.076140  0.974600   9.945505       0.16875\n",
      "16  0.083946  0.971778  10.424762       0.21250\n",
      "17  0.074864  0.972719  10.111658       0.18125\n",
      "18  0.071235  0.974600  10.390721       0.18750\n",
      "19  0.070789  0.977422  10.316923       0.15625\n",
      "20  0.066882  0.977422  11.194639       0.22500\n",
      "21  0.071795  0.977422  10.909083       0.18750\n",
      "22  0.068057  0.975541  10.842973       0.21250\n",
      "23  0.049054  0.984948  11.158081       0.18750\n",
      "24  0.052899  0.986830  11.021263       0.19375\n"
     ]
    }
   ],
   "source": [
    "losses_vgg19=pd.DataFrame(model2.history.history)\n",
    "print(\"VGG19-------------------------------------------\\n\",losses_vgg19)\n"
   ]
  },
  {
   "cell_type": "code",
   "execution_count": 29,
   "id": "aa63f5b1",
   "metadata": {},
   "outputs": [
    {
     "name": "stdout",
     "output_type": "stream",
     "text": [
      "resnet-------------------------------------------\n",
      "         loss  accuracy   val_loss  val_accuracy\n",
      "0   2.288043  0.487300   5.317034       0.19375\n",
      "1   0.914228  0.652869   5.643128       0.19375\n",
      "2   0.808526  0.683913   5.115880       0.03750\n",
      "3   0.865950  0.667921   5.901866       0.01875\n",
      "4   0.739596  0.700847   6.278430       0.17500\n",
      "5   0.510192  0.761994   6.101315       0.22500\n",
      "6   0.518427  0.760113   6.205963       0.23750\n",
      "7   0.570582  0.742239   6.212586       0.20625\n",
      "8   0.445823  0.785513   6.699919       0.23750\n",
      "9   0.830372  0.679210   6.835227       0.13750\n",
      "10  0.717920  0.728128   8.851778       0.24375\n",
      "11  0.690465  0.734713   7.418118       0.15000\n",
      "12  0.652580  0.742239   7.173831       0.14375\n",
      "13  0.731493  0.722484   8.535540       0.15625\n",
      "14  0.476051  0.777046   8.215266       0.00625\n",
      "15  0.419638  0.815616   7.313577       0.07500\n",
      "16  0.743270  0.730009   9.729560       0.23125\n",
      "17  0.523559  0.791157  10.974249       0.20000\n",
      "18  0.468414  0.796802   9.639284       0.15625\n",
      "19  0.481443  0.786453   9.438946       0.09375\n",
      "20  0.495323  0.793039  10.383244       0.00625\n",
      "21  0.703809  0.733772  10.036784       0.16250\n",
      "22  0.406052  0.806209   9.267494       0.02500\n",
      "23  0.564161  0.777046   9.762584       0.06875\n",
      "24  0.413896  0.814675   9.999520       0.00625\n"
     ]
    }
   ],
   "source": [
    "\n",
    "losses_resnet=pd.DataFrame(model3.history.history)\n",
    "print(\"resnet-------------------------------------------\\n\",losses_resnet)"
   ]
  },
  {
   "cell_type": "markdown",
   "id": "6a4f106a",
   "metadata": {},
   "source": [
    "Best model is vgg 16 with 16 epochs"
   ]
  },
  {
   "cell_type": "markdown",
   "id": "6d4415a1",
   "metadata": {},
   "source": [
    "# Accuracy of the model"
   ]
  },
  {
   "cell_type": "markdown",
   "id": "d2516872",
   "metadata": {},
   "source": [
    "Best accuracy is chosen as the model and stored as h5 file"
   ]
  },
  {
   "cell_type": "code",
   "execution_count": 20,
   "id": "d96db3f1",
   "metadata": {},
   "outputs": [],
   "source": [
    "import matplotlib.pyplot as plt"
   ]
  },
  {
   "cell_type": "code",
   "execution_count": 21,
   "id": "f78a0c8f",
   "metadata": {},
   "outputs": [
    {
     "data": {
      "image/png": "[encoded data removed]",
      "text/plain": [
       "<Figure size 432x288 with 1 Axes>"
      ]
     },
     "metadata": {
      "needs_background": "light"
     },
     "output_type": "display_data"
    },
    {
     "data": {
      "image/png": "[encoded data removed]",
      "text/plain": [
       "<Figure size 432x288 with 1 Axes>"
      ]
     },
     "metadata": {
      "needs_background": "light"
     },
     "output_type": "display_data"
    },
    {
     "data": {
      "text/plain": [
       "<Figure size 432x288 with 0 Axes>"
      ]
     },
     "metadata": {},
     "output_type": "display_data"
    }
   ],
   "source": [
    "# plot the loss\n",
    "\n",
    "plt.plot(vgg16_model_fit.history['loss'], label='train loss')\n",
    "plt.plot(vgg16_model_fit.history['val_loss'], label='val loss')\n",
    "plt.legend()\n",
    "plt.title(\"vgg16_model\")\n",
    "plt.show()\n",
    "plt.savefig('LossVal_loss')\n",
    "\n",
    "# plot the accuracy\n",
    "plt.plot(vgg16_model_fit.history['accuracy'], label='train acc')\n",
    "plt.plot(vgg16_model_fit.history['val_accuracy'], label='val acc')\n",
    "plt.legend()\n",
    "plt.title(\"vgg16_model\")\n",
    "plt.show()\n",
    "plt.savefig('AccVal_acc')"
   ]
  },
  {
   "cell_type": "code",
   "execution_count": 19,
   "id": "17dab15b",
   "metadata": {},
   "outputs": [
    {
     "data": {
      "text/html": [
       "<div>\n",
       "<style scoped>\n",
       "    .dataframe tbody tr th:only-of-type {\n",
       "        vertical-align: middle;\n",
       "    }\n",
       "\n",
       "    .dataframe tbody tr th {\n",
       "        vertical-align: top;\n",
       "    }\n",
       "\n",
       "    .dataframe thead th {\n",
       "        text-align: right;\n",
       "    }\n",
       "</style>\n",
       "<table border=\"1\" class=\"dataframe\">\n",
       "  <thead>\n",
       "    <tr style=\"text-align: right;\">\n",
       "      <th></th>\n",
       "      <th>names</th>\n",
       "      <th>labels</th>\n",
       "    </tr>\n",
       "  </thead>\n",
       "  <tbody>\n",
       "    <tr>\n",
       "      <th>0</th>\n",
       "      <td>Jeans</td>\n",
       "      <td>0</td>\n",
       "    </tr>\n",
       "    <tr>\n",
       "      <th>1</th>\n",
       "      <td>Trousers</td>\n",
       "      <td>1</td>\n",
       "    </tr>\n",
       "    <tr>\n",
       "      <th>2</th>\n",
       "      <td>sarees</td>\n",
       "      <td>2</td>\n",
       "    </tr>\n",
       "  </tbody>\n",
       "</table>\n",
       "</div>"
      ],
      "text/plain": [
       "      names  labels\n",
       "0     Jeans       0\n",
       "1  Trousers       1\n",
       "2    sarees       2"
      ]
     },
     "execution_count": 19,
     "metadata": {},
     "output_type": "execute_result"
    }
   ],
   "source": [
    "name_labels_df = pd.DataFrame(list(training_set.class_indices.items()),columns = ['names','labels'],index=None)\n",
    "name_labels_df"
   ]
  },
  {
   "cell_type": "markdown",
   "id": "c12fb72b",
   "metadata": {},
   "source": [
    "# PREDICTION"
   ]
  },
  {
   "cell_type": "code",
   "execution_count": 26,
   "id": "c661f149",
   "metadata": {},
   "outputs": [],
   "source": [
    "from keras.preprocessing.image import load_img"
   ]
  },
  {
   "cell_type": "code",
   "execution_count": 38,
   "id": "75b41ae2",
   "metadata": {},
   "outputs": [],
   "source": [
    "# path to the train and test directory\n",
    "train_path = 'D:/folders/fliprobo/assignment 13/assignment 13/images/train_images_amazon'\n",
    "test_path = 'D:/folders/fliprobo/assignment 13/assignment 13/images/test_images_flipkart'\n",
    "\n",
    "# getting all the images path from train, test directories respectively ..\n",
    "\n",
    "train_files = glob(train_path + \"/*/*.jpg\")\n",
    "test_files = glob(test_path + \"/*/*.jpg\")"
   ]
  },
  {
   "cell_type": "code",
   "execution_count": 41,
   "id": "6ebba2c9",
   "metadata": {},
   "outputs": [],
   "source": [
    "#predicting any random image\n",
    "import numpy as np\n",
    "from keras.preprocessing import image\n",
    "\n",
    "\n",
    "def predict_random_image():\n",
    "  img = image.load_img(np.random.choice(test_files), target_size=IMAGE_SIZE)\n",
    "  x = image.img_to_array(img)\n",
    "  plt.imshow(img)\n",
    "  x = np.expand_dims(x, axis=0) /255.0\n",
    "  result_df = pd.DataFrame(list(model1.predict(x)[0]),index=name_labels_df.names.values,columns=['result'])\n",
    "  print(result_df.result.idxmax())"
   ]
  },
  {
   "cell_type": "code",
   "execution_count": 42,
   "id": "d891905b",
   "metadata": {},
   "outputs": [
    {
     "name": "stdout",
     "output_type": "stream",
     "text": [
      "sarees\n"
     ]
    },
    {
     "data": {
      "image/png": "[encoded data removed]",
      "text/plain": [
       "<Figure size 432x288 with 1 Axes>"
      ]
     },
     "metadata": {
      "needs_background": "light"
     },
     "output_type": "display_data"
    }
   ],
   "source": [
    "predict_random_image()"
   ]
  },
  {
   "cell_type": "code",
   "execution_count": 43,
   "id": "3333b405",
   "metadata": {},
   "outputs": [
    {
     "name": "stdout",
     "output_type": "stream",
     "text": [
      "Trousers\n"
     ]
    },
    {
     "data": {
      "image/png": "[encoded data removed]",
      "text/plain": [
       "<Figure size 432x288 with 1 Axes>"
      ]
     },
     "metadata": {
      "needs_background": "light"
     },
     "output_type": "display_data"
    }
   ],
   "source": [
    "predict_random_image()"
   ]
  },
  {
   "cell_type": "code",
   "execution_count": 44,
   "id": "d95dd275",
   "metadata": {},
   "outputs": [
    {
     "name": "stdout",
     "output_type": "stream",
     "text": [
      "Jeans\n"
     ]
    },
    {
     "data": {
      "image/png": "[encoded data removed]",
      "text/plain": [
       "<Figure size 432x288 with 1 Axes>"
      ]
     },
     "metadata": {
      "needs_background": "light"
     },
     "output_type": "display_data"
    }
   ],
   "source": [
    "predict_random_image()"
   ]
  },
  {
   "cell_type": "markdown",
   "id": "6d914716",
   "metadata": {},
   "source": [
    "Hence the model final_vgg16_model_fit can predict the images well"
   ]
  },
  {
   "cell_type": "markdown",
   "id": "79fea316",
   "metadata": {},
   "source": [
    "# Saving the model"
   ]
  },
  {
   "cell_type": "code",
   "execution_count": null,
   "id": "433a5e14",
   "metadata": {},
   "outputs": [],
   "source": [
    "# save it as a h5 file\n",
    "from tensorflow.keras.models import load_model\n",
    "vgg16_model_fit.save('model_final_vgg16.h5')"
   ]
  },
  {
   "cell_type": "code",
   "execution_count": null,
   "id": "bfe2e00c",
   "metadata": {},
   "outputs": [],
   "source": [
    "y_pred = final_vgg16_model_fit.predict(test_set)"
   ]
  },
  {
   "cell_type": "code",
   "execution_count": null,
   "id": "e410d4e4",
   "metadata": {},
   "outputs": [],
   "source": [
    "y_pred"
   ]
  },
  {
   "cell_type": "code",
   "execution_count": null,
   "id": "3e584eba",
   "metadata": {},
   "outputs": [],
   "source": [
    "import numpy as np\n",
    "y_pred = np.argmax(y_pred, axis=1)\n",
    "y_pred"
   ]
  },
  {
   "cell_type": "markdown",
   "id": "00e5327a",
   "metadata": {},
   "source": [
    "----------------------------------------------MODEL IS BUILT---------------------------------------------------------------"
   ]
  },
  {
   "cell_type": "code",
   "execution_count": null,
   "id": "39f30382",
   "metadata": {},
   "outputs": [],
   "source": []
  }
 ],
 "metadata": {
  "kernelspec": {
   "display_name": "Python 3",
   "language": "python",
   "name": "python3"
  },
  "language_info": {
   "codemirror_mode": {
    "name": "ipython",
    "version": 3
   },
   "file_extension": ".py",
   "mimetype": "text/x-python",
   "name": "python",
   "nbconvert_exporter": "python",
   "pygments_lexer": "ipython3",
   "version": "3.8.8"
  }
 },
 "nbformat": 4,
 "nbformat_minor": 5
}
