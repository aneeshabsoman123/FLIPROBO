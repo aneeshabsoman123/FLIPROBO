{
 "cells": [
  {
   "cell_type": "markdown",
   "metadata": {},
   "source": [
    "1. B)𝑂(𝑛)\n"
   ]
  },
  {
   "cell_type": "markdown",
   "metadata": {},
   "source": [
    "2. C)Polynomial regression"
   ]
  },
  {
   "cell_type": "markdown",
   "metadata": {},
   "source": [
    "3. B)Gradient Descent"
   ]
  },
  {
   "cell_type": "markdown",
   "metadata": {},
   "source": [
    "4. C)Lasso"
   ]
  },
  {
   "cell_type": "markdown",
   "metadata": {},
   "source": [
    "5. D)All of the above"
   ]
  },
  {
   "cell_type": "markdown",
   "metadata": {},
   "source": [
    "6. B)False"
   ]
  },
  {
   "cell_type": "markdown",
   "metadata": {},
   "source": [
    "7. C)It does not matter if half is there or not"
   ]
  },
  {
   "cell_type": "markdown",
   "metadata": {},
   "source": [
    "8. B)Correlation"
   ]
  },
  {
   "cell_type": "markdown",
   "metadata": {},
   "source": [
    "9. C)We need to iterate"
   ]
  },
  {
   "cell_type": "markdown",
   "metadata": {},
   "source": [
    "10. A) Linear regression with high bias and low variance"
   ]
  },
  {
   "cell_type": "markdown",
   "metadata": {},
   "source": [
    "11. D)No inference can be made from the regression"
   ]
  },
  {
   "cell_type": "markdown",
   "metadata": {},
   "source": [
    "12. The linear regression training algorithms that can be used are:\n",
    "\n",
    "a.Batch gradient descent\n",
    "\n",
    "b.Stochastic gradient descent(SGD)\n",
    "\n",
    "c.mini batch gradient descent(MBGD)\n",
    "\n",
    "The normal equations method will not be a good choice because it is computationally ineffience due to it computational complexity which comes from the inverse operation on an n*n matrix\n",
    "\n",
    "The SGD and MBGD method will be good because neither of them need to load the entire dataset into menmory to take 1 step pf gradient descent\n",
    "\n",
    "\n"
   ]
  },
  {
   "cell_type": "markdown",
   "metadata": {},
   "source": [
    "13."
   ]
  }
 ],
 "metadata": {
  "kernelspec": {
   "display_name": "Python 3",
   "language": "python",
   "name": "python3"
  },
  "language_info": {
   "codemirror_mode": {
    "name": "ipython",
    "version": 3
   },
   "file_extension": ".py",
   "mimetype": "text/x-python",
   "name": "python",
   "nbconvert_exporter": "python",
   "pygments_lexer": "ipython3",
   "version": "3.8.5"
  }
 },
 "nbformat": 4,
 "nbformat_minor": 4
}
